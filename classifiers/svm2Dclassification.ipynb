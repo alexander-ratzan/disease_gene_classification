{
 "cells": [
  {
   "cell_type": "code",
   "execution_count": 3,
   "metadata": {},
   "outputs": [],
   "source": [
    "import matplotlib.pyplot as plt\n",
    "import matplotlib.colors as mcolors\n",
    "import matplotlib.cm as cm\n",
    "\n",
    "import pandas as pd\n",
    "import numpy\n",
    "import math\n",
    "import os\n",
    "\n",
    "import random\n",
    "import umap.umap_ as umap # need to do pip install umap-learn\n",
    "from gensim.models import Word2Vec\n",
    "import networkx as nx\n",
    "\n",
    "from sklearn.model_selection import train_test_split, GridSearchCV, cross_val_score\n",
    "from sklearn.svm import LinearSVC, SVC\n",
    "from sklearn.preprocessing import StandardScaler\n",
    "from sklearn.metrics import accuracy_score, classification_report, confusion_matrix"
   ]
  },
  {
   "cell_type": "code",
   "execution_count": 4,
   "metadata": {},
   "outputs": [
    {
     "name": "stderr",
     "output_type": "stream",
     "text": [
      "/var/folders/6q/0qnxsny943385fwzz738241c0000gn/T/ipykernel_9502/4103866634.py:2: DtypeWarning: Columns (8) have mixed types. Specify dtype option on import or set low_memory=False.\n",
      "  edge_df = pd.read_csv(\"2024_04_24_meta_edge_sourcetarget_disease_pub_pli_reciprocal.csv\")\n"
     ]
    },
    {
     "data": {
      "text/html": [
       "<div>\n",
       "<style scoped>\n",
       "    .dataframe tbody tr th:only-of-type {\n",
       "        vertical-align: middle;\n",
       "    }\n",
       "\n",
       "    .dataframe tbody tr th {\n",
       "        vertical-align: top;\n",
       "    }\n",
       "\n",
       "    .dataframe thead th {\n",
       "        text-align: right;\n",
       "    }\n",
       "</style>\n",
       "<table border=\"1\" class=\"dataframe\">\n",
       "  <thead>\n",
       "    <tr style=\"text-align: right;\">\n",
       "      <th></th>\n",
       "      <th>symbol</th>\n",
       "      <th>disease_assoc_cat</th>\n",
       "      <th>publication_count</th>\n",
       "      <th>ortholog_count</th>\n",
       "      <th>all_ortho_count</th>\n",
       "    </tr>\n",
       "    <tr>\n",
       "      <th>id</th>\n",
       "      <th></th>\n",
       "      <th></th>\n",
       "      <th></th>\n",
       "      <th></th>\n",
       "      <th></th>\n",
       "    </tr>\n",
       "  </thead>\n",
       "  <tbody>\n",
       "    <tr>\n",
       "      <th>7414</th>\n",
       "      <td>VCL</td>\n",
       "      <td>disease_assoc</td>\n",
       "      <td>279</td>\n",
       "      <td>5</td>\n",
       "      <td>{'hsapien': {'entrezid': 7414, 'symbol': 'VCL'...</td>\n",
       "    </tr>\n",
       "    <tr>\n",
       "      <th>4626</th>\n",
       "      <td>MYH8</td>\n",
       "      <td>disease_assoc</td>\n",
       "      <td>36</td>\n",
       "      <td>4</td>\n",
       "      <td>{'hsapien': {'entrezid': 4626, 'symbol': 'MYH8...</td>\n",
       "    </tr>\n",
       "    <tr>\n",
       "      <th>9722</th>\n",
       "      <td>NOS1AP</td>\n",
       "      <td>disease_assoc</td>\n",
       "      <td>141</td>\n",
       "      <td>5</td>\n",
       "      <td>{'hsapien': {'entrezid': 9722, 'symbol': 'NOS1...</td>\n",
       "    </tr>\n",
       "    <tr>\n",
       "      <th>9891</th>\n",
       "      <td>NUAK1</td>\n",
       "      <td>non_disease_assoc</td>\n",
       "      <td>70</td>\n",
       "      <td>5</td>\n",
       "      <td>{'hsapien': {'entrezid': 9891, 'symbol': 'NUAK...</td>\n",
       "    </tr>\n",
       "    <tr>\n",
       "      <th>81788</th>\n",
       "      <td>NUAK2</td>\n",
       "      <td>disease_assoc</td>\n",
       "      <td>46</td>\n",
       "      <td>2</td>\n",
       "      <td>{'hsapien': {'entrezid': 81788, 'symbol': 'NUA...</td>\n",
       "    </tr>\n",
       "  </tbody>\n",
       "</table>\n",
       "</div>"
      ],
      "text/plain": [
       "       symbol  disease_assoc_cat  publication_count  ortholog_count  \\\n",
       "id                                                                    \n",
       "7414      VCL      disease_assoc                279               5   \n",
       "4626     MYH8      disease_assoc                 36               4   \n",
       "9722   NOS1AP      disease_assoc                141               5   \n",
       "9891    NUAK1  non_disease_assoc                 70               5   \n",
       "81788   NUAK2      disease_assoc                 46               2   \n",
       "\n",
       "                                         all_ortho_count  \n",
       "id                                                        \n",
       "7414   {'hsapien': {'entrezid': 7414, 'symbol': 'VCL'...  \n",
       "4626   {'hsapien': {'entrezid': 4626, 'symbol': 'MYH8...  \n",
       "9722   {'hsapien': {'entrezid': 9722, 'symbol': 'NOS1...  \n",
       "9891   {'hsapien': {'entrezid': 9891, 'symbol': 'NUAK...  \n",
       "81788  {'hsapien': {'entrezid': 81788, 'symbol': 'NUA...  "
      ]
     },
     "execution_count": 4,
     "metadata": {},
     "output_type": "execute_result"
    }
   ],
   "source": [
    "node_df = pd.read_csv(\"2024_05_05_meta_node_data.csv\")\n",
    "edge_df = pd.read_csv(\"2024_04_24_meta_edge_sourcetarget_disease_pub_pli_reciprocal.csv\")\n",
    "geneGraph = nx.DiGraph()\n",
    "%run vizfunctions.ipynb\n",
    "node_df.set_index('id',inplace=True)\n",
    "node_df.head()"
   ]
  },
  {
   "cell_type": "code",
   "execution_count": 3,
   "metadata": {},
   "outputs": [],
   "source": [
    "# # Removing all non_omim genes for training/testing\n",
    "# edge_df = edge_df[\n",
    "#     (edge_df['source_disease_assoc_cat'] != 'non_omim') &\n",
    "#     (edge_df['target_disease_assoc_cat'] != 'non_omim')\n",
    "# ]"
   ]
  },
  {
   "cell_type": "code",
   "execution_count": 18,
   "metadata": {},
   "outputs": [],
   "source": [
    "# Generating vectors\n",
    "create_graph(100000)   # 1048576\n",
    "walks = generate_random_walks(geneGraph, 25, 50, 0.5, 0.5)\n",
    "str_walks = [[str(n) for n in walk] for walk in walks]\n",
    "\n",
    "# Removing all non_OMIM nodes\n",
    "# for key, value in ids_to_vectors.items():\n",
    "#     if node_df[key]['disease_assoc_cat'] == 'non_omim':\n",
    "#         vectors.\n",
    "\n",
    "\n",
    "# int_node_ids = []\n",
    "# for node_id in node_ids:\n",
    "#     int_node_ids.append(int(node_id))\n",
    "# int_node_ids = numpy.array(int_node_ids)\n",
    "\n",
    "# 10000 -- 1 min 5 sec\n",
    "# 100000 -- 1124 min 10 sec\n"
   ]
  },
  {
   "cell_type": "code",
   "execution_count": 24,
   "metadata": {},
   "outputs": [],
   "source": [
    "model = Word2Vec(str_walks, vector_size = 128, window=5, min_count=0, sg=0, workers=2, hs=0, epochs=1)\n",
    "node_ids = list(model.wv.index_to_key)  # node ids\n",
    "vectors = (model.wv.vectors) # vectors\n",
    "ids_to_vectors = dict(zip(node_ids, list(vectors)))\n",
    "# dimensionality reduction\n",
    "umap_embeddings_2d = umap.UMAP(n_neighbors=80, min_dist=0.25, n_components=2, metric='euclidean').fit_transform(vectors)\n",
    "\n",
    "# Extracting vector and corresponding node\n",
    "int_node_ids = [int(node_ids[i]) for i in range(len(node_ids))]"
   ]
  },
  {
   "cell_type": "code",
   "execution_count": 7,
   "metadata": {},
   "outputs": [
    {
     "name": "stdout",
     "output_type": "stream",
     "text": [
      "Number of disease associated genes: 3341\n",
      "Number of non disease associated genes: 5986\n",
      "Chance of randomly labeling correcting: 0.0\n"
     ]
    }
   ],
   "source": [
    "disease_association = []\n",
    "not_disease_associated = []\n",
    "for index, row in node_df.iterrows():\n",
    "    if index in geneGraph.nodes:\n",
    "        if row['disease_assoc_cat'] == 'disease_assoc':\n",
    "            disease_association.append(row)\n",
    "        elif row['disease_assoc_cat'] == 'non_disease_assoc':\n",
    "            not_disease_associated.append(row)\n",
    "\n",
    "n = len(disease_association)+len(not_disease_associated)\n",
    "k = len(disease_association)\n",
    "possibilities = math.comb(n,k)\n",
    "\n",
    "print(\"Number of disease associated genes:\",len(disease_association))\n",
    "print(\"Number of non disease associated genes:\", len(not_disease_associated))\n",
    "print(\"Chance of randomly labeling correcting:\", 1/possibilities)"
   ]
  },
  {
   "cell_type": "code",
   "execution_count": 25,
   "metadata": {},
   "outputs": [],
   "source": [
    "# Data preprocessing\n",
    "\n",
    "# Creating a dataset with just the genes, classification, and vectors\n",
    "vector_data = pd.DataFrame(umap_embeddings_2d)\n",
    "disease_assoc_cat = numpy.array([node_df.loc[node_id]['disease_assoc_cat'] for node_id in int_node_ids])\n",
    "publication_count = numpy.array([node_df.loc[node_id]['publication_count'] for node_id in int_node_ids])\n",
    "ortholog_count = numpy.array([node_df.loc[node_id]['ortholog_count'] for node_id in int_node_ids])\n",
    "all_ortho_count = numpy.array([node_df.loc[node_id]['all_ortho_count'] for node_id in int_node_ids])\n",
    "\n",
    "vector_data['gene'] = int_node_ids\n",
    "# vector_data['publication count'] = publication_count\n",
    "# vector_data['ortholog_count'] = ortholog_count\n",
    "# vector_data['all_ortho_count'] = all_ortho_count\n",
    "vector_data['disease_assoc_cat'] = disease_assoc_cat\n",
    "\n",
    "vector_data.set_index('gene',inplace=True)\n",
    "\n",
    "# Creating features\n",
    "X = vector_data.iloc[:, :-1].values    # Taking vectors as input\n",
    "y = vector_data['disease_assoc_cat'].values  # Taking disease association as output\n",
    "\n",
    "# Splitting data\n",
    "X_train, X_test, y_train, y_test = train_test_split(X, y, train_size = 0.8)\n",
    "\n",
    "# Feature scaling\n",
    "scaler = StandardScaler()\n",
    "X_train_scaled = scaler.fit_transform(X_train)\n",
    "X_test_scaled = scaler.transform(X_test)"
   ]
  },
  {
   "cell_type": "code",
   "execution_count": 26,
   "metadata": {},
   "outputs": [
    {
     "data": {
      "text/html": [
       "<div>\n",
       "<style scoped>\n",
       "    .dataframe tbody tr th:only-of-type {\n",
       "        vertical-align: middle;\n",
       "    }\n",
       "\n",
       "    .dataframe tbody tr th {\n",
       "        vertical-align: top;\n",
       "    }\n",
       "\n",
       "    .dataframe thead th {\n",
       "        text-align: right;\n",
       "    }\n",
       "</style>\n",
       "<table border=\"1\" class=\"dataframe\">\n",
       "  <thead>\n",
       "    <tr style=\"text-align: right;\">\n",
       "      <th></th>\n",
       "      <th>0</th>\n",
       "      <th>1</th>\n",
       "      <th>disease_assoc_cat</th>\n",
       "    </tr>\n",
       "    <tr>\n",
       "      <th>gene</th>\n",
       "      <th></th>\n",
       "      <th></th>\n",
       "      <th></th>\n",
       "    </tr>\n",
       "  </thead>\n",
       "  <tbody>\n",
       "    <tr>\n",
       "      <th>7414</th>\n",
       "      <td>-1.341389</td>\n",
       "      <td>2.148989</td>\n",
       "      <td>disease_assoc</td>\n",
       "    </tr>\n",
       "    <tr>\n",
       "      <th>7341</th>\n",
       "      <td>-3.081195</td>\n",
       "      <td>2.787206</td>\n",
       "      <td>disease_assoc</td>\n",
       "    </tr>\n",
       "    <tr>\n",
       "      <th>54514</th>\n",
       "      <td>-2.952746</td>\n",
       "      <td>1.726863</td>\n",
       "      <td>non_disease_assoc</td>\n",
       "    </tr>\n",
       "    <tr>\n",
       "      <th>1739</th>\n",
       "      <td>-2.755191</td>\n",
       "      <td>2.222238</td>\n",
       "      <td>non_disease_assoc</td>\n",
       "    </tr>\n",
       "    <tr>\n",
       "      <th>1742</th>\n",
       "      <td>-2.856904</td>\n",
       "      <td>2.131468</td>\n",
       "      <td>disease_assoc</td>\n",
       "    </tr>\n",
       "  </tbody>\n",
       "</table>\n",
       "</div>"
      ],
      "text/plain": [
       "              0         1  disease_assoc_cat\n",
       "gene                                        \n",
       "7414  -1.341389  2.148989      disease_assoc\n",
       "7341  -3.081195  2.787206      disease_assoc\n",
       "54514 -2.952746  1.726863  non_disease_assoc\n",
       "1739  -2.755191  2.222238  non_disease_assoc\n",
       "1742  -2.856904  2.131468      disease_assoc"
      ]
     },
     "execution_count": 26,
     "metadata": {},
     "output_type": "execute_result"
    }
   ],
   "source": [
    "vector_data.head()"
   ]
  },
  {
   "cell_type": "code",
   "execution_count": 27,
   "metadata": {},
   "outputs": [
    {
     "name": "stdout",
     "output_type": "stream",
     "text": [
      "Cross-validation accuracies: [0.59411765 0.59411765 0.59411765 0.59411765 0.59411765 0.59411765\n",
      " 0.59332024 0.59332024 0.59332024 0.59332024]\n",
      "Mean cross-validation accuracy: 0.5937986825378483\n",
      "Accuracy: 0.6059654631083202\n",
      "[[  0 444   0]\n",
      " [  0 772   0]\n",
      " [  0  58   0]]\n"
     ]
    }
   ],
   "source": [
    "# Linear SVC\n",
    "# Initiatlize classifier\n",
    "svm_model = LinearSVC()\n",
    "\n",
    "# Perform cross-validation\n",
    "cv_scores = cross_val_score(svm_model, X_train_scaled, y_train, cv=10, scoring='accuracy')\n",
    "\n",
    "# Print cross-validation scores\n",
    "print(\"Cross-validation accuracies:\", cv_scores)\n",
    "print(\"Mean cross-validation accuracy:\", cv_scores.mean())\n",
    "\n",
    "# Train classifier\n",
    "svm_model.fit(X_train_scaled, y_train)\n",
    "\n",
    "# Evaluating classifier\n",
    "accuracy = svm_model.score(X_test, y_test)\n",
    "print(f'Accuracy: {accuracy}')\n",
    "\n",
    "# Confusion matrix\n",
    "y_pred = svm_model.predict(X_test)\n",
    "cm = confusion_matrix(y_test, y_pred)\n",
    "print(cm)\n",
    "\n",
    "#    vector size       edges    nodes       other features           accuracy               (geneGraph, 50, 10, 0.5, 0.5)\n",
    "#         128         100000   ~9400            none            0.6232114467408585\n",
    "#         128         100000   ~9400    pub_count, ortho count  0.3783783783783784\n",
    "#         512         100000   ~9400            none            0.6063492063492063\n",
    "#         512         100000   ~9400    pub_count, ortho count  0.3904761904761905\n",
    "#         64          100000   ~9400            none            0.617879746835443\n",
    "#         64          100000   ~9400    pub_count, ortho count  0.35917721518987344\n",
    "#         256         100000   ~9400            none            0.6232227488151659\n",
    "#         32          100000   ~9400            none            0.6195393169181891\n",
    "\n",
    "\n",
    "#    vector size       edges      nodes       random walk               accuracy               \n",
    "#         128          100000     ~9400     (50, 10, 0.5, 0.5)       0.6232114467408585\n",
    "#         256          100000     ~9400     (50, 10, 0.5, 0.5)       0.6232227488151659\n",
    "#         512          100000     ~9400     (50, 10, 0.5, 0.5)       0.6063492063492063\n",
    "#         64           100000     ~9400     (50, 10, 0.5, 0.5)       0.617879746835443\n",
    "\n",
    "#         64           100000     ~9400     (50, 10, 0.8, 0.4)       0.6283676703645008\n",
    "#         128          100000     ~9400     (50, 10, 0.8, 0.4)       0.6313291139240507\n",
    "#         256          100000     ~9400     (50, 10, 0.8, 0.4)       0.6313291139240507\n",
    "#         512          100000     ~9400     (50, 10, 0.8, 0.4)       0.6006314127861089\n",
    "\n",
    "#         64           100000     ~9400     (50, 10, 0.4, 0.8)       0.6304868316041501\n",
    "#         128          100000     ~9400     (50, 10, 0.4, 0.8)       0.6282051282051282\n",
    "#         256          100000     ~9400     (50, 10, 0.4, 0.8)       0.608\n",
    "#         512          100000     ~9400     (50, 10, 0.4, 0.8)       0.6142172523961661\n",
    "\n",
    "#         512          100000     ~9400     (50, 10, 1, 0.2)         0.629222309505106"
   ]
  },
  {
   "cell_type": "code",
   "execution_count": 28,
   "metadata": {},
   "outputs": [
    {
     "name": "stdout",
     "output_type": "stream",
     "text": [
      "Cross-validation accuracies: [0.59411765 0.59411765 0.59411765 0.59411765 0.59411765 0.59411765\n",
      " 0.59332024 0.59332024 0.59332024 0.59332024]\n",
      "Mean cross-validation accuracy: 0.5937986825378483\n",
      "Accuracy: 0.6059654631083202\n",
      "[[  0 444   0]\n",
      " [  0 772   0]\n",
      " [  0  58   0]]\n"
     ]
    }
   ],
   "source": [
    "# Kernel SVC\n",
    "\n",
    "# Initialize classifier\n",
    "kernelsvc_model = SVC()\n",
    "\n",
    "# Perform cross-validation\n",
    "kernel_cv_scores = cross_val_score(kernelsvc_model, X_train_scaled, y_train, cv=10, scoring='accuracy')\n",
    "\n",
    "# Print cross-validation scores\n",
    "print(\"Cross-validation accuracies:\", kernel_cv_scores)\n",
    "print(\"Mean cross-validation accuracy:\", kernel_cv_scores.mean())\n",
    "\n",
    "# Train classifier\n",
    "kernelsvc_model.fit(X_train_scaled, y_train)\n",
    "\n",
    "# Evaluating classifier\n",
    "accuracy = kernelsvc_model.score(X_test, y_test)\n",
    "print(f'Accuracy: {accuracy}')\n",
    "\n",
    "# Confusion matrix\n",
    "y_pred = kernelsvc_model.predict(X_test)\n",
    "cm = confusion_matrix(y_test, y_pred)\n",
    "print(cm)"
   ]
  },
  {
   "cell_type": "code",
   "execution_count": 52,
   "metadata": {},
   "outputs": [
    {
     "name": "stdout",
     "output_type": "stream",
     "text": [
      "Fitting 5 folds for each of 150 candidates, totalling 750 fits\n",
      "[CV 1/5] END C=0.1, loss=hinge, max_iter=1000, tol=1;, score=0.624 total time=   0.2s\n",
      "[CV 2/5] END C=0.1, loss=hinge, max_iter=1000, tol=1;, score=0.629 total time=   0.2s\n",
      "[CV 3/5] END C=0.1, loss=hinge, max_iter=1000, tol=1;, score=0.626 total time=   0.2s\n",
      "[CV 4/5] END C=0.1, loss=hinge, max_iter=1000, tol=1;, score=0.625 total time=   0.2s\n",
      "[CV 5/5] END C=0.1, loss=hinge, max_iter=1000, tol=1;, score=0.627 total time=   0.2s\n",
      "[CV 1/5] END C=0.1, loss=hinge, max_iter=1000, tol=0.1;, score=0.625 total time=   0.4s\n",
      "[CV 2/5] END C=0.1, loss=hinge, max_iter=1000, tol=0.1;, score=0.629 total time=   0.4s\n",
      "[CV 3/5] END C=0.1, loss=hinge, max_iter=1000, tol=0.1;, score=0.626 total time=   0.4s\n",
      "[CV 4/5] END C=0.1, loss=hinge, max_iter=1000, tol=0.1;, score=0.625 total time=   0.5s\n",
      "[CV 5/5] END C=0.1, loss=hinge, max_iter=1000, tol=0.1;, score=0.626 total time=   0.5s\n",
      "[CV 1/5] END C=0.1, loss=hinge, max_iter=1000, tol=0.01;, score=0.625 total time=   0.9s\n",
      "[CV 2/5] END C=0.1, loss=hinge, max_iter=1000, tol=0.01;, score=0.629 total time=   0.7s\n",
      "[CV 3/5] END C=0.1, loss=hinge, max_iter=1000, tol=0.01;, score=0.626 total time=   1.4s\n",
      "[CV 4/5] END C=0.1, loss=hinge, max_iter=1000, tol=0.01;, score=0.625 total time=   0.9s\n",
      "[CV 5/5] END C=0.1, loss=hinge, max_iter=1000, tol=0.01;, score=0.626 total time=   1.1s\n"
     ]
    },
    {
     "name": "stderr",
     "output_type": "stream",
     "text": [
      "/Users/anusha/Desktop/Neuroinformatics_Internship/HopkinsGeneClassificationProj/env/lib/python3.12/site-packages/sklearn/svm/_base.py:1235: ConvergenceWarning: Liblinear failed to converge, increase the number of iterations.\n",
      "  warnings.warn(\n"
     ]
    },
    {
     "name": "stdout",
     "output_type": "stream",
     "text": [
      "[CV 1/5] END C=0.1, loss=hinge, max_iter=1000, tol=0.001;, score=0.625 total time=   1.2s\n",
      "[CV 2/5] END C=0.1, loss=hinge, max_iter=1000, tol=0.001;, score=0.629 total time=   1.4s\n"
     ]
    },
    {
     "name": "stderr",
     "output_type": "stream",
     "text": [
      "/Users/anusha/Desktop/Neuroinformatics_Internship/HopkinsGeneClassificationProj/env/lib/python3.12/site-packages/sklearn/svm/_base.py:1235: ConvergenceWarning: Liblinear failed to converge, increase the number of iterations.\n",
      "  warnings.warn(\n"
     ]
    },
    {
     "name": "stdout",
     "output_type": "stream",
     "text": [
      "[CV 3/5] END C=0.1, loss=hinge, max_iter=1000, tol=0.001;, score=0.626 total time=   2.2s\n"
     ]
    },
    {
     "name": "stderr",
     "output_type": "stream",
     "text": [
      "/Users/anusha/Desktop/Neuroinformatics_Internship/HopkinsGeneClassificationProj/env/lib/python3.12/site-packages/sklearn/svm/_base.py:1235: ConvergenceWarning: Liblinear failed to converge, increase the number of iterations.\n",
      "  warnings.warn(\n"
     ]
    },
    {
     "name": "stdout",
     "output_type": "stream",
     "text": [
      "[CV 4/5] END C=0.1, loss=hinge, max_iter=1000, tol=0.001;, score=0.625 total time=   1.5s\n"
     ]
    },
    {
     "name": "stderr",
     "output_type": "stream",
     "text": [
      "/Users/anusha/Desktop/Neuroinformatics_Internship/HopkinsGeneClassificationProj/env/lib/python3.12/site-packages/sklearn/svm/_base.py:1235: ConvergenceWarning: Liblinear failed to converge, increase the number of iterations.\n",
      "  warnings.warn(\n"
     ]
    },
    {
     "name": "stdout",
     "output_type": "stream",
     "text": [
      "[CV 5/5] END C=0.1, loss=hinge, max_iter=1000, tol=0.001;, score=0.626 total time=   1.5s\n"
     ]
    },
    {
     "name": "stderr",
     "output_type": "stream",
     "text": [
      "/Users/anusha/Desktop/Neuroinformatics_Internship/HopkinsGeneClassificationProj/env/lib/python3.12/site-packages/sklearn/svm/_base.py:1235: ConvergenceWarning: Liblinear failed to converge, increase the number of iterations.\n",
      "  warnings.warn(\n"
     ]
    },
    {
     "name": "stdout",
     "output_type": "stream",
     "text": [
      "[CV 1/5] END C=0.1, loss=hinge, max_iter=1000, tol=0.0001;, score=0.624 total time=   2.6s\n"
     ]
    },
    {
     "name": "stderr",
     "output_type": "stream",
     "text": [
      "/Users/anusha/Desktop/Neuroinformatics_Internship/HopkinsGeneClassificationProj/env/lib/python3.12/site-packages/sklearn/svm/_base.py:1235: ConvergenceWarning: Liblinear failed to converge, increase the number of iterations.\n",
      "  warnings.warn(\n"
     ]
    },
    {
     "name": "stdout",
     "output_type": "stream",
     "text": [
      "[CV 2/5] END C=0.1, loss=hinge, max_iter=1000, tol=0.0001;, score=0.629 total time=   1.5s\n"
     ]
    },
    {
     "name": "stderr",
     "output_type": "stream",
     "text": [
      "/Users/anusha/Desktop/Neuroinformatics_Internship/HopkinsGeneClassificationProj/env/lib/python3.12/site-packages/sklearn/svm/_base.py:1235: ConvergenceWarning: Liblinear failed to converge, increase the number of iterations.\n",
      "  warnings.warn(\n"
     ]
    },
    {
     "name": "stdout",
     "output_type": "stream",
     "text": [
      "[CV 3/5] END C=0.1, loss=hinge, max_iter=1000, tol=0.0001;, score=0.626 total time=   4.0s\n"
     ]
    },
    {
     "name": "stderr",
     "output_type": "stream",
     "text": [
      "/Users/anusha/Desktop/Neuroinformatics_Internship/HopkinsGeneClassificationProj/env/lib/python3.12/site-packages/sklearn/svm/_base.py:1235: ConvergenceWarning: Liblinear failed to converge, increase the number of iterations.\n",
      "  warnings.warn(\n"
     ]
    },
    {
     "name": "stdout",
     "output_type": "stream",
     "text": [
      "[CV 4/5] END C=0.1, loss=hinge, max_iter=1000, tol=0.0001;, score=0.625 total time=   1.6s\n"
     ]
    },
    {
     "name": "stderr",
     "output_type": "stream",
     "text": [
      "/Users/anusha/Desktop/Neuroinformatics_Internship/HopkinsGeneClassificationProj/env/lib/python3.12/site-packages/sklearn/svm/_base.py:1235: ConvergenceWarning: Liblinear failed to converge, increase the number of iterations.\n",
      "  warnings.warn(\n"
     ]
    },
    {
     "name": "stdout",
     "output_type": "stream",
     "text": [
      "[CV 5/5] END C=0.1, loss=hinge, max_iter=1000, tol=0.0001;, score=0.626 total time=   1.8s\n",
      "[CV 1/5] END C=0.1, loss=hinge, max_iter=3000, tol=1;, score=0.625 total time=   0.2s\n",
      "[CV 2/5] END C=0.1, loss=hinge, max_iter=3000, tol=1;, score=0.626 total time=   0.3s\n",
      "[CV 3/5] END C=0.1, loss=hinge, max_iter=3000, tol=1;, score=0.626 total time=   0.3s\n",
      "[CV 4/5] END C=0.1, loss=hinge, max_iter=3000, tol=1;, score=0.625 total time=   0.3s\n",
      "[CV 5/5] END C=0.1, loss=hinge, max_iter=3000, tol=1;, score=0.627 total time=   0.2s\n",
      "[CV 1/5] END C=0.1, loss=hinge, max_iter=3000, tol=0.1;, score=0.625 total time=   0.7s\n",
      "[CV 2/5] END C=0.1, loss=hinge, max_iter=3000, tol=0.1;, score=0.629 total time=   0.5s\n",
      "[CV 3/5] END C=0.1, loss=hinge, max_iter=3000, tol=0.1;, score=0.626 total time=   0.5s\n",
      "[CV 4/5] END C=0.1, loss=hinge, max_iter=3000, tol=0.1;, score=0.625 total time=   0.5s\n",
      "[CV 5/5] END C=0.1, loss=hinge, max_iter=3000, tol=0.1;, score=0.626 total time=   0.4s\n",
      "[CV 1/5] END C=0.1, loss=hinge, max_iter=3000, tol=0.01;, score=0.625 total time=   0.8s\n",
      "[CV 2/5] END C=0.1, loss=hinge, max_iter=3000, tol=0.01;, score=0.629 total time=   0.7s\n",
      "[CV 3/5] END C=0.1, loss=hinge, max_iter=3000, tol=0.01;, score=0.626 total time=   1.3s\n",
      "[CV 4/5] END C=0.1, loss=hinge, max_iter=3000, tol=0.01;, score=0.625 total time=   1.8s\n",
      "[CV 5/5] END C=0.1, loss=hinge, max_iter=3000, tol=0.01;, score=0.626 total time=   1.0s\n",
      "[CV 1/5] END C=0.1, loss=hinge, max_iter=3000, tol=0.001;, score=0.625 total time=   1.8s\n",
      "[CV 2/5] END C=0.1, loss=hinge, max_iter=3000, tol=0.001;, score=0.629 total time=   2.1s\n",
      "[CV 3/5] END C=0.1, loss=hinge, max_iter=3000, tol=0.001;, score=0.626 total time=   3.3s\n",
      "[CV 4/5] END C=0.1, loss=hinge, max_iter=3000, tol=0.001;, score=0.625 total time=   1.6s\n",
      "[CV 5/5] END C=0.1, loss=hinge, max_iter=3000, tol=0.001;, score=0.626 total time=   2.0s\n",
      "[CV 1/5] END C=0.1, loss=hinge, max_iter=3000, tol=0.0001;, score=0.625 total time=   3.8s\n"
     ]
    },
    {
     "name": "stderr",
     "output_type": "stream",
     "text": [
      "/Users/anusha/Desktop/Neuroinformatics_Internship/HopkinsGeneClassificationProj/env/lib/python3.12/site-packages/sklearn/svm/_base.py:1235: ConvergenceWarning: Liblinear failed to converge, increase the number of iterations.\n",
      "  warnings.warn(\n"
     ]
    },
    {
     "name": "stdout",
     "output_type": "stream",
     "text": [
      "[CV 2/5] END C=0.1, loss=hinge, max_iter=3000, tol=0.0001;, score=0.629 total time=   2.3s\n"
     ]
    },
    {
     "name": "stderr",
     "output_type": "stream",
     "text": [
      "/Users/anusha/Desktop/Neuroinformatics_Internship/HopkinsGeneClassificationProj/env/lib/python3.12/site-packages/sklearn/svm/_base.py:1235: ConvergenceWarning: Liblinear failed to converge, increase the number of iterations.\n",
      "  warnings.warn(\n"
     ]
    },
    {
     "name": "stdout",
     "output_type": "stream",
     "text": [
      "[CV 3/5] END C=0.1, loss=hinge, max_iter=3000, tol=0.0001;, score=0.626 total time=   5.7s\n"
     ]
    },
    {
     "name": "stderr",
     "output_type": "stream",
     "text": [
      "/Users/anusha/Desktop/Neuroinformatics_Internship/HopkinsGeneClassificationProj/env/lib/python3.12/site-packages/sklearn/svm/_base.py:1235: ConvergenceWarning: Liblinear failed to converge, increase the number of iterations.\n",
      "  warnings.warn(\n"
     ]
    },
    {
     "name": "stdout",
     "output_type": "stream",
     "text": [
      "[CV 4/5] END C=0.1, loss=hinge, max_iter=3000, tol=0.0001;, score=0.625 total time=   2.4s\n"
     ]
    },
    {
     "name": "stderr",
     "output_type": "stream",
     "text": [
      "/Users/anusha/Desktop/Neuroinformatics_Internship/HopkinsGeneClassificationProj/env/lib/python3.12/site-packages/sklearn/svm/_base.py:1235: ConvergenceWarning: Liblinear failed to converge, increase the number of iterations.\n",
      "  warnings.warn(\n"
     ]
    },
    {
     "name": "stdout",
     "output_type": "stream",
     "text": [
      "[CV 5/5] END C=0.1, loss=hinge, max_iter=3000, tol=0.0001;, score=0.626 total time=   2.4s\n",
      "[CV 1/5] END C=0.1, loss=hinge, max_iter=5000, tol=1;, score=0.625 total time=   0.2s\n",
      "[CV 2/5] END C=0.1, loss=hinge, max_iter=5000, tol=1;, score=0.627 total time=   0.2s\n",
      "[CV 3/5] END C=0.1, loss=hinge, max_iter=5000, tol=1;, score=0.626 total time=   0.2s\n",
      "[CV 4/5] END C=0.1, loss=hinge, max_iter=5000, tol=1;, score=0.625 total time=   0.3s\n",
      "[CV 5/5] END C=0.1, loss=hinge, max_iter=5000, tol=1;, score=0.627 total time=   0.2s\n",
      "[CV 1/5] END C=0.1, loss=hinge, max_iter=5000, tol=0.1;, score=0.624 total time=   0.4s\n",
      "[CV 2/5] END C=0.1, loss=hinge, max_iter=5000, tol=0.1;, score=0.629 total time=   0.4s\n",
      "[CV 3/5] END C=0.1, loss=hinge, max_iter=5000, tol=0.1;, score=0.626 total time=   0.5s\n",
      "[CV 4/5] END C=0.1, loss=hinge, max_iter=5000, tol=0.1;, score=0.625 total time=   0.5s\n",
      "[CV 5/5] END C=0.1, loss=hinge, max_iter=5000, tol=0.1;, score=0.626 total time=   0.4s\n",
      "[CV 1/5] END C=0.1, loss=hinge, max_iter=5000, tol=0.01;, score=0.625 total time=   0.8s\n",
      "[CV 2/5] END C=0.1, loss=hinge, max_iter=5000, tol=0.01;, score=0.629 total time=   0.7s\n",
      "[CV 3/5] END C=0.1, loss=hinge, max_iter=5000, tol=0.01;, score=0.626 total time=   1.3s\n",
      "[CV 4/5] END C=0.1, loss=hinge, max_iter=5000, tol=0.01;, score=0.625 total time=   1.2s\n",
      "[CV 5/5] END C=0.1, loss=hinge, max_iter=5000, tol=0.01;, score=0.626 total time=   0.9s\n",
      "[CV 1/5] END C=0.1, loss=hinge, max_iter=5000, tol=0.001;, score=0.625 total time=   1.2s\n",
      "[CV 2/5] END C=0.1, loss=hinge, max_iter=5000, tol=0.001;, score=0.629 total time=   1.3s\n",
      "[CV 3/5] END C=0.1, loss=hinge, max_iter=5000, tol=0.001;, score=0.626 total time=   2.7s\n",
      "[CV 4/5] END C=0.1, loss=hinge, max_iter=5000, tol=0.001;, score=0.625 total time=   1.8s\n",
      "[CV 5/5] END C=0.1, loss=hinge, max_iter=5000, tol=0.001;, score=0.626 total time=   2.0s\n",
      "[CV 1/5] END C=0.1, loss=hinge, max_iter=5000, tol=0.0001;, score=0.625 total time=   4.9s\n",
      "[CV 2/5] END C=0.1, loss=hinge, max_iter=5000, tol=0.0001;, score=0.629 total time=   2.2s\n"
     ]
    },
    {
     "name": "stderr",
     "output_type": "stream",
     "text": [
      "/Users/anusha/Desktop/Neuroinformatics_Internship/HopkinsGeneClassificationProj/env/lib/python3.12/site-packages/sklearn/svm/_base.py:1235: ConvergenceWarning: Liblinear failed to converge, increase the number of iterations.\n",
      "  warnings.warn(\n"
     ]
    },
    {
     "name": "stdout",
     "output_type": "stream",
     "text": [
      "[CV 3/5] END C=0.1, loss=hinge, max_iter=5000, tol=0.0001;, score=0.626 total time=   4.8s\n",
      "[CV 4/5] END C=0.1, loss=hinge, max_iter=5000, tol=0.0001;, score=0.625 total time=   2.2s\n"
     ]
    },
    {
     "name": "stderr",
     "output_type": "stream",
     "text": [
      "/Users/anusha/Desktop/Neuroinformatics_Internship/HopkinsGeneClassificationProj/env/lib/python3.12/site-packages/sklearn/svm/_base.py:1235: ConvergenceWarning: Liblinear failed to converge, increase the number of iterations.\n",
      "  warnings.warn(\n"
     ]
    },
    {
     "name": "stdout",
     "output_type": "stream",
     "text": [
      "[CV 5/5] END C=0.1, loss=hinge, max_iter=5000, tol=0.0001;, score=0.626 total time=   3.4s\n",
      "[CV 1/5] END C=0.1, loss=squared_hinge, max_iter=1000, tol=1;, score=0.627 total time=   0.2s\n",
      "[CV 2/5] END C=0.1, loss=squared_hinge, max_iter=1000, tol=1;, score=0.620 total time=   0.3s\n",
      "[CV 3/5] END C=0.1, loss=squared_hinge, max_iter=1000, tol=1;, score=0.633 total time=   0.2s\n",
      "[CV 4/5] END C=0.1, loss=squared_hinge, max_iter=1000, tol=1;, score=0.627 total time=   0.2s\n",
      "[CV 5/5] END C=0.1, loss=squared_hinge, max_iter=1000, tol=1;, score=0.625 total time=   0.3s\n",
      "[CV 1/5] END C=0.1, loss=squared_hinge, max_iter=1000, tol=0.1;, score=0.624 total time=   0.4s\n",
      "[CV 2/5] END C=0.1, loss=squared_hinge, max_iter=1000, tol=0.1;, score=0.621 total time=   0.4s\n",
      "[CV 3/5] END C=0.1, loss=squared_hinge, max_iter=1000, tol=0.1;, score=0.638 total time=   0.4s\n",
      "[CV 4/5] END C=0.1, loss=squared_hinge, max_iter=1000, tol=0.1;, score=0.619 total time=   0.3s\n",
      "[CV 5/5] END C=0.1, loss=squared_hinge, max_iter=1000, tol=0.1;, score=0.625 total time=   0.3s\n",
      "[CV 1/5] END C=0.1, loss=squared_hinge, max_iter=1000, tol=0.01;, score=0.620 total time=   0.6s\n",
      "[CV 2/5] END C=0.1, loss=squared_hinge, max_iter=1000, tol=0.01;, score=0.615 total time=   0.7s\n",
      "[CV 3/5] END C=0.1, loss=squared_hinge, max_iter=1000, tol=0.01;, score=0.635 total time=   0.8s\n",
      "[CV 4/5] END C=0.1, loss=squared_hinge, max_iter=1000, tol=0.01;, score=0.628 total time=   0.6s\n",
      "[CV 5/5] END C=0.1, loss=squared_hinge, max_iter=1000, tol=0.01;, score=0.627 total time=   0.8s\n",
      "[CV 1/5] END C=0.1, loss=squared_hinge, max_iter=1000, tol=0.001;, score=0.621 total time=   1.0s\n",
      "[CV 2/5] END C=0.1, loss=squared_hinge, max_iter=1000, tol=0.001;, score=0.616 total time=   0.8s\n",
      "[CV 3/5] END C=0.1, loss=squared_hinge, max_iter=1000, tol=0.001;, score=0.635 total time=   1.0s\n",
      "[CV 4/5] END C=0.1, loss=squared_hinge, max_iter=1000, tol=0.001;, score=0.627 total time=   0.9s\n",
      "[CV 5/5] END C=0.1, loss=squared_hinge, max_iter=1000, tol=0.001;, score=0.627 total time=   0.9s\n",
      "[CV 1/5] END C=0.1, loss=squared_hinge, max_iter=1000, tol=0.0001;, score=0.621 total time=   1.2s\n",
      "[CV 2/5] END C=0.1, loss=squared_hinge, max_iter=1000, tol=0.0001;, score=0.616 total time=   1.2s\n",
      "[CV 3/5] END C=0.1, loss=squared_hinge, max_iter=1000, tol=0.0001;, score=0.635 total time=   1.3s\n",
      "[CV 4/5] END C=0.1, loss=squared_hinge, max_iter=1000, tol=0.0001;, score=0.627 total time=   1.1s\n",
      "[CV 5/5] END C=0.1, loss=squared_hinge, max_iter=1000, tol=0.0001;, score=0.627 total time=   1.1s\n",
      "[CV 1/5] END C=0.1, loss=squared_hinge, max_iter=3000, tol=1;, score=0.627 total time=   0.1s\n",
      "[CV 2/5] END C=0.1, loss=squared_hinge, max_iter=3000, tol=1;, score=0.620 total time=   0.2s\n",
      "[CV 3/5] END C=0.1, loss=squared_hinge, max_iter=3000, tol=1;, score=0.633 total time=   0.3s\n",
      "[CV 4/5] END C=0.1, loss=squared_hinge, max_iter=3000, tol=1;, score=0.627 total time=   0.3s\n",
      "[CV 5/5] END C=0.1, loss=squared_hinge, max_iter=3000, tol=1;, score=0.625 total time=   0.2s\n",
      "[CV 1/5] END C=0.1, loss=squared_hinge, max_iter=3000, tol=0.1;, score=0.624 total time=   0.4s\n",
      "[CV 2/5] END C=0.1, loss=squared_hinge, max_iter=3000, tol=0.1;, score=0.621 total time=   0.5s\n",
      "[CV 3/5] END C=0.1, loss=squared_hinge, max_iter=3000, tol=0.1;, score=0.638 total time=   0.4s\n",
      "[CV 4/5] END C=0.1, loss=squared_hinge, max_iter=3000, tol=0.1;, score=0.619 total time=   0.3s\n",
      "[CV 5/5] END C=0.1, loss=squared_hinge, max_iter=3000, tol=0.1;, score=0.625 total time=   0.4s\n",
      "[CV 1/5] END C=0.1, loss=squared_hinge, max_iter=3000, tol=0.01;, score=0.620 total time=   0.7s\n",
      "[CV 2/5] END C=0.1, loss=squared_hinge, max_iter=3000, tol=0.01;, score=0.615 total time=   0.6s\n",
      "[CV 3/5] END C=0.1, loss=squared_hinge, max_iter=3000, tol=0.01;, score=0.635 total time=   0.7s\n",
      "[CV 4/5] END C=0.1, loss=squared_hinge, max_iter=3000, tol=0.01;, score=0.628 total time=   0.8s\n",
      "[CV 5/5] END C=0.1, loss=squared_hinge, max_iter=3000, tol=0.01;, score=0.627 total time=   0.8s\n",
      "[CV 1/5] END C=0.1, loss=squared_hinge, max_iter=3000, tol=0.001;, score=0.621 total time=   1.0s\n",
      "[CV 2/5] END C=0.1, loss=squared_hinge, max_iter=3000, tol=0.001;, score=0.616 total time=   0.8s\n",
      "[CV 3/5] END C=0.1, loss=squared_hinge, max_iter=3000, tol=0.001;, score=0.635 total time=   1.0s\n",
      "[CV 4/5] END C=0.1, loss=squared_hinge, max_iter=3000, tol=0.001;, score=0.627 total time=   0.9s\n",
      "[CV 5/5] END C=0.1, loss=squared_hinge, max_iter=3000, tol=0.001;, score=0.627 total time=   1.0s\n",
      "[CV 1/5] END C=0.1, loss=squared_hinge, max_iter=3000, tol=0.0001;, score=0.621 total time=   1.4s\n",
      "[CV 2/5] END C=0.1, loss=squared_hinge, max_iter=3000, tol=0.0001;, score=0.616 total time=   1.1s\n",
      "[CV 3/5] END C=0.1, loss=squared_hinge, max_iter=3000, tol=0.0001;, score=0.635 total time=   1.2s\n",
      "[CV 4/5] END C=0.1, loss=squared_hinge, max_iter=3000, tol=0.0001;, score=0.627 total time=   1.1s\n",
      "[CV 5/5] END C=0.1, loss=squared_hinge, max_iter=3000, tol=0.0001;, score=0.627 total time=   1.1s\n",
      "[CV 1/5] END C=0.1, loss=squared_hinge, max_iter=5000, tol=1;, score=0.627 total time=   0.1s\n",
      "[CV 2/5] END C=0.1, loss=squared_hinge, max_iter=5000, tol=1;, score=0.620 total time=   0.2s\n",
      "[CV 3/5] END C=0.1, loss=squared_hinge, max_iter=5000, tol=1;, score=0.633 total time=   0.3s\n",
      "[CV 4/5] END C=0.1, loss=squared_hinge, max_iter=5000, tol=1;, score=0.627 total time=   0.2s\n",
      "[CV 5/5] END C=0.1, loss=squared_hinge, max_iter=5000, tol=1;, score=0.625 total time=   0.2s\n",
      "[CV 1/5] END C=0.1, loss=squared_hinge, max_iter=5000, tol=0.1;, score=0.624 total time=   0.4s\n",
      "[CV 2/5] END C=0.1, loss=squared_hinge, max_iter=5000, tol=0.1;, score=0.621 total time=   0.5s\n",
      "[CV 3/5] END C=0.1, loss=squared_hinge, max_iter=5000, tol=0.1;, score=0.638 total time=   0.4s\n",
      "[CV 4/5] END C=0.1, loss=squared_hinge, max_iter=5000, tol=0.1;, score=0.619 total time=   0.4s\n",
      "[CV 5/5] END C=0.1, loss=squared_hinge, max_iter=5000, tol=0.1;, score=0.625 total time=   0.3s\n",
      "[CV 1/5] END C=0.1, loss=squared_hinge, max_iter=5000, tol=0.01;, score=0.620 total time=   0.7s\n",
      "[CV 2/5] END C=0.1, loss=squared_hinge, max_iter=5000, tol=0.01;, score=0.615 total time=   0.7s\n",
      "[CV 3/5] END C=0.1, loss=squared_hinge, max_iter=5000, tol=0.01;, score=0.635 total time=   0.8s\n",
      "[CV 4/5] END C=0.1, loss=squared_hinge, max_iter=5000, tol=0.01;, score=0.628 total time=   0.7s\n",
      "[CV 5/5] END C=0.1, loss=squared_hinge, max_iter=5000, tol=0.01;, score=0.627 total time=   0.7s\n",
      "[CV 1/5] END C=0.1, loss=squared_hinge, max_iter=5000, tol=0.001;, score=0.621 total time=   1.6s\n",
      "[CV 2/5] END C=0.1, loss=squared_hinge, max_iter=5000, tol=0.001;, score=0.616 total time=   1.7s\n",
      "[CV 3/5] END C=0.1, loss=squared_hinge, max_iter=5000, tol=0.001;, score=0.635 total time=   1.6s\n",
      "[CV 4/5] END C=0.1, loss=squared_hinge, max_iter=5000, tol=0.001;, score=0.627 total time=   1.6s\n",
      "[CV 5/5] END C=0.1, loss=squared_hinge, max_iter=5000, tol=0.001;, score=0.627 total time=   1.0s\n",
      "[CV 1/5] END C=0.1, loss=squared_hinge, max_iter=5000, tol=0.0001;, score=0.621 total time=   1.4s\n",
      "[CV 2/5] END C=0.1, loss=squared_hinge, max_iter=5000, tol=0.0001;, score=0.616 total time=   1.2s\n",
      "[CV 3/5] END C=0.1, loss=squared_hinge, max_iter=5000, tol=0.0001;, score=0.635 total time=   1.2s\n",
      "[CV 4/5] END C=0.1, loss=squared_hinge, max_iter=5000, tol=0.0001;, score=0.627 total time=   1.1s\n",
      "[CV 5/5] END C=0.1, loss=squared_hinge, max_iter=5000, tol=0.0001;, score=0.627 total time=   1.1s\n",
      "[CV 1/5] END C=1, loss=hinge, max_iter=1000, tol=1;, score=0.623 total time=   0.7s\n",
      "[CV 2/5] END C=1, loss=hinge, max_iter=1000, tol=1;, score=0.623 total time=   0.9s\n",
      "[CV 3/5] END C=1, loss=hinge, max_iter=1000, tol=1;, score=0.630 total time=   0.8s\n",
      "[CV 4/5] END C=1, loss=hinge, max_iter=1000, tol=1;, score=0.628 total time=   0.8s\n",
      "[CV 5/5] END C=1, loss=hinge, max_iter=1000, tol=1;, score=0.628 total time=   0.8s\n"
     ]
    },
    {
     "name": "stderr",
     "output_type": "stream",
     "text": [
      "/Users/anusha/Desktop/Neuroinformatics_Internship/HopkinsGeneClassificationProj/env/lib/python3.12/site-packages/sklearn/svm/_base.py:1235: ConvergenceWarning: Liblinear failed to converge, increase the number of iterations.\n",
      "  warnings.warn(\n"
     ]
    },
    {
     "name": "stdout",
     "output_type": "stream",
     "text": [
      "[CV 1/5] END C=1, loss=hinge, max_iter=1000, tol=0.1;, score=0.624 total time=   2.4s\n",
      "[CV 2/5] END C=1, loss=hinge, max_iter=1000, tol=0.1;, score=0.622 total time=   2.7s\n",
      "[CV 3/5] END C=1, loss=hinge, max_iter=1000, tol=0.1;, score=0.631 total time=   2.7s\n",
      "[CV 4/5] END C=1, loss=hinge, max_iter=1000, tol=0.1;, score=0.629 total time=   2.4s\n",
      "[CV 5/5] END C=1, loss=hinge, max_iter=1000, tol=0.1;, score=0.626 total time=   2.5s\n"
     ]
    },
    {
     "name": "stderr",
     "output_type": "stream",
     "text": [
      "/Users/anusha/Desktop/Neuroinformatics_Internship/HopkinsGeneClassificationProj/env/lib/python3.12/site-packages/sklearn/svm/_base.py:1235: ConvergenceWarning: Liblinear failed to converge, increase the number of iterations.\n",
      "  warnings.warn(\n"
     ]
    },
    {
     "name": "stdout",
     "output_type": "stream",
     "text": [
      "[CV 1/5] END C=1, loss=hinge, max_iter=1000, tol=0.01;, score=0.623 total time=   2.7s\n"
     ]
    },
    {
     "name": "stderr",
     "output_type": "stream",
     "text": [
      "/Users/anusha/Desktop/Neuroinformatics_Internship/HopkinsGeneClassificationProj/env/lib/python3.12/site-packages/sklearn/svm/_base.py:1235: ConvergenceWarning: Liblinear failed to converge, increase the number of iterations.\n",
      "  warnings.warn(\n"
     ]
    },
    {
     "name": "stdout",
     "output_type": "stream",
     "text": [
      "[CV 2/5] END C=1, loss=hinge, max_iter=1000, tol=0.01;, score=0.622 total time=   2.9s\n"
     ]
    },
    {
     "name": "stderr",
     "output_type": "stream",
     "text": [
      "/Users/anusha/Desktop/Neuroinformatics_Internship/HopkinsGeneClassificationProj/env/lib/python3.12/site-packages/sklearn/svm/_base.py:1235: ConvergenceWarning: Liblinear failed to converge, increase the number of iterations.\n",
      "  warnings.warn(\n"
     ]
    },
    {
     "name": "stdout",
     "output_type": "stream",
     "text": [
      "[CV 3/5] END C=1, loss=hinge, max_iter=1000, tol=0.01;, score=0.630 total time=   3.5s\n"
     ]
    },
    {
     "name": "stderr",
     "output_type": "stream",
     "text": [
      "/Users/anusha/Desktop/Neuroinformatics_Internship/HopkinsGeneClassificationProj/env/lib/python3.12/site-packages/sklearn/svm/_base.py:1235: ConvergenceWarning: Liblinear failed to converge, increase the number of iterations.\n",
      "  warnings.warn(\n"
     ]
    },
    {
     "name": "stdout",
     "output_type": "stream",
     "text": [
      "[CV 4/5] END C=1, loss=hinge, max_iter=1000, tol=0.01;, score=0.626 total time=   2.9s\n"
     ]
    },
    {
     "name": "stderr",
     "output_type": "stream",
     "text": [
      "/Users/anusha/Desktop/Neuroinformatics_Internship/HopkinsGeneClassificationProj/env/lib/python3.12/site-packages/sklearn/svm/_base.py:1235: ConvergenceWarning: Liblinear failed to converge, increase the number of iterations.\n",
      "  warnings.warn(\n"
     ]
    },
    {
     "name": "stdout",
     "output_type": "stream",
     "text": [
      "[CV 5/5] END C=1, loss=hinge, max_iter=1000, tol=0.01;, score=0.625 total time=   3.1s\n"
     ]
    },
    {
     "name": "stderr",
     "output_type": "stream",
     "text": [
      "/Users/anusha/Desktop/Neuroinformatics_Internship/HopkinsGeneClassificationProj/env/lib/python3.12/site-packages/sklearn/svm/_base.py:1235: ConvergenceWarning: Liblinear failed to converge, increase the number of iterations.\n",
      "  warnings.warn(\n"
     ]
    },
    {
     "name": "stdout",
     "output_type": "stream",
     "text": [
      "[CV 1/5] END C=1, loss=hinge, max_iter=1000, tol=0.001;, score=0.623 total time=   4.5s\n"
     ]
    },
    {
     "name": "stderr",
     "output_type": "stream",
     "text": [
      "/Users/anusha/Desktop/Neuroinformatics_Internship/HopkinsGeneClassificationProj/env/lib/python3.12/site-packages/sklearn/svm/_base.py:1235: ConvergenceWarning: Liblinear failed to converge, increase the number of iterations.\n",
      "  warnings.warn(\n"
     ]
    },
    {
     "name": "stdout",
     "output_type": "stream",
     "text": [
      "[CV 2/5] END C=1, loss=hinge, max_iter=1000, tol=0.001;, score=0.623 total time=   3.9s\n"
     ]
    },
    {
     "name": "stderr",
     "output_type": "stream",
     "text": [
      "/Users/anusha/Desktop/Neuroinformatics_Internship/HopkinsGeneClassificationProj/env/lib/python3.12/site-packages/sklearn/svm/_base.py:1235: ConvergenceWarning: Liblinear failed to converge, increase the number of iterations.\n",
      "  warnings.warn(\n"
     ]
    },
    {
     "name": "stdout",
     "output_type": "stream",
     "text": [
      "[CV 3/5] END C=1, loss=hinge, max_iter=1000, tol=0.001;, score=0.629 total time=   4.2s\n"
     ]
    },
    {
     "name": "stderr",
     "output_type": "stream",
     "text": [
      "/Users/anusha/Desktop/Neuroinformatics_Internship/HopkinsGeneClassificationProj/env/lib/python3.12/site-packages/sklearn/svm/_base.py:1235: ConvergenceWarning: Liblinear failed to converge, increase the number of iterations.\n",
      "  warnings.warn(\n"
     ]
    },
    {
     "name": "stdout",
     "output_type": "stream",
     "text": [
      "[CV 4/5] END C=1, loss=hinge, max_iter=1000, tol=0.001;, score=0.628 total time=   3.3s\n"
     ]
    },
    {
     "name": "stderr",
     "output_type": "stream",
     "text": [
      "/Users/anusha/Desktop/Neuroinformatics_Internship/HopkinsGeneClassificationProj/env/lib/python3.12/site-packages/sklearn/svm/_base.py:1235: ConvergenceWarning: Liblinear failed to converge, increase the number of iterations.\n",
      "  warnings.warn(\n"
     ]
    },
    {
     "name": "stdout",
     "output_type": "stream",
     "text": [
      "[CV 5/5] END C=1, loss=hinge, max_iter=1000, tol=0.001;, score=0.626 total time=   3.7s\n"
     ]
    },
    {
     "name": "stderr",
     "output_type": "stream",
     "text": [
      "/Users/anusha/Desktop/Neuroinformatics_Internship/HopkinsGeneClassificationProj/env/lib/python3.12/site-packages/sklearn/svm/_base.py:1235: ConvergenceWarning: Liblinear failed to converge, increase the number of iterations.\n",
      "  warnings.warn(\n"
     ]
    },
    {
     "name": "stdout",
     "output_type": "stream",
     "text": [
      "[CV 1/5] END C=1, loss=hinge, max_iter=1000, tol=0.0001;, score=0.623 total time=   4.7s\n"
     ]
    },
    {
     "name": "stderr",
     "output_type": "stream",
     "text": [
      "/Users/anusha/Desktop/Neuroinformatics_Internship/HopkinsGeneClassificationProj/env/lib/python3.12/site-packages/sklearn/svm/_base.py:1235: ConvergenceWarning: Liblinear failed to converge, increase the number of iterations.\n",
      "  warnings.warn(\n"
     ]
    },
    {
     "name": "stdout",
     "output_type": "stream",
     "text": [
      "[CV 2/5] END C=1, loss=hinge, max_iter=1000, tol=0.0001;, score=0.622 total time=   3.4s\n"
     ]
    },
    {
     "name": "stderr",
     "output_type": "stream",
     "text": [
      "/Users/anusha/Desktop/Neuroinformatics_Internship/HopkinsGeneClassificationProj/env/lib/python3.12/site-packages/sklearn/svm/_base.py:1235: ConvergenceWarning: Liblinear failed to converge, increase the number of iterations.\n",
      "  warnings.warn(\n"
     ]
    },
    {
     "name": "stdout",
     "output_type": "stream",
     "text": [
      "[CV 3/5] END C=1, loss=hinge, max_iter=1000, tol=0.0001;, score=0.630 total time=   4.1s\n"
     ]
    },
    {
     "name": "stderr",
     "output_type": "stream",
     "text": [
      "/Users/anusha/Desktop/Neuroinformatics_Internship/HopkinsGeneClassificationProj/env/lib/python3.12/site-packages/sklearn/svm/_base.py:1235: ConvergenceWarning: Liblinear failed to converge, increase the number of iterations.\n",
      "  warnings.warn(\n"
     ]
    },
    {
     "name": "stdout",
     "output_type": "stream",
     "text": [
      "[CV 4/5] END C=1, loss=hinge, max_iter=1000, tol=0.0001;, score=0.626 total time=   3.0s\n"
     ]
    },
    {
     "name": "stderr",
     "output_type": "stream",
     "text": [
      "/Users/anusha/Desktop/Neuroinformatics_Internship/HopkinsGeneClassificationProj/env/lib/python3.12/site-packages/sklearn/svm/_base.py:1235: ConvergenceWarning: Liblinear failed to converge, increase the number of iterations.\n",
      "  warnings.warn(\n"
     ]
    },
    {
     "name": "stdout",
     "output_type": "stream",
     "text": [
      "[CV 5/5] END C=1, loss=hinge, max_iter=1000, tol=0.0001;, score=0.626 total time=   3.1s\n",
      "[CV 1/5] END C=1, loss=hinge, max_iter=3000, tol=1;, score=0.625 total time=   0.7s\n",
      "[CV 2/5] END C=1, loss=hinge, max_iter=3000, tol=1;, score=0.622 total time=   0.9s\n",
      "[CV 3/5] END C=1, loss=hinge, max_iter=3000, tol=1;, score=0.629 total time=   0.8s\n",
      "[CV 4/5] END C=1, loss=hinge, max_iter=3000, tol=1;, score=0.627 total time=   0.9s\n",
      "[CV 5/5] END C=1, loss=hinge, max_iter=3000, tol=1;, score=0.627 total time=   0.9s\n",
      "[CV 1/5] END C=1, loss=hinge, max_iter=3000, tol=0.1;, score=0.623 total time=   2.0s\n",
      "[CV 2/5] END C=1, loss=hinge, max_iter=3000, tol=0.1;, score=0.622 total time=   2.3s\n",
      "[CV 3/5] END C=1, loss=hinge, max_iter=3000, tol=0.1;, score=0.631 total time=   2.7s\n",
      "[CV 4/5] END C=1, loss=hinge, max_iter=3000, tol=0.1;, score=0.628 total time=   2.8s\n",
      "[CV 5/5] END C=1, loss=hinge, max_iter=3000, tol=0.1;, score=0.626 total time=   2.4s\n"
     ]
    },
    {
     "name": "stderr",
     "output_type": "stream",
     "text": [
      "/Users/anusha/Desktop/Neuroinformatics_Internship/HopkinsGeneClassificationProj/env/lib/python3.12/site-packages/sklearn/svm/_base.py:1235: ConvergenceWarning: Liblinear failed to converge, increase the number of iterations.\n",
      "  warnings.warn(\n"
     ]
    },
    {
     "name": "stdout",
     "output_type": "stream",
     "text": [
      "[CV 1/5] END C=1, loss=hinge, max_iter=3000, tol=0.01;, score=0.623 total time=   5.1s\n",
      "[CV 2/5] END C=1, loss=hinge, max_iter=3000, tol=0.01;, score=0.622 total time=   3.9s\n"
     ]
    },
    {
     "name": "stderr",
     "output_type": "stream",
     "text": [
      "/Users/anusha/Desktop/Neuroinformatics_Internship/HopkinsGeneClassificationProj/env/lib/python3.12/site-packages/sklearn/svm/_base.py:1235: ConvergenceWarning: Liblinear failed to converge, increase the number of iterations.\n",
      "  warnings.warn(\n"
     ]
    },
    {
     "name": "stdout",
     "output_type": "stream",
     "text": [
      "[CV 3/5] END C=1, loss=hinge, max_iter=3000, tol=0.01;, score=0.630 total time=   5.4s\n",
      "[CV 4/5] END C=1, loss=hinge, max_iter=3000, tol=0.01;, score=0.626 total time=   4.6s\n",
      "[CV 5/5] END C=1, loss=hinge, max_iter=3000, tol=0.01;, score=0.626 total time=   4.4s\n"
     ]
    },
    {
     "name": "stderr",
     "output_type": "stream",
     "text": [
      "/Users/anusha/Desktop/Neuroinformatics_Internship/HopkinsGeneClassificationProj/env/lib/python3.12/site-packages/sklearn/svm/_base.py:1235: ConvergenceWarning: Liblinear failed to converge, increase the number of iterations.\n",
      "  warnings.warn(\n"
     ]
    },
    {
     "name": "stdout",
     "output_type": "stream",
     "text": [
      "[CV 1/5] END C=1, loss=hinge, max_iter=3000, tol=0.001;, score=0.623 total time=   5.6s\n"
     ]
    },
    {
     "name": "stderr",
     "output_type": "stream",
     "text": [
      "/Users/anusha/Desktop/Neuroinformatics_Internship/HopkinsGeneClassificationProj/env/lib/python3.12/site-packages/sklearn/svm/_base.py:1235: ConvergenceWarning: Liblinear failed to converge, increase the number of iterations.\n",
      "  warnings.warn(\n"
     ]
    },
    {
     "name": "stdout",
     "output_type": "stream",
     "text": [
      "[CV 2/5] END C=1, loss=hinge, max_iter=3000, tol=0.001;, score=0.622 total time=   4.6s\n"
     ]
    },
    {
     "name": "stderr",
     "output_type": "stream",
     "text": [
      "/Users/anusha/Desktop/Neuroinformatics_Internship/HopkinsGeneClassificationProj/env/lib/python3.12/site-packages/sklearn/svm/_base.py:1235: ConvergenceWarning: Liblinear failed to converge, increase the number of iterations.\n",
      "  warnings.warn(\n"
     ]
    },
    {
     "name": "stdout",
     "output_type": "stream",
     "text": [
      "[CV 3/5] END C=1, loss=hinge, max_iter=3000, tol=0.001;, score=0.631 total time=   6.5s\n"
     ]
    },
    {
     "name": "stderr",
     "output_type": "stream",
     "text": [
      "/Users/anusha/Desktop/Neuroinformatics_Internship/HopkinsGeneClassificationProj/env/lib/python3.12/site-packages/sklearn/svm/_base.py:1235: ConvergenceWarning: Liblinear failed to converge, increase the number of iterations.\n",
      "  warnings.warn(\n"
     ]
    },
    {
     "name": "stdout",
     "output_type": "stream",
     "text": [
      "[CV 4/5] END C=1, loss=hinge, max_iter=3000, tol=0.001;, score=0.626 total time=   4.4s\n"
     ]
    },
    {
     "name": "stderr",
     "output_type": "stream",
     "text": [
      "/Users/anusha/Desktop/Neuroinformatics_Internship/HopkinsGeneClassificationProj/env/lib/python3.12/site-packages/sklearn/svm/_base.py:1235: ConvergenceWarning: Liblinear failed to converge, increase the number of iterations.\n",
      "  warnings.warn(\n"
     ]
    },
    {
     "name": "stdout",
     "output_type": "stream",
     "text": [
      "[CV 5/5] END C=1, loss=hinge, max_iter=3000, tol=0.001;, score=0.625 total time=   4.6s\n"
     ]
    },
    {
     "name": "stderr",
     "output_type": "stream",
     "text": [
      "/Users/anusha/Desktop/Neuroinformatics_Internship/HopkinsGeneClassificationProj/env/lib/python3.12/site-packages/sklearn/svm/_base.py:1235: ConvergenceWarning: Liblinear failed to converge, increase the number of iterations.\n",
      "  warnings.warn(\n"
     ]
    },
    {
     "name": "stdout",
     "output_type": "stream",
     "text": [
      "[CV 1/5] END C=1, loss=hinge, max_iter=3000, tol=0.0001;, score=0.622 total time=   8.3s\n"
     ]
    },
    {
     "name": "stderr",
     "output_type": "stream",
     "text": [
      "/Users/anusha/Desktop/Neuroinformatics_Internship/HopkinsGeneClassificationProj/env/lib/python3.12/site-packages/sklearn/svm/_base.py:1235: ConvergenceWarning: Liblinear failed to converge, increase the number of iterations.\n",
      "  warnings.warn(\n"
     ]
    },
    {
     "name": "stdout",
     "output_type": "stream",
     "text": [
      "[CV 2/5] END C=1, loss=hinge, max_iter=3000, tol=0.0001;, score=0.623 total time=   4.5s\n"
     ]
    },
    {
     "name": "stderr",
     "output_type": "stream",
     "text": [
      "/Users/anusha/Desktop/Neuroinformatics_Internship/HopkinsGeneClassificationProj/env/lib/python3.12/site-packages/sklearn/svm/_base.py:1235: ConvergenceWarning: Liblinear failed to converge, increase the number of iterations.\n",
      "  warnings.warn(\n"
     ]
    },
    {
     "name": "stdout",
     "output_type": "stream",
     "text": [
      "[CV 3/5] END C=1, loss=hinge, max_iter=3000, tol=0.0001;, score=0.631 total time=   6.9s\n"
     ]
    },
    {
     "name": "stderr",
     "output_type": "stream",
     "text": [
      "/Users/anusha/Desktop/Neuroinformatics_Internship/HopkinsGeneClassificationProj/env/lib/python3.12/site-packages/sklearn/svm/_base.py:1235: ConvergenceWarning: Liblinear failed to converge, increase the number of iterations.\n",
      "  warnings.warn(\n"
     ]
    },
    {
     "name": "stdout",
     "output_type": "stream",
     "text": [
      "[CV 4/5] END C=1, loss=hinge, max_iter=3000, tol=0.0001;, score=0.627 total time=   5.5s\n"
     ]
    },
    {
     "name": "stderr",
     "output_type": "stream",
     "text": [
      "/Users/anusha/Desktop/Neuroinformatics_Internship/HopkinsGeneClassificationProj/env/lib/python3.12/site-packages/sklearn/svm/_base.py:1235: ConvergenceWarning: Liblinear failed to converge, increase the number of iterations.\n",
      "  warnings.warn(\n"
     ]
    },
    {
     "name": "stdout",
     "output_type": "stream",
     "text": [
      "[CV 5/5] END C=1, loss=hinge, max_iter=3000, tol=0.0001;, score=0.626 total time=   4.4s\n",
      "[CV 1/5] END C=1, loss=hinge, max_iter=5000, tol=1;, score=0.624 total time=   0.9s\n",
      "[CV 2/5] END C=1, loss=hinge, max_iter=5000, tol=1;, score=0.621 total time=   0.9s\n",
      "[CV 3/5] END C=1, loss=hinge, max_iter=5000, tol=1;, score=0.630 total time=   0.8s\n",
      "[CV 4/5] END C=1, loss=hinge, max_iter=5000, tol=1;, score=0.626 total time=   1.3s\n",
      "[CV 5/5] END C=1, loss=hinge, max_iter=5000, tol=1;, score=0.628 total time=   0.9s\n",
      "[CV 1/5] END C=1, loss=hinge, max_iter=5000, tol=0.1;, score=0.624 total time=   1.9s\n",
      "[CV 2/5] END C=1, loss=hinge, max_iter=5000, tol=0.1;, score=0.622 total time=   2.7s\n",
      "[CV 3/5] END C=1, loss=hinge, max_iter=5000, tol=0.1;, score=0.631 total time=   2.7s\n",
      "[CV 4/5] END C=1, loss=hinge, max_iter=5000, tol=0.1;, score=0.628 total time=   2.8s\n",
      "[CV 5/5] END C=1, loss=hinge, max_iter=5000, tol=0.1;, score=0.625 total time=   3.2s\n",
      "[CV 1/5] END C=1, loss=hinge, max_iter=5000, tol=0.01;, score=0.623 total time=   4.6s\n",
      "[CV 2/5] END C=1, loss=hinge, max_iter=5000, tol=0.01;, score=0.622 total time=   4.9s\n",
      "[CV 3/5] END C=1, loss=hinge, max_iter=5000, tol=0.01;, score=0.630 total time=   6.9s\n",
      "[CV 4/5] END C=1, loss=hinge, max_iter=5000, tol=0.01;, score=0.626 total time=   6.0s\n",
      "[CV 5/5] END C=1, loss=hinge, max_iter=5000, tol=0.01;, score=0.626 total time=   5.6s\n"
     ]
    },
    {
     "name": "stderr",
     "output_type": "stream",
     "text": [
      "/Users/anusha/Desktop/Neuroinformatics_Internship/HopkinsGeneClassificationProj/env/lib/python3.12/site-packages/sklearn/svm/_base.py:1235: ConvergenceWarning: Liblinear failed to converge, increase the number of iterations.\n",
      "  warnings.warn(\n"
     ]
    },
    {
     "name": "stdout",
     "output_type": "stream",
     "text": [
      "[CV 1/5] END C=1, loss=hinge, max_iter=5000, tol=0.001;, score=0.623 total time=   6.8s\n"
     ]
    },
    {
     "name": "stderr",
     "output_type": "stream",
     "text": [
      "/Users/anusha/Desktop/Neuroinformatics_Internship/HopkinsGeneClassificationProj/env/lib/python3.12/site-packages/sklearn/svm/_base.py:1235: ConvergenceWarning: Liblinear failed to converge, increase the number of iterations.\n",
      "  warnings.warn(\n"
     ]
    },
    {
     "name": "stdout",
     "output_type": "stream",
     "text": [
      "[CV 2/5] END C=1, loss=hinge, max_iter=5000, tol=0.001;, score=0.622 total time=   6.4s\n"
     ]
    },
    {
     "name": "stderr",
     "output_type": "stream",
     "text": [
      "/Users/anusha/Desktop/Neuroinformatics_Internship/HopkinsGeneClassificationProj/env/lib/python3.12/site-packages/sklearn/svm/_base.py:1235: ConvergenceWarning: Liblinear failed to converge, increase the number of iterations.\n",
      "  warnings.warn(\n"
     ]
    },
    {
     "name": "stdout",
     "output_type": "stream",
     "text": [
      "[CV 3/5] END C=1, loss=hinge, max_iter=5000, tol=0.001;, score=0.630 total time=   9.5s\n"
     ]
    },
    {
     "name": "stderr",
     "output_type": "stream",
     "text": [
      "/Users/anusha/Desktop/Neuroinformatics_Internship/HopkinsGeneClassificationProj/env/lib/python3.12/site-packages/sklearn/svm/_base.py:1235: ConvergenceWarning: Liblinear failed to converge, increase the number of iterations.\n",
      "  warnings.warn(\n"
     ]
    },
    {
     "name": "stdout",
     "output_type": "stream",
     "text": [
      "[CV 4/5] END C=1, loss=hinge, max_iter=5000, tol=0.001;, score=0.626 total time=   4.9s\n",
      "[CV 5/5] END C=1, loss=hinge, max_iter=5000, tol=0.001;, score=0.626 total time=   4.6s\n"
     ]
    },
    {
     "name": "stderr",
     "output_type": "stream",
     "text": [
      "/Users/anusha/Desktop/Neuroinformatics_Internship/HopkinsGeneClassificationProj/env/lib/python3.12/site-packages/sklearn/svm/_base.py:1235: ConvergenceWarning: Liblinear failed to converge, increase the number of iterations.\n",
      "  warnings.warn(\n"
     ]
    },
    {
     "name": "stdout",
     "output_type": "stream",
     "text": [
      "[CV 1/5] END C=1, loss=hinge, max_iter=5000, tol=0.0001;, score=0.623 total time=  10.2s\n"
     ]
    },
    {
     "name": "stderr",
     "output_type": "stream",
     "text": [
      "/Users/anusha/Desktop/Neuroinformatics_Internship/HopkinsGeneClassificationProj/env/lib/python3.12/site-packages/sklearn/svm/_base.py:1235: ConvergenceWarning: Liblinear failed to converge, increase the number of iterations.\n",
      "  warnings.warn(\n"
     ]
    },
    {
     "name": "stdout",
     "output_type": "stream",
     "text": [
      "[CV 2/5] END C=1, loss=hinge, max_iter=5000, tol=0.0001;, score=0.622 total time=   5.4s\n"
     ]
    },
    {
     "name": "stderr",
     "output_type": "stream",
     "text": [
      "/Users/anusha/Desktop/Neuroinformatics_Internship/HopkinsGeneClassificationProj/env/lib/python3.12/site-packages/sklearn/svm/_base.py:1235: ConvergenceWarning: Liblinear failed to converge, increase the number of iterations.\n",
      "  warnings.warn(\n"
     ]
    },
    {
     "name": "stdout",
     "output_type": "stream",
     "text": [
      "[CV 3/5] END C=1, loss=hinge, max_iter=5000, tol=0.0001;, score=0.629 total time=   7.4s\n"
     ]
    },
    {
     "name": "stderr",
     "output_type": "stream",
     "text": [
      "/Users/anusha/Desktop/Neuroinformatics_Internship/HopkinsGeneClassificationProj/env/lib/python3.12/site-packages/sklearn/svm/_base.py:1235: ConvergenceWarning: Liblinear failed to converge, increase the number of iterations.\n",
      "  warnings.warn(\n"
     ]
    },
    {
     "name": "stdout",
     "output_type": "stream",
     "text": [
      "[CV 4/5] END C=1, loss=hinge, max_iter=5000, tol=0.0001;, score=0.626 total time=   5.1s\n"
     ]
    },
    {
     "name": "stderr",
     "output_type": "stream",
     "text": [
      "/Users/anusha/Desktop/Neuroinformatics_Internship/HopkinsGeneClassificationProj/env/lib/python3.12/site-packages/sklearn/svm/_base.py:1235: ConvergenceWarning: Liblinear failed to converge, increase the number of iterations.\n",
      "  warnings.warn(\n"
     ]
    },
    {
     "name": "stdout",
     "output_type": "stream",
     "text": [
      "[CV 5/5] END C=1, loss=hinge, max_iter=5000, tol=0.0001;, score=0.626 total time=   4.7s\n",
      "[CV 1/5] END C=1, loss=squared_hinge, max_iter=1000, tol=1;, score=0.627 total time=   0.2s\n",
      "[CV 2/5] END C=1, loss=squared_hinge, max_iter=1000, tol=1;, score=0.620 total time=   0.3s\n",
      "[CV 3/5] END C=1, loss=squared_hinge, max_iter=1000, tol=1;, score=0.633 total time=   0.4s\n",
      "[CV 4/5] END C=1, loss=squared_hinge, max_iter=1000, tol=1;, score=0.627 total time=   0.2s\n",
      "[CV 5/5] END C=1, loss=squared_hinge, max_iter=1000, tol=1;, score=0.625 total time=   0.3s\n",
      "[CV 1/5] END C=1, loss=squared_hinge, max_iter=1000, tol=0.1;, score=0.618 total time=   0.8s\n",
      "[CV 2/5] END C=1, loss=squared_hinge, max_iter=1000, tol=0.1;, score=0.619 total time=   0.6s\n",
      "[CV 3/5] END C=1, loss=squared_hinge, max_iter=1000, tol=0.1;, score=0.634 total time=   0.6s\n",
      "[CV 4/5] END C=1, loss=squared_hinge, max_iter=1000, tol=0.1;, score=0.622 total time=   0.4s\n",
      "[CV 5/5] END C=1, loss=squared_hinge, max_iter=1000, tol=0.1;, score=0.625 total time=   0.4s\n",
      "[CV 1/5] END C=1, loss=squared_hinge, max_iter=1000, tol=0.01;, score=0.619 total time=   2.3s\n",
      "[CV 2/5] END C=1, loss=squared_hinge, max_iter=1000, tol=0.01;, score=0.617 total time=   2.1s\n",
      "[CV 3/5] END C=1, loss=squared_hinge, max_iter=1000, tol=0.01;, score=0.640 total time=   1.9s\n",
      "[CV 4/5] END C=1, loss=squared_hinge, max_iter=1000, tol=0.01;, score=0.639 total time=   2.2s\n",
      "[CV 5/5] END C=1, loss=squared_hinge, max_iter=1000, tol=0.01;, score=0.628 total time=   2.2s\n",
      "[CV 1/5] END C=1, loss=squared_hinge, max_iter=1000, tol=0.001;, score=0.618 total time=   2.7s\n",
      "[CV 2/5] END C=1, loss=squared_hinge, max_iter=1000, tol=0.001;, score=0.617 total time=   2.3s\n",
      "[CV 3/5] END C=1, loss=squared_hinge, max_iter=1000, tol=0.001;, score=0.640 total time=   2.1s\n",
      "[CV 4/5] END C=1, loss=squared_hinge, max_iter=1000, tol=0.001;, score=0.639 total time=   2.7s\n",
      "[CV 5/5] END C=1, loss=squared_hinge, max_iter=1000, tol=0.001;, score=0.628 total time=   2.1s\n",
      "[CV 1/5] END C=1, loss=squared_hinge, max_iter=1000, tol=0.0001;, score=0.618 total time=   3.0s\n",
      "[CV 2/5] END C=1, loss=squared_hinge, max_iter=1000, tol=0.0001;, score=0.617 total time=   2.9s\n",
      "[CV 3/5] END C=1, loss=squared_hinge, max_iter=1000, tol=0.0001;, score=0.640 total time=   2.6s\n",
      "[CV 4/5] END C=1, loss=squared_hinge, max_iter=1000, tol=0.0001;, score=0.639 total time=   3.0s\n",
      "[CV 5/5] END C=1, loss=squared_hinge, max_iter=1000, tol=0.0001;, score=0.628 total time=   2.4s\n",
      "[CV 1/5] END C=1, loss=squared_hinge, max_iter=3000, tol=1;, score=0.627 total time=   0.2s\n",
      "[CV 2/5] END C=1, loss=squared_hinge, max_iter=3000, tol=1;, score=0.620 total time=   0.3s\n",
      "[CV 3/5] END C=1, loss=squared_hinge, max_iter=3000, tol=1;, score=0.633 total time=   0.2s\n",
      "[CV 4/5] END C=1, loss=squared_hinge, max_iter=3000, tol=1;, score=0.627 total time=   0.2s\n",
      "[CV 5/5] END C=1, loss=squared_hinge, max_iter=3000, tol=1;, score=0.625 total time=   0.3s\n",
      "[CV 1/5] END C=1, loss=squared_hinge, max_iter=3000, tol=0.1;, score=0.618 total time=   0.8s\n",
      "[CV 2/5] END C=1, loss=squared_hinge, max_iter=3000, tol=0.1;, score=0.619 total time=   0.5s\n",
      "[CV 3/5] END C=1, loss=squared_hinge, max_iter=3000, tol=0.1;, score=0.634 total time=   0.6s\n",
      "[CV 4/5] END C=1, loss=squared_hinge, max_iter=3000, tol=0.1;, score=0.622 total time=   0.5s\n",
      "[CV 5/5] END C=1, loss=squared_hinge, max_iter=3000, tol=0.1;, score=0.625 total time=   0.5s\n",
      "[CV 1/5] END C=1, loss=squared_hinge, max_iter=3000, tol=0.01;, score=0.619 total time=   2.5s\n",
      "[CV 2/5] END C=1, loss=squared_hinge, max_iter=3000, tol=0.01;, score=0.617 total time=   2.2s\n",
      "[CV 3/5] END C=1, loss=squared_hinge, max_iter=3000, tol=0.01;, score=0.640 total time=   2.0s\n",
      "[CV 4/5] END C=1, loss=squared_hinge, max_iter=3000, tol=0.01;, score=0.639 total time=   2.1s\n",
      "[CV 5/5] END C=1, loss=squared_hinge, max_iter=3000, tol=0.01;, score=0.628 total time=   2.0s\n",
      "[CV 1/5] END C=1, loss=squared_hinge, max_iter=3000, tol=0.001;, score=0.618 total time=   3.6s\n",
      "[CV 2/5] END C=1, loss=squared_hinge, max_iter=3000, tol=0.001;, score=0.617 total time=   3.4s\n",
      "[CV 3/5] END C=1, loss=squared_hinge, max_iter=3000, tol=0.001;, score=0.640 total time=   3.3s\n",
      "[CV 4/5] END C=1, loss=squared_hinge, max_iter=3000, tol=0.001;, score=0.639 total time=   3.6s\n",
      "[CV 5/5] END C=1, loss=squared_hinge, max_iter=3000, tol=0.001;, score=0.628 total time=   3.0s\n",
      "[CV 1/5] END C=1, loss=squared_hinge, max_iter=3000, tol=0.0001;, score=0.618 total time=   3.9s\n",
      "[CV 2/5] END C=1, loss=squared_hinge, max_iter=3000, tol=0.0001;, score=0.617 total time=   3.3s\n",
      "[CV 3/5] END C=1, loss=squared_hinge, max_iter=3000, tol=0.0001;, score=0.640 total time=   3.2s\n",
      "[CV 4/5] END C=1, loss=squared_hinge, max_iter=3000, tol=0.0001;, score=0.639 total time=   3.7s\n",
      "[CV 5/5] END C=1, loss=squared_hinge, max_iter=3000, tol=0.0001;, score=0.628 total time=   3.8s\n",
      "[CV 1/5] END C=1, loss=squared_hinge, max_iter=5000, tol=1;, score=0.627 total time=   0.2s\n",
      "[CV 2/5] END C=1, loss=squared_hinge, max_iter=5000, tol=1;, score=0.620 total time=   0.5s\n",
      "[CV 3/5] END C=1, loss=squared_hinge, max_iter=5000, tol=1;, score=0.633 total time=   0.3s\n",
      "[CV 4/5] END C=1, loss=squared_hinge, max_iter=5000, tol=1;, score=0.627 total time=   0.3s\n",
      "[CV 5/5] END C=1, loss=squared_hinge, max_iter=5000, tol=1;, score=0.625 total time=   0.5s\n",
      "[CV 1/5] END C=1, loss=squared_hinge, max_iter=5000, tol=0.1;, score=0.618 total time=   1.1s\n",
      "[CV 2/5] END C=1, loss=squared_hinge, max_iter=5000, tol=0.1;, score=0.619 total time=   1.5s\n",
      "[CV 3/5] END C=1, loss=squared_hinge, max_iter=5000, tol=0.1;, score=0.634 total time=   0.8s\n",
      "[CV 4/5] END C=1, loss=squared_hinge, max_iter=5000, tol=0.1;, score=0.622 total time=   0.6s\n",
      "[CV 5/5] END C=1, loss=squared_hinge, max_iter=5000, tol=0.1;, score=0.625 total time=   0.6s\n",
      "[CV 1/5] END C=1, loss=squared_hinge, max_iter=5000, tol=0.01;, score=0.619 total time=   3.0s\n",
      "[CV 2/5] END C=1, loss=squared_hinge, max_iter=5000, tol=0.01;, score=0.617 total time=   2.5s\n",
      "[CV 3/5] END C=1, loss=squared_hinge, max_iter=5000, tol=0.01;, score=0.640 total time=   2.3s\n",
      "[CV 4/5] END C=1, loss=squared_hinge, max_iter=5000, tol=0.01;, score=0.639 total time=   2.5s\n",
      "[CV 5/5] END C=1, loss=squared_hinge, max_iter=5000, tol=0.01;, score=0.628 total time=   2.2s\n",
      "[CV 1/5] END C=1, loss=squared_hinge, max_iter=5000, tol=0.001;, score=0.618 total time=   3.3s\n",
      "[CV 2/5] END C=1, loss=squared_hinge, max_iter=5000, tol=0.001;, score=0.617 total time=   3.0s\n",
      "[CV 3/5] END C=1, loss=squared_hinge, max_iter=5000, tol=0.001;, score=0.640 total time=   3.3s\n",
      "[CV 4/5] END C=1, loss=squared_hinge, max_iter=5000, tol=0.001;, score=0.639 total time=   3.3s\n",
      "[CV 5/5] END C=1, loss=squared_hinge, max_iter=5000, tol=0.001;, score=0.628 total time=   2.7s\n",
      "[CV 1/5] END C=1, loss=squared_hinge, max_iter=5000, tol=0.0001;, score=0.618 total time=   3.9s\n",
      "[CV 2/5] END C=1, loss=squared_hinge, max_iter=5000, tol=0.0001;, score=0.617 total time=   4.3s\n",
      "[CV 3/5] END C=1, loss=squared_hinge, max_iter=5000, tol=0.0001;, score=0.640 total time=   3.4s\n",
      "[CV 4/5] END C=1, loss=squared_hinge, max_iter=5000, tol=0.0001;, score=0.639 total time=   3.7s\n",
      "[CV 5/5] END C=1, loss=squared_hinge, max_iter=5000, tol=0.0001;, score=0.628 total time=   3.2s\n"
     ]
    },
    {
     "name": "stderr",
     "output_type": "stream",
     "text": [
      "/Users/anusha/Desktop/Neuroinformatics_Internship/HopkinsGeneClassificationProj/env/lib/python3.12/site-packages/sklearn/svm/_base.py:1235: ConvergenceWarning: Liblinear failed to converge, increase the number of iterations.\n",
      "  warnings.warn(\n"
     ]
    },
    {
     "name": "stdout",
     "output_type": "stream",
     "text": [
      "[CV 1/5] END C=10, loss=hinge, max_iter=1000, tol=1;, score=0.626 total time=   5.8s\n"
     ]
    },
    {
     "name": "stderr",
     "output_type": "stream",
     "text": [
      "/Users/anusha/Desktop/Neuroinformatics_Internship/HopkinsGeneClassificationProj/env/lib/python3.12/site-packages/sklearn/svm/_base.py:1235: ConvergenceWarning: Liblinear failed to converge, increase the number of iterations.\n",
      "  warnings.warn(\n"
     ]
    },
    {
     "name": "stdout",
     "output_type": "stream",
     "text": [
      "[CV 2/5] END C=10, loss=hinge, max_iter=1000, tol=1;, score=0.622 total time=   6.3s\n"
     ]
    },
    {
     "name": "stderr",
     "output_type": "stream",
     "text": [
      "/Users/anusha/Desktop/Neuroinformatics_Internship/HopkinsGeneClassificationProj/env/lib/python3.12/site-packages/sklearn/svm/_base.py:1235: ConvergenceWarning: Liblinear failed to converge, increase the number of iterations.\n",
      "  warnings.warn(\n"
     ]
    },
    {
     "name": "stdout",
     "output_type": "stream",
     "text": [
      "[CV 3/5] END C=10, loss=hinge, max_iter=1000, tol=1;, score=0.633 total time=   6.1s\n"
     ]
    },
    {
     "name": "stderr",
     "output_type": "stream",
     "text": [
      "/Users/anusha/Desktop/Neuroinformatics_Internship/HopkinsGeneClassificationProj/env/lib/python3.12/site-packages/sklearn/svm/_base.py:1235: ConvergenceWarning: Liblinear failed to converge, increase the number of iterations.\n",
      "  warnings.warn(\n"
     ]
    },
    {
     "name": "stdout",
     "output_type": "stream",
     "text": [
      "[CV 4/5] END C=10, loss=hinge, max_iter=1000, tol=1;, score=0.630 total time=   5.5s\n"
     ]
    },
    {
     "name": "stderr",
     "output_type": "stream",
     "text": [
      "/Users/anusha/Desktop/Neuroinformatics_Internship/HopkinsGeneClassificationProj/env/lib/python3.12/site-packages/sklearn/svm/_base.py:1235: ConvergenceWarning: Liblinear failed to converge, increase the number of iterations.\n",
      "  warnings.warn(\n"
     ]
    },
    {
     "name": "stdout",
     "output_type": "stream",
     "text": [
      "[CV 5/5] END C=10, loss=hinge, max_iter=1000, tol=1;, score=0.623 total time=   6.2s\n"
     ]
    },
    {
     "name": "stderr",
     "output_type": "stream",
     "text": [
      "/Users/anusha/Desktop/Neuroinformatics_Internship/HopkinsGeneClassificationProj/env/lib/python3.12/site-packages/sklearn/svm/_base.py:1235: ConvergenceWarning: Liblinear failed to converge, increase the number of iterations.\n",
      "  warnings.warn(\n"
     ]
    },
    {
     "name": "stdout",
     "output_type": "stream",
     "text": [
      "[CV 1/5] END C=10, loss=hinge, max_iter=1000, tol=0.1;, score=0.625 total time=   5.4s\n"
     ]
    },
    {
     "name": "stderr",
     "output_type": "stream",
     "text": [
      "/Users/anusha/Desktop/Neuroinformatics_Internship/HopkinsGeneClassificationProj/env/lib/python3.12/site-packages/sklearn/svm/_base.py:1235: ConvergenceWarning: Liblinear failed to converge, increase the number of iterations.\n",
      "  warnings.warn(\n"
     ]
    },
    {
     "name": "stdout",
     "output_type": "stream",
     "text": [
      "[CV 2/5] END C=10, loss=hinge, max_iter=1000, tol=0.1;, score=0.622 total time=   6.5s\n"
     ]
    },
    {
     "name": "stderr",
     "output_type": "stream",
     "text": [
      "/Users/anusha/Desktop/Neuroinformatics_Internship/HopkinsGeneClassificationProj/env/lib/python3.12/site-packages/sklearn/svm/_base.py:1235: ConvergenceWarning: Liblinear failed to converge, increase the number of iterations.\n",
      "  warnings.warn(\n"
     ]
    },
    {
     "name": "stdout",
     "output_type": "stream",
     "text": [
      "[CV 3/5] END C=10, loss=hinge, max_iter=1000, tol=0.1;, score=0.633 total time=   6.2s\n"
     ]
    },
    {
     "name": "stderr",
     "output_type": "stream",
     "text": [
      "/Users/anusha/Desktop/Neuroinformatics_Internship/HopkinsGeneClassificationProj/env/lib/python3.12/site-packages/sklearn/svm/_base.py:1235: ConvergenceWarning: Liblinear failed to converge, increase the number of iterations.\n",
      "  warnings.warn(\n"
     ]
    },
    {
     "name": "stdout",
     "output_type": "stream",
     "text": [
      "[CV 4/5] END C=10, loss=hinge, max_iter=1000, tol=0.1;, score=0.630 total time=   8.0s\n"
     ]
    },
    {
     "name": "stderr",
     "output_type": "stream",
     "text": [
      "/Users/anusha/Desktop/Neuroinformatics_Internship/HopkinsGeneClassificationProj/env/lib/python3.12/site-packages/sklearn/svm/_base.py:1235: ConvergenceWarning: Liblinear failed to converge, increase the number of iterations.\n",
      "  warnings.warn(\n"
     ]
    },
    {
     "name": "stdout",
     "output_type": "stream",
     "text": [
      "[CV 5/5] END C=10, loss=hinge, max_iter=1000, tol=0.1;, score=0.623 total time=   6.4s\n"
     ]
    },
    {
     "name": "stderr",
     "output_type": "stream",
     "text": [
      "/Users/anusha/Desktop/Neuroinformatics_Internship/HopkinsGeneClassificationProj/env/lib/python3.12/site-packages/sklearn/svm/_base.py:1235: ConvergenceWarning: Liblinear failed to converge, increase the number of iterations.\n",
      "  warnings.warn(\n"
     ]
    },
    {
     "name": "stdout",
     "output_type": "stream",
     "text": [
      "[CV 1/5] END C=10, loss=hinge, max_iter=1000, tol=0.01;, score=0.623 total time=   7.2s\n"
     ]
    },
    {
     "name": "stderr",
     "output_type": "stream",
     "text": [
      "/Users/anusha/Desktop/Neuroinformatics_Internship/HopkinsGeneClassificationProj/env/lib/python3.12/site-packages/sklearn/svm/_base.py:1235: ConvergenceWarning: Liblinear failed to converge, increase the number of iterations.\n",
      "  warnings.warn(\n"
     ]
    },
    {
     "name": "stdout",
     "output_type": "stream",
     "text": [
      "[CV 2/5] END C=10, loss=hinge, max_iter=1000, tol=0.01;, score=0.623 total time=   7.2s\n"
     ]
    },
    {
     "name": "stderr",
     "output_type": "stream",
     "text": [
      "/Users/anusha/Desktop/Neuroinformatics_Internship/HopkinsGeneClassificationProj/env/lib/python3.12/site-packages/sklearn/svm/_base.py:1235: ConvergenceWarning: Liblinear failed to converge, increase the number of iterations.\n",
      "  warnings.warn(\n"
     ]
    },
    {
     "name": "stdout",
     "output_type": "stream",
     "text": [
      "[CV 3/5] END C=10, loss=hinge, max_iter=1000, tol=0.01;, score=0.633 total time=   6.9s\n"
     ]
    },
    {
     "name": "stderr",
     "output_type": "stream",
     "text": [
      "/Users/anusha/Desktop/Neuroinformatics_Internship/HopkinsGeneClassificationProj/env/lib/python3.12/site-packages/sklearn/svm/_base.py:1235: ConvergenceWarning: Liblinear failed to converge, increase the number of iterations.\n",
      "  warnings.warn(\n"
     ]
    },
    {
     "name": "stdout",
     "output_type": "stream",
     "text": [
      "[CV 4/5] END C=10, loss=hinge, max_iter=1000, tol=0.01;, score=0.631 total time=   5.9s\n"
     ]
    },
    {
     "name": "stderr",
     "output_type": "stream",
     "text": [
      "/Users/anusha/Desktop/Neuroinformatics_Internship/HopkinsGeneClassificationProj/env/lib/python3.12/site-packages/sklearn/svm/_base.py:1235: ConvergenceWarning: Liblinear failed to converge, increase the number of iterations.\n",
      "  warnings.warn(\n"
     ]
    },
    {
     "name": "stdout",
     "output_type": "stream",
     "text": [
      "[CV 5/5] END C=10, loss=hinge, max_iter=1000, tol=0.01;, score=0.624 total time=   6.7s\n"
     ]
    },
    {
     "name": "stderr",
     "output_type": "stream",
     "text": [
      "/Users/anusha/Desktop/Neuroinformatics_Internship/HopkinsGeneClassificationProj/env/lib/python3.12/site-packages/sklearn/svm/_base.py:1235: ConvergenceWarning: Liblinear failed to converge, increase the number of iterations.\n",
      "  warnings.warn(\n"
     ]
    },
    {
     "name": "stdout",
     "output_type": "stream",
     "text": [
      "[CV 1/5] END C=10, loss=hinge, max_iter=1000, tol=0.001;, score=0.625 total time=   7.5s\n"
     ]
    },
    {
     "name": "stderr",
     "output_type": "stream",
     "text": [
      "/Users/anusha/Desktop/Neuroinformatics_Internship/HopkinsGeneClassificationProj/env/lib/python3.12/site-packages/sklearn/svm/_base.py:1235: ConvergenceWarning: Liblinear failed to converge, increase the number of iterations.\n",
      "  warnings.warn(\n"
     ]
    },
    {
     "name": "stdout",
     "output_type": "stream",
     "text": [
      "[CV 2/5] END C=10, loss=hinge, max_iter=1000, tol=0.001;, score=0.621 total time=   7.1s\n"
     ]
    },
    {
     "name": "stderr",
     "output_type": "stream",
     "text": [
      "/Users/anusha/Desktop/Neuroinformatics_Internship/HopkinsGeneClassificationProj/env/lib/python3.12/site-packages/sklearn/svm/_base.py:1235: ConvergenceWarning: Liblinear failed to converge, increase the number of iterations.\n",
      "  warnings.warn(\n"
     ]
    },
    {
     "name": "stdout",
     "output_type": "stream",
     "text": [
      "[CV 3/5] END C=10, loss=hinge, max_iter=1000, tol=0.001;, score=0.633 total time=   6.6s\n"
     ]
    },
    {
     "name": "stderr",
     "output_type": "stream",
     "text": [
      "/Users/anusha/Desktop/Neuroinformatics_Internship/HopkinsGeneClassificationProj/env/lib/python3.12/site-packages/sklearn/svm/_base.py:1235: ConvergenceWarning: Liblinear failed to converge, increase the number of iterations.\n",
      "  warnings.warn(\n"
     ]
    },
    {
     "name": "stdout",
     "output_type": "stream",
     "text": [
      "[CV 4/5] END C=10, loss=hinge, max_iter=1000, tol=0.001;, score=0.628 total time=   5.5s\n"
     ]
    },
    {
     "name": "stderr",
     "output_type": "stream",
     "text": [
      "/Users/anusha/Desktop/Neuroinformatics_Internship/HopkinsGeneClassificationProj/env/lib/python3.12/site-packages/sklearn/svm/_base.py:1235: ConvergenceWarning: Liblinear failed to converge, increase the number of iterations.\n",
      "  warnings.warn(\n"
     ]
    },
    {
     "name": "stdout",
     "output_type": "stream",
     "text": [
      "[CV 5/5] END C=10, loss=hinge, max_iter=1000, tol=0.001;, score=0.622 total time=   6.0s\n"
     ]
    },
    {
     "name": "stderr",
     "output_type": "stream",
     "text": [
      "/Users/anusha/Desktop/Neuroinformatics_Internship/HopkinsGeneClassificationProj/env/lib/python3.12/site-packages/sklearn/svm/_base.py:1235: ConvergenceWarning: Liblinear failed to converge, increase the number of iterations.\n",
      "  warnings.warn(\n"
     ]
    },
    {
     "name": "stdout",
     "output_type": "stream",
     "text": [
      "[CV 1/5] END C=10, loss=hinge, max_iter=1000, tol=0.0001;, score=0.624 total time=   7.5s\n"
     ]
    },
    {
     "name": "stderr",
     "output_type": "stream",
     "text": [
      "/Users/anusha/Desktop/Neuroinformatics_Internship/HopkinsGeneClassificationProj/env/lib/python3.12/site-packages/sklearn/svm/_base.py:1235: ConvergenceWarning: Liblinear failed to converge, increase the number of iterations.\n",
      "  warnings.warn(\n"
     ]
    },
    {
     "name": "stdout",
     "output_type": "stream",
     "text": [
      "[CV 2/5] END C=10, loss=hinge, max_iter=1000, tol=0.0001;, score=0.623 total time=   6.2s\n"
     ]
    },
    {
     "name": "stderr",
     "output_type": "stream",
     "text": [
      "/Users/anusha/Desktop/Neuroinformatics_Internship/HopkinsGeneClassificationProj/env/lib/python3.12/site-packages/sklearn/svm/_base.py:1235: ConvergenceWarning: Liblinear failed to converge, increase the number of iterations.\n",
      "  warnings.warn(\n"
     ]
    },
    {
     "name": "stdout",
     "output_type": "stream",
     "text": [
      "[CV 3/5] END C=10, loss=hinge, max_iter=1000, tol=0.0001;, score=0.633 total time=   6.5s\n"
     ]
    },
    {
     "name": "stderr",
     "output_type": "stream",
     "text": [
      "/Users/anusha/Desktop/Neuroinformatics_Internship/HopkinsGeneClassificationProj/env/lib/python3.12/site-packages/sklearn/svm/_base.py:1235: ConvergenceWarning: Liblinear failed to converge, increase the number of iterations.\n",
      "  warnings.warn(\n"
     ]
    },
    {
     "name": "stdout",
     "output_type": "stream",
     "text": [
      "[CV 4/5] END C=10, loss=hinge, max_iter=1000, tol=0.0001;, score=0.628 total time=   5.2s\n"
     ]
    },
    {
     "name": "stderr",
     "output_type": "stream",
     "text": [
      "/Users/anusha/Desktop/Neuroinformatics_Internship/HopkinsGeneClassificationProj/env/lib/python3.12/site-packages/sklearn/svm/_base.py:1235: ConvergenceWarning: Liblinear failed to converge, increase the number of iterations.\n",
      "  warnings.warn(\n"
     ]
    },
    {
     "name": "stdout",
     "output_type": "stream",
     "text": [
      "[CV 5/5] END C=10, loss=hinge, max_iter=1000, tol=0.0001;, score=0.623 total time=   6.5s\n",
      "[CV 1/5] END C=10, loss=hinge, max_iter=3000, tol=1;, score=0.625 total time=   7.0s\n",
      "[CV 2/5] END C=10, loss=hinge, max_iter=3000, tol=1;, score=0.619 total time=   8.1s\n",
      "[CV 3/5] END C=10, loss=hinge, max_iter=3000, tol=1;, score=0.633 total time=   6.9s\n",
      "[CV 4/5] END C=10, loss=hinge, max_iter=3000, tol=1;, score=0.630 total time=   8.7s\n",
      "[CV 5/5] END C=10, loss=hinge, max_iter=3000, tol=1;, score=0.622 total time=   7.5s\n"
     ]
    },
    {
     "name": "stderr",
     "output_type": "stream",
     "text": [
      "/Users/anusha/Desktop/Neuroinformatics_Internship/HopkinsGeneClassificationProj/env/lib/python3.12/site-packages/sklearn/svm/_base.py:1235: ConvergenceWarning: Liblinear failed to converge, increase the number of iterations.\n",
      "  warnings.warn(\n"
     ]
    },
    {
     "name": "stdout",
     "output_type": "stream",
     "text": [
      "[CV 1/5] END C=10, loss=hinge, max_iter=3000, tol=0.1;, score=0.624 total time=  11.8s\n"
     ]
    },
    {
     "name": "stderr",
     "output_type": "stream",
     "text": [
      "/Users/anusha/Desktop/Neuroinformatics_Internship/HopkinsGeneClassificationProj/env/lib/python3.12/site-packages/sklearn/svm/_base.py:1235: ConvergenceWarning: Liblinear failed to converge, increase the number of iterations.\n",
      "  warnings.warn(\n"
     ]
    },
    {
     "name": "stdout",
     "output_type": "stream",
     "text": [
      "[CV 2/5] END C=10, loss=hinge, max_iter=3000, tol=0.1;, score=0.618 total time=  11.6s\n"
     ]
    },
    {
     "name": "stderr",
     "output_type": "stream",
     "text": [
      "/Users/anusha/Desktop/Neuroinformatics_Internship/HopkinsGeneClassificationProj/env/lib/python3.12/site-packages/sklearn/svm/_base.py:1235: ConvergenceWarning: Liblinear failed to converge, increase the number of iterations.\n",
      "  warnings.warn(\n"
     ]
    },
    {
     "name": "stdout",
     "output_type": "stream",
     "text": [
      "[CV 3/5] END C=10, loss=hinge, max_iter=3000, tol=0.1;, score=0.632 total time=  15.0s\n"
     ]
    },
    {
     "name": "stderr",
     "output_type": "stream",
     "text": [
      "/Users/anusha/Desktop/Neuroinformatics_Internship/HopkinsGeneClassificationProj/env/lib/python3.12/site-packages/sklearn/svm/_base.py:1235: ConvergenceWarning: Liblinear failed to converge, increase the number of iterations.\n",
      "  warnings.warn(\n"
     ]
    },
    {
     "name": "stdout",
     "output_type": "stream",
     "text": [
      "[CV 4/5] END C=10, loss=hinge, max_iter=3000, tol=0.1;, score=0.631 total time=  10.8s\n"
     ]
    },
    {
     "name": "stderr",
     "output_type": "stream",
     "text": [
      "/Users/anusha/Desktop/Neuroinformatics_Internship/HopkinsGeneClassificationProj/env/lib/python3.12/site-packages/sklearn/svm/_base.py:1235: ConvergenceWarning: Liblinear failed to converge, increase the number of iterations.\n",
      "  warnings.warn(\n"
     ]
    },
    {
     "name": "stdout",
     "output_type": "stream",
     "text": [
      "[CV 5/5] END C=10, loss=hinge, max_iter=3000, tol=0.1;, score=0.624 total time=  12.1s\n"
     ]
    },
    {
     "name": "stderr",
     "output_type": "stream",
     "text": [
      "/Users/anusha/Desktop/Neuroinformatics_Internship/HopkinsGeneClassificationProj/env/lib/python3.12/site-packages/sklearn/svm/_base.py:1235: ConvergenceWarning: Liblinear failed to converge, increase the number of iterations.\n",
      "  warnings.warn(\n"
     ]
    },
    {
     "name": "stdout",
     "output_type": "stream",
     "text": [
      "[CV 1/5] END C=10, loss=hinge, max_iter=3000, tol=0.01;, score=0.626 total time=  12.4s\n"
     ]
    },
    {
     "name": "stderr",
     "output_type": "stream",
     "text": [
      "/Users/anusha/Desktop/Neuroinformatics_Internship/HopkinsGeneClassificationProj/env/lib/python3.12/site-packages/sklearn/svm/_base.py:1235: ConvergenceWarning: Liblinear failed to converge, increase the number of iterations.\n",
      "  warnings.warn(\n"
     ]
    },
    {
     "name": "stdout",
     "output_type": "stream",
     "text": [
      "[CV 2/5] END C=10, loss=hinge, max_iter=3000, tol=0.01;, score=0.619 total time=  13.3s\n"
     ]
    },
    {
     "name": "stderr",
     "output_type": "stream",
     "text": [
      "/Users/anusha/Desktop/Neuroinformatics_Internship/HopkinsGeneClassificationProj/env/lib/python3.12/site-packages/sklearn/svm/_base.py:1235: ConvergenceWarning: Liblinear failed to converge, increase the number of iterations.\n",
      "  warnings.warn(\n"
     ]
    },
    {
     "name": "stdout",
     "output_type": "stream",
     "text": [
      "[CV 3/5] END C=10, loss=hinge, max_iter=3000, tol=0.01;, score=0.634 total time=  16.2s\n"
     ]
    },
    {
     "name": "stderr",
     "output_type": "stream",
     "text": [
      "/Users/anusha/Desktop/Neuroinformatics_Internship/HopkinsGeneClassificationProj/env/lib/python3.12/site-packages/sklearn/svm/_base.py:1235: ConvergenceWarning: Liblinear failed to converge, increase the number of iterations.\n",
      "  warnings.warn(\n"
     ]
    },
    {
     "name": "stdout",
     "output_type": "stream",
     "text": [
      "[CV 4/5] END C=10, loss=hinge, max_iter=3000, tol=0.01;, score=0.630 total time=  11.0s\n"
     ]
    },
    {
     "name": "stderr",
     "output_type": "stream",
     "text": [
      "/Users/anusha/Desktop/Neuroinformatics_Internship/HopkinsGeneClassificationProj/env/lib/python3.12/site-packages/sklearn/svm/_base.py:1235: ConvergenceWarning: Liblinear failed to converge, increase the number of iterations.\n",
      "  warnings.warn(\n"
     ]
    },
    {
     "name": "stdout",
     "output_type": "stream",
     "text": [
      "[CV 5/5] END C=10, loss=hinge, max_iter=3000, tol=0.01;, score=0.625 total time=  11.9s\n"
     ]
    },
    {
     "name": "stderr",
     "output_type": "stream",
     "text": [
      "/Users/anusha/Desktop/Neuroinformatics_Internship/HopkinsGeneClassificationProj/env/lib/python3.12/site-packages/sklearn/svm/_base.py:1235: ConvergenceWarning: Liblinear failed to converge, increase the number of iterations.\n",
      "  warnings.warn(\n"
     ]
    },
    {
     "name": "stdout",
     "output_type": "stream",
     "text": [
      "[CV 1/5] END C=10, loss=hinge, max_iter=3000, tol=0.001;, score=0.626 total time=  14.2s\n"
     ]
    },
    {
     "name": "stderr",
     "output_type": "stream",
     "text": [
      "/Users/anusha/Desktop/Neuroinformatics_Internship/HopkinsGeneClassificationProj/env/lib/python3.12/site-packages/sklearn/svm/_base.py:1235: ConvergenceWarning: Liblinear failed to converge, increase the number of iterations.\n",
      "  warnings.warn(\n"
     ]
    },
    {
     "name": "stdout",
     "output_type": "stream",
     "text": [
      "[CV 2/5] END C=10, loss=hinge, max_iter=3000, tol=0.001;, score=0.620 total time=  14.0s\n"
     ]
    },
    {
     "name": "stderr",
     "output_type": "stream",
     "text": [
      "/Users/anusha/Desktop/Neuroinformatics_Internship/HopkinsGeneClassificationProj/env/lib/python3.12/site-packages/sklearn/svm/_base.py:1235: ConvergenceWarning: Liblinear failed to converge, increase the number of iterations.\n",
      "  warnings.warn(\n"
     ]
    },
    {
     "name": "stdout",
     "output_type": "stream",
     "text": [
      "[CV 3/5] END C=10, loss=hinge, max_iter=3000, tol=0.001;, score=0.633 total time=  12.9s\n"
     ]
    },
    {
     "name": "stderr",
     "output_type": "stream",
     "text": [
      "/Users/anusha/Desktop/Neuroinformatics_Internship/HopkinsGeneClassificationProj/env/lib/python3.12/site-packages/sklearn/svm/_base.py:1235: ConvergenceWarning: Liblinear failed to converge, increase the number of iterations.\n",
      "  warnings.warn(\n"
     ]
    },
    {
     "name": "stdout",
     "output_type": "stream",
     "text": [
      "[CV 4/5] END C=10, loss=hinge, max_iter=3000, tol=0.001;, score=0.628 total time=  11.3s\n"
     ]
    },
    {
     "name": "stderr",
     "output_type": "stream",
     "text": [
      "/Users/anusha/Desktop/Neuroinformatics_Internship/HopkinsGeneClassificationProj/env/lib/python3.12/site-packages/sklearn/svm/_base.py:1235: ConvergenceWarning: Liblinear failed to converge, increase the number of iterations.\n",
      "  warnings.warn(\n"
     ]
    },
    {
     "name": "stdout",
     "output_type": "stream",
     "text": [
      "[CV 5/5] END C=10, loss=hinge, max_iter=3000, tol=0.001;, score=0.624 total time=  11.6s\n"
     ]
    },
    {
     "name": "stderr",
     "output_type": "stream",
     "text": [
      "/Users/anusha/Desktop/Neuroinformatics_Internship/HopkinsGeneClassificationProj/env/lib/python3.12/site-packages/sklearn/svm/_base.py:1235: ConvergenceWarning: Liblinear failed to converge, increase the number of iterations.\n",
      "  warnings.warn(\n"
     ]
    },
    {
     "name": "stdout",
     "output_type": "stream",
     "text": [
      "[CV 1/5] END C=10, loss=hinge, max_iter=3000, tol=0.0001;, score=0.627 total time=  14.9s\n"
     ]
    },
    {
     "name": "stderr",
     "output_type": "stream",
     "text": [
      "/Users/anusha/Desktop/Neuroinformatics_Internship/HopkinsGeneClassificationProj/env/lib/python3.12/site-packages/sklearn/svm/_base.py:1235: ConvergenceWarning: Liblinear failed to converge, increase the number of iterations.\n",
      "  warnings.warn(\n"
     ]
    },
    {
     "name": "stdout",
     "output_type": "stream",
     "text": [
      "[CV 2/5] END C=10, loss=hinge, max_iter=3000, tol=0.0001;, score=0.619 total time=  12.5s\n"
     ]
    },
    {
     "name": "stderr",
     "output_type": "stream",
     "text": [
      "/Users/anusha/Desktop/Neuroinformatics_Internship/HopkinsGeneClassificationProj/env/lib/python3.12/site-packages/sklearn/svm/_base.py:1235: ConvergenceWarning: Liblinear failed to converge, increase the number of iterations.\n",
      "  warnings.warn(\n"
     ]
    },
    {
     "name": "stdout",
     "output_type": "stream",
     "text": [
      "[CV 3/5] END C=10, loss=hinge, max_iter=3000, tol=0.0001;, score=0.633 total time=  12.9s\n"
     ]
    },
    {
     "name": "stderr",
     "output_type": "stream",
     "text": [
      "/Users/anusha/Desktop/Neuroinformatics_Internship/HopkinsGeneClassificationProj/env/lib/python3.12/site-packages/sklearn/svm/_base.py:1235: ConvergenceWarning: Liblinear failed to converge, increase the number of iterations.\n",
      "  warnings.warn(\n"
     ]
    },
    {
     "name": "stdout",
     "output_type": "stream",
     "text": [
      "[CV 4/5] END C=10, loss=hinge, max_iter=3000, tol=0.0001;, score=0.631 total time=  10.7s\n"
     ]
    },
    {
     "name": "stderr",
     "output_type": "stream",
     "text": [
      "/Users/anusha/Desktop/Neuroinformatics_Internship/HopkinsGeneClassificationProj/env/lib/python3.12/site-packages/sklearn/svm/_base.py:1235: ConvergenceWarning: Liblinear failed to converge, increase the number of iterations.\n",
      "  warnings.warn(\n"
     ]
    },
    {
     "name": "stdout",
     "output_type": "stream",
     "text": [
      "[CV 5/5] END C=10, loss=hinge, max_iter=3000, tol=0.0001;, score=0.622 total time=  11.4s\n",
      "[CV 1/5] END C=10, loss=hinge, max_iter=5000, tol=1;, score=0.624 total time=   5.7s\n",
      "[CV 2/5] END C=10, loss=hinge, max_iter=5000, tol=1;, score=0.619 total time=   5.8s\n",
      "[CV 3/5] END C=10, loss=hinge, max_iter=5000, tol=1;, score=0.633 total time=   8.3s\n",
      "[CV 4/5] END C=10, loss=hinge, max_iter=5000, tol=1;, score=0.628 total time=   8.3s\n",
      "[CV 5/5] END C=10, loss=hinge, max_iter=5000, tol=1;, score=0.622 total time=   7.6s\n"
     ]
    },
    {
     "name": "stderr",
     "output_type": "stream",
     "text": [
      "/Users/anusha/Desktop/Neuroinformatics_Internship/HopkinsGeneClassificationProj/env/lib/python3.12/site-packages/sklearn/svm/_base.py:1235: ConvergenceWarning: Liblinear failed to converge, increase the number of iterations.\n",
      "  warnings.warn(\n"
     ]
    },
    {
     "name": "stdout",
     "output_type": "stream",
     "text": [
      "[CV 1/5] END C=10, loss=hinge, max_iter=5000, tol=0.1;, score=0.626 total time=  14.7s\n"
     ]
    },
    {
     "name": "stderr",
     "output_type": "stream",
     "text": [
      "/Users/anusha/Desktop/Neuroinformatics_Internship/HopkinsGeneClassificationProj/env/lib/python3.12/site-packages/sklearn/svm/_base.py:1235: ConvergenceWarning: Liblinear failed to converge, increase the number of iterations.\n",
      "  warnings.warn(\n"
     ]
    },
    {
     "name": "stdout",
     "output_type": "stream",
     "text": [
      "[CV 2/5] END C=10, loss=hinge, max_iter=5000, tol=0.1;, score=0.617 total time=  17.3s\n"
     ]
    },
    {
     "name": "stderr",
     "output_type": "stream",
     "text": [
      "/Users/anusha/Desktop/Neuroinformatics_Internship/HopkinsGeneClassificationProj/env/lib/python3.12/site-packages/sklearn/svm/_base.py:1235: ConvergenceWarning: Liblinear failed to converge, increase the number of iterations.\n",
      "  warnings.warn(\n"
     ]
    },
    {
     "name": "stdout",
     "output_type": "stream",
     "text": [
      "[CV 3/5] END C=10, loss=hinge, max_iter=5000, tol=0.1;, score=0.632 total time=  20.5s\n"
     ]
    },
    {
     "name": "stderr",
     "output_type": "stream",
     "text": [
      "/Users/anusha/Desktop/Neuroinformatics_Internship/HopkinsGeneClassificationProj/env/lib/python3.12/site-packages/sklearn/svm/_base.py:1235: ConvergenceWarning: Liblinear failed to converge, increase the number of iterations.\n",
      "  warnings.warn(\n"
     ]
    },
    {
     "name": "stdout",
     "output_type": "stream",
     "text": [
      "[CV 4/5] END C=10, loss=hinge, max_iter=5000, tol=0.1;, score=0.629 total time=  16.6s\n"
     ]
    },
    {
     "name": "stderr",
     "output_type": "stream",
     "text": [
      "/Users/anusha/Desktop/Neuroinformatics_Internship/HopkinsGeneClassificationProj/env/lib/python3.12/site-packages/sklearn/svm/_base.py:1235: ConvergenceWarning: Liblinear failed to converge, increase the number of iterations.\n",
      "  warnings.warn(\n"
     ]
    },
    {
     "name": "stdout",
     "output_type": "stream",
     "text": [
      "[CV 5/5] END C=10, loss=hinge, max_iter=5000, tol=0.1;, score=0.623 total time=  17.5s\n"
     ]
    },
    {
     "name": "stderr",
     "output_type": "stream",
     "text": [
      "/Users/anusha/Desktop/Neuroinformatics_Internship/HopkinsGeneClassificationProj/env/lib/python3.12/site-packages/sklearn/svm/_base.py:1235: ConvergenceWarning: Liblinear failed to converge, increase the number of iterations.\n",
      "  warnings.warn(\n"
     ]
    },
    {
     "name": "stdout",
     "output_type": "stream",
     "text": [
      "[CV 1/5] END C=10, loss=hinge, max_iter=5000, tol=0.01;, score=0.626 total time=  15.2s\n"
     ]
    },
    {
     "name": "stderr",
     "output_type": "stream",
     "text": [
      "/Users/anusha/Desktop/Neuroinformatics_Internship/HopkinsGeneClassificationProj/env/lib/python3.12/site-packages/sklearn/svm/_base.py:1235: ConvergenceWarning: Liblinear failed to converge, increase the number of iterations.\n",
      "  warnings.warn(\n"
     ]
    },
    {
     "name": "stdout",
     "output_type": "stream",
     "text": [
      "[CV 2/5] END C=10, loss=hinge, max_iter=5000, tol=0.01;, score=0.620 total time=  15.8s\n"
     ]
    },
    {
     "name": "stderr",
     "output_type": "stream",
     "text": [
      "/Users/anusha/Desktop/Neuroinformatics_Internship/HopkinsGeneClassificationProj/env/lib/python3.12/site-packages/sklearn/svm/_base.py:1235: ConvergenceWarning: Liblinear failed to converge, increase the number of iterations.\n",
      "  warnings.warn(\n"
     ]
    },
    {
     "name": "stdout",
     "output_type": "stream",
     "text": [
      "[CV 3/5] END C=10, loss=hinge, max_iter=5000, tol=0.01;, score=0.633 total time=  17.9s\n"
     ]
    },
    {
     "name": "stderr",
     "output_type": "stream",
     "text": [
      "/Users/anusha/Desktop/Neuroinformatics_Internship/HopkinsGeneClassificationProj/env/lib/python3.12/site-packages/sklearn/svm/_base.py:1235: ConvergenceWarning: Liblinear failed to converge, increase the number of iterations.\n",
      "  warnings.warn(\n"
     ]
    },
    {
     "name": "stdout",
     "output_type": "stream",
     "text": [
      "[CV 4/5] END C=10, loss=hinge, max_iter=5000, tol=0.01;, score=0.630 total time=  13.4s\n"
     ]
    },
    {
     "name": "stderr",
     "output_type": "stream",
     "text": [
      "/Users/anusha/Desktop/Neuroinformatics_Internship/HopkinsGeneClassificationProj/env/lib/python3.12/site-packages/sklearn/svm/_base.py:1235: ConvergenceWarning: Liblinear failed to converge, increase the number of iterations.\n",
      "  warnings.warn(\n"
     ]
    },
    {
     "name": "stdout",
     "output_type": "stream",
     "text": [
      "[CV 5/5] END C=10, loss=hinge, max_iter=5000, tol=0.01;, score=0.622 total time=  14.7s\n"
     ]
    },
    {
     "name": "stderr",
     "output_type": "stream",
     "text": [
      "/Users/anusha/Desktop/Neuroinformatics_Internship/HopkinsGeneClassificationProj/env/lib/python3.12/site-packages/sklearn/svm/_base.py:1235: ConvergenceWarning: Liblinear failed to converge, increase the number of iterations.\n",
      "  warnings.warn(\n"
     ]
    },
    {
     "name": "stdout",
     "output_type": "stream",
     "text": [
      "[CV 1/5] END C=10, loss=hinge, max_iter=5000, tol=0.001;, score=0.626 total time=  18.2s\n"
     ]
    },
    {
     "name": "stderr",
     "output_type": "stream",
     "text": [
      "/Users/anusha/Desktop/Neuroinformatics_Internship/HopkinsGeneClassificationProj/env/lib/python3.12/site-packages/sklearn/svm/_base.py:1235: ConvergenceWarning: Liblinear failed to converge, increase the number of iterations.\n",
      "  warnings.warn(\n"
     ]
    },
    {
     "name": "stdout",
     "output_type": "stream",
     "text": [
      "[CV 2/5] END C=10, loss=hinge, max_iter=5000, tol=0.001;, score=0.620 total time=  15.8s\n"
     ]
    },
    {
     "name": "stderr",
     "output_type": "stream",
     "text": [
      "/Users/anusha/Desktop/Neuroinformatics_Internship/HopkinsGeneClassificationProj/env/lib/python3.12/site-packages/sklearn/svm/_base.py:1235: ConvergenceWarning: Liblinear failed to converge, increase the number of iterations.\n",
      "  warnings.warn(\n"
     ]
    },
    {
     "name": "stdout",
     "output_type": "stream",
     "text": [
      "[CV 3/5] END C=10, loss=hinge, max_iter=5000, tol=0.001;, score=0.633 total time=  17.4s\n"
     ]
    },
    {
     "name": "stderr",
     "output_type": "stream",
     "text": [
      "/Users/anusha/Desktop/Neuroinformatics_Internship/HopkinsGeneClassificationProj/env/lib/python3.12/site-packages/sklearn/svm/_base.py:1235: ConvergenceWarning: Liblinear failed to converge, increase the number of iterations.\n",
      "  warnings.warn(\n"
     ]
    },
    {
     "name": "stdout",
     "output_type": "stream",
     "text": [
      "[CV 4/5] END C=10, loss=hinge, max_iter=5000, tol=0.001;, score=0.630 total time=  15.2s\n"
     ]
    },
    {
     "name": "stderr",
     "output_type": "stream",
     "text": [
      "/Users/anusha/Desktop/Neuroinformatics_Internship/HopkinsGeneClassificationProj/env/lib/python3.12/site-packages/sklearn/svm/_base.py:1235: ConvergenceWarning: Liblinear failed to converge, increase the number of iterations.\n",
      "  warnings.warn(\n"
     ]
    },
    {
     "name": "stdout",
     "output_type": "stream",
     "text": [
      "[CV 5/5] END C=10, loss=hinge, max_iter=5000, tol=0.001;, score=0.623 total time=  15.6s\n"
     ]
    },
    {
     "name": "stderr",
     "output_type": "stream",
     "text": [
      "/Users/anusha/Desktop/Neuroinformatics_Internship/HopkinsGeneClassificationProj/env/lib/python3.12/site-packages/sklearn/svm/_base.py:1235: ConvergenceWarning: Liblinear failed to converge, increase the number of iterations.\n",
      "  warnings.warn(\n"
     ]
    },
    {
     "name": "stdout",
     "output_type": "stream",
     "text": [
      "[CV 1/5] END C=10, loss=hinge, max_iter=5000, tol=0.0001;, score=0.627 total time=  17.8s\n"
     ]
    },
    {
     "name": "stderr",
     "output_type": "stream",
     "text": [
      "/Users/anusha/Desktop/Neuroinformatics_Internship/HopkinsGeneClassificationProj/env/lib/python3.12/site-packages/sklearn/svm/_base.py:1235: ConvergenceWarning: Liblinear failed to converge, increase the number of iterations.\n",
      "  warnings.warn(\n"
     ]
    },
    {
     "name": "stdout",
     "output_type": "stream",
     "text": [
      "[CV 2/5] END C=10, loss=hinge, max_iter=5000, tol=0.0001;, score=0.615 total time=  15.8s\n"
     ]
    },
    {
     "name": "stderr",
     "output_type": "stream",
     "text": [
      "/Users/anusha/Desktop/Neuroinformatics_Internship/HopkinsGeneClassificationProj/env/lib/python3.12/site-packages/sklearn/svm/_base.py:1235: ConvergenceWarning: Liblinear failed to converge, increase the number of iterations.\n",
      "  warnings.warn(\n"
     ]
    },
    {
     "name": "stdout",
     "output_type": "stream",
     "text": [
      "[CV 3/5] END C=10, loss=hinge, max_iter=5000, tol=0.0001;, score=0.633 total time=  18.8s\n"
     ]
    },
    {
     "name": "stderr",
     "output_type": "stream",
     "text": [
      "/Users/anusha/Desktop/Neuroinformatics_Internship/HopkinsGeneClassificationProj/env/lib/python3.12/site-packages/sklearn/svm/_base.py:1235: ConvergenceWarning: Liblinear failed to converge, increase the number of iterations.\n",
      "  warnings.warn(\n"
     ]
    },
    {
     "name": "stdout",
     "output_type": "stream",
     "text": [
      "[CV 4/5] END C=10, loss=hinge, max_iter=5000, tol=0.0001;, score=0.630 total time=  15.1s\n"
     ]
    },
    {
     "name": "stderr",
     "output_type": "stream",
     "text": [
      "/Users/anusha/Desktop/Neuroinformatics_Internship/HopkinsGeneClassificationProj/env/lib/python3.12/site-packages/sklearn/svm/_base.py:1235: ConvergenceWarning: Liblinear failed to converge, increase the number of iterations.\n",
      "  warnings.warn(\n"
     ]
    },
    {
     "name": "stdout",
     "output_type": "stream",
     "text": [
      "[CV 5/5] END C=10, loss=hinge, max_iter=5000, tol=0.0001;, score=0.623 total time=  15.7s\n",
      "[CV 1/5] END C=10, loss=squared_hinge, max_iter=1000, tol=1;, score=0.627 total time=   0.2s\n",
      "[CV 2/5] END C=10, loss=squared_hinge, max_iter=1000, tol=1;, score=0.620 total time=   0.4s\n",
      "[CV 3/5] END C=10, loss=squared_hinge, max_iter=1000, tol=1;, score=0.633 total time=   0.4s\n",
      "[CV 4/5] END C=10, loss=squared_hinge, max_iter=1000, tol=1;, score=0.627 total time=   0.2s\n",
      "[CV 5/5] END C=10, loss=squared_hinge, max_iter=1000, tol=1;, score=0.625 total time=   0.4s\n",
      "[CV 1/5] END C=10, loss=squared_hinge, max_iter=1000, tol=0.1;, score=0.620 total time=   0.9s\n",
      "[CV 2/5] END C=10, loss=squared_hinge, max_iter=1000, tol=0.1;, score=0.619 total time=   0.7s\n",
      "[CV 3/5] END C=10, loss=squared_hinge, max_iter=1000, tol=0.1;, score=0.634 total time=   0.7s\n",
      "[CV 4/5] END C=10, loss=squared_hinge, max_iter=1000, tol=0.1;, score=0.620 total time=   0.5s\n",
      "[CV 5/5] END C=10, loss=squared_hinge, max_iter=1000, tol=0.1;, score=0.625 total time=   0.6s\n",
      "[CV 1/5] END C=10, loss=squared_hinge, max_iter=1000, tol=0.01;, score=0.623 total time=  11.7s\n",
      "[CV 2/5] END C=10, loss=squared_hinge, max_iter=1000, tol=0.01;, score=0.611 total time=   7.1s\n",
      "[CV 3/5] END C=10, loss=squared_hinge, max_iter=1000, tol=0.01;, score=0.627 total time=   7.5s\n",
      "[CV 4/5] END C=10, loss=squared_hinge, max_iter=1000, tol=0.01;, score=0.628 total time=   7.8s\n",
      "[CV 5/5] END C=10, loss=squared_hinge, max_iter=1000, tol=0.01;, score=0.627 total time=   8.9s\n",
      "[CV 1/5] END C=10, loss=squared_hinge, max_iter=1000, tol=0.001;, score=0.614 total time=  21.6s\n",
      "[CV 2/5] END C=10, loss=squared_hinge, max_iter=1000, tol=0.001;, score=0.614 total time=  15.6s\n",
      "[CV 3/5] END C=10, loss=squared_hinge, max_iter=1000, tol=0.001;, score=0.626 total time=  12.2s\n",
      "[CV 4/5] END C=10, loss=squared_hinge, max_iter=1000, tol=0.001;, score=0.622 total time=  14.6s\n",
      "[CV 5/5] END C=10, loss=squared_hinge, max_iter=1000, tol=0.001;, score=0.627 total time=  15.7s\n",
      "[CV 1/5] END C=10, loss=squared_hinge, max_iter=1000, tol=0.0001;, score=0.614 total time=  24.5s\n",
      "[CV 2/5] END C=10, loss=squared_hinge, max_iter=1000, tol=0.0001;, score=0.615 total time=  16.8s\n",
      "[CV 3/5] END C=10, loss=squared_hinge, max_iter=1000, tol=0.0001;, score=0.626 total time=  11.0s\n",
      "[CV 4/5] END C=10, loss=squared_hinge, max_iter=1000, tol=0.0001;, score=0.622 total time=  15.0s\n",
      "[CV 5/5] END C=10, loss=squared_hinge, max_iter=1000, tol=0.0001;, score=0.627 total time=  15.0s\n",
      "[CV 1/5] END C=10, loss=squared_hinge, max_iter=3000, tol=1;, score=0.627 total time=   0.2s\n",
      "[CV 2/5] END C=10, loss=squared_hinge, max_iter=3000, tol=1;, score=0.620 total time=   0.3s\n",
      "[CV 3/5] END C=10, loss=squared_hinge, max_iter=3000, tol=1;, score=0.633 total time=   0.4s\n",
      "[CV 4/5] END C=10, loss=squared_hinge, max_iter=3000, tol=1;, score=0.627 total time=   0.3s\n",
      "[CV 5/5] END C=10, loss=squared_hinge, max_iter=3000, tol=1;, score=0.625 total time=   0.4s\n",
      "[CV 1/5] END C=10, loss=squared_hinge, max_iter=3000, tol=0.1;, score=0.620 total time=   0.9s\n",
      "[CV 2/5] END C=10, loss=squared_hinge, max_iter=3000, tol=0.1;, score=0.619 total time=   0.7s\n",
      "[CV 3/5] END C=10, loss=squared_hinge, max_iter=3000, tol=0.1;, score=0.634 total time=   0.9s\n",
      "[CV 4/5] END C=10, loss=squared_hinge, max_iter=3000, tol=0.1;, score=0.620 total time=   0.6s\n",
      "[CV 5/5] END C=10, loss=squared_hinge, max_iter=3000, tol=0.1;, score=0.625 total time=   0.6s\n",
      "[CV 1/5] END C=10, loss=squared_hinge, max_iter=3000, tol=0.01;, score=0.623 total time=  11.0s\n",
      "[CV 2/5] END C=10, loss=squared_hinge, max_iter=3000, tol=0.01;, score=0.611 total time=   7.2s\n",
      "[CV 3/5] END C=10, loss=squared_hinge, max_iter=3000, tol=0.01;, score=0.627 total time=   7.9s\n",
      "[CV 4/5] END C=10, loss=squared_hinge, max_iter=3000, tol=0.01;, score=0.628 total time=   8.0s\n",
      "[CV 5/5] END C=10, loss=squared_hinge, max_iter=3000, tol=0.01;, score=0.627 total time=   9.0s\n",
      "[CV 1/5] END C=10, loss=squared_hinge, max_iter=3000, tol=0.001;, score=0.614 total time=  20.8s\n",
      "[CV 2/5] END C=10, loss=squared_hinge, max_iter=3000, tol=0.001;, score=0.614 total time=  14.8s\n",
      "[CV 3/5] END C=10, loss=squared_hinge, max_iter=3000, tol=0.001;, score=0.626 total time=   9.9s\n",
      "[CV 4/5] END C=10, loss=squared_hinge, max_iter=3000, tol=0.001;, score=0.622 total time=  12.8s\n",
      "[CV 5/5] END C=10, loss=squared_hinge, max_iter=3000, tol=0.001;, score=0.627 total time=  14.4s\n",
      "[CV 1/5] END C=10, loss=squared_hinge, max_iter=3000, tol=0.0001;, score=0.614 total time=  23.6s\n",
      "[CV 2/5] END C=10, loss=squared_hinge, max_iter=3000, tol=0.0001;, score=0.615 total time=  17.1s\n",
      "[CV 3/5] END C=10, loss=squared_hinge, max_iter=3000, tol=0.0001;, score=0.626 total time=  11.5s\n",
      "[CV 4/5] END C=10, loss=squared_hinge, max_iter=3000, tol=0.0001;, score=0.622 total time=  14.3s\n",
      "[CV 5/5] END C=10, loss=squared_hinge, max_iter=3000, tol=0.0001;, score=0.627 total time=  15.5s\n",
      "[CV 1/5] END C=10, loss=squared_hinge, max_iter=5000, tol=1;, score=0.627 total time=   0.3s\n",
      "[CV 2/5] END C=10, loss=squared_hinge, max_iter=5000, tol=1;, score=0.620 total time=   0.3s\n",
      "[CV 3/5] END C=10, loss=squared_hinge, max_iter=5000, tol=1;, score=0.633 total time=   0.4s\n",
      "[CV 4/5] END C=10, loss=squared_hinge, max_iter=5000, tol=1;, score=0.627 total time=   0.2s\n",
      "[CV 5/5] END C=10, loss=squared_hinge, max_iter=5000, tol=1;, score=0.625 total time=   0.3s\n",
      "[CV 1/5] END C=10, loss=squared_hinge, max_iter=5000, tol=0.1;, score=0.620 total time=   0.8s\n",
      "[CV 2/5] END C=10, loss=squared_hinge, max_iter=5000, tol=0.1;, score=0.619 total time=   0.6s\n",
      "[CV 3/5] END C=10, loss=squared_hinge, max_iter=5000, tol=0.1;, score=0.634 total time=   0.6s\n",
      "[CV 4/5] END C=10, loss=squared_hinge, max_iter=5000, tol=0.1;, score=0.620 total time=   0.5s\n",
      "[CV 5/5] END C=10, loss=squared_hinge, max_iter=5000, tol=0.1;, score=0.625 total time=   0.5s\n",
      "[CV 1/5] END C=10, loss=squared_hinge, max_iter=5000, tol=0.01;, score=0.623 total time=  10.3s\n",
      "[CV 2/5] END C=10, loss=squared_hinge, max_iter=5000, tol=0.01;, score=0.611 total time=   7.9s\n",
      "[CV 3/5] END C=10, loss=squared_hinge, max_iter=5000, tol=0.01;, score=0.627 total time=   6.9s\n",
      "[CV 4/5] END C=10, loss=squared_hinge, max_iter=5000, tol=0.01;, score=0.628 total time=   7.2s\n",
      "[CV 5/5] END C=10, loss=squared_hinge, max_iter=5000, tol=0.01;, score=0.627 total time=   7.8s\n",
      "[CV 1/5] END C=10, loss=squared_hinge, max_iter=5000, tol=0.001;, score=0.614 total time=  18.9s\n",
      "[CV 2/5] END C=10, loss=squared_hinge, max_iter=5000, tol=0.001;, score=0.614 total time=  13.3s\n",
      "[CV 3/5] END C=10, loss=squared_hinge, max_iter=5000, tol=0.001;, score=0.626 total time=  10.3s\n",
      "[CV 4/5] END C=10, loss=squared_hinge, max_iter=5000, tol=0.001;, score=0.622 total time=  12.2s\n",
      "[CV 5/5] END C=10, loss=squared_hinge, max_iter=5000, tol=0.001;, score=0.627 total time=  14.1s\n",
      "[CV 1/5] END C=10, loss=squared_hinge, max_iter=5000, tol=0.0001;, score=0.614 total time=  22.5s\n",
      "[CV 2/5] END C=10, loss=squared_hinge, max_iter=5000, tol=0.0001;, score=0.615 total time=  16.5s\n",
      "[CV 3/5] END C=10, loss=squared_hinge, max_iter=5000, tol=0.0001;, score=0.626 total time=  10.6s\n",
      "[CV 4/5] END C=10, loss=squared_hinge, max_iter=5000, tol=0.0001;, score=0.622 total time=  13.2s\n",
      "[CV 5/5] END C=10, loss=squared_hinge, max_iter=5000, tol=0.0001;, score=0.627 total time=  15.1s\n"
     ]
    },
    {
     "name": "stderr",
     "output_type": "stream",
     "text": [
      "/Users/anusha/Desktop/Neuroinformatics_Internship/HopkinsGeneClassificationProj/env/lib/python3.12/site-packages/sklearn/svm/_base.py:1235: ConvergenceWarning: Liblinear failed to converge, increase the number of iterations.\n",
      "  warnings.warn(\n"
     ]
    },
    {
     "name": "stdout",
     "output_type": "stream",
     "text": [
      "[CV 1/5] END C=100, loss=hinge, max_iter=1000, tol=1;, score=0.620 total time=   7.7s\n"
     ]
    },
    {
     "name": "stderr",
     "output_type": "stream",
     "text": [
      "/Users/anusha/Desktop/Neuroinformatics_Internship/HopkinsGeneClassificationProj/env/lib/python3.12/site-packages/sklearn/svm/_base.py:1235: ConvergenceWarning: Liblinear failed to converge, increase the number of iterations.\n",
      "  warnings.warn(\n"
     ]
    },
    {
     "name": "stdout",
     "output_type": "stream",
     "text": [
      "[CV 2/5] END C=100, loss=hinge, max_iter=1000, tol=1;, score=0.611 total time=   9.5s\n"
     ]
    },
    {
     "name": "stderr",
     "output_type": "stream",
     "text": [
      "/Users/anusha/Desktop/Neuroinformatics_Internship/HopkinsGeneClassificationProj/env/lib/python3.12/site-packages/sklearn/svm/_base.py:1235: ConvergenceWarning: Liblinear failed to converge, increase the number of iterations.\n",
      "  warnings.warn(\n"
     ]
    },
    {
     "name": "stdout",
     "output_type": "stream",
     "text": [
      "[CV 3/5] END C=100, loss=hinge, max_iter=1000, tol=1;, score=0.622 total time=   8.9s\n"
     ]
    },
    {
     "name": "stderr",
     "output_type": "stream",
     "text": [
      "/Users/anusha/Desktop/Neuroinformatics_Internship/HopkinsGeneClassificationProj/env/lib/python3.12/site-packages/sklearn/svm/_base.py:1235: ConvergenceWarning: Liblinear failed to converge, increase the number of iterations.\n",
      "  warnings.warn(\n"
     ]
    },
    {
     "name": "stdout",
     "output_type": "stream",
     "text": [
      "[CV 4/5] END C=100, loss=hinge, max_iter=1000, tol=1;, score=0.629 total time=   8.0s\n"
     ]
    },
    {
     "name": "stderr",
     "output_type": "stream",
     "text": [
      "/Users/anusha/Desktop/Neuroinformatics_Internship/HopkinsGeneClassificationProj/env/lib/python3.12/site-packages/sklearn/svm/_base.py:1235: ConvergenceWarning: Liblinear failed to converge, increase the number of iterations.\n",
      "  warnings.warn(\n"
     ]
    },
    {
     "name": "stdout",
     "output_type": "stream",
     "text": [
      "[CV 5/5] END C=100, loss=hinge, max_iter=1000, tol=1;, score=0.618 total time=   8.6s\n"
     ]
    },
    {
     "name": "stderr",
     "output_type": "stream",
     "text": [
      "/Users/anusha/Desktop/Neuroinformatics_Internship/HopkinsGeneClassificationProj/env/lib/python3.12/site-packages/sklearn/svm/_base.py:1235: ConvergenceWarning: Liblinear failed to converge, increase the number of iterations.\n",
      "  warnings.warn(\n"
     ]
    },
    {
     "name": "stdout",
     "output_type": "stream",
     "text": [
      "[CV 1/5] END C=100, loss=hinge, max_iter=1000, tol=0.1;, score=0.618 total time=   9.7s\n"
     ]
    },
    {
     "name": "stderr",
     "output_type": "stream",
     "text": [
      "/Users/anusha/Desktop/Neuroinformatics_Internship/HopkinsGeneClassificationProj/env/lib/python3.12/site-packages/sklearn/svm/_base.py:1235: ConvergenceWarning: Liblinear failed to converge, increase the number of iterations.\n",
      "  warnings.warn(\n"
     ]
    },
    {
     "name": "stdout",
     "output_type": "stream",
     "text": [
      "[CV 2/5] END C=100, loss=hinge, max_iter=1000, tol=0.1;, score=0.608 total time=   9.4s\n"
     ]
    },
    {
     "name": "stderr",
     "output_type": "stream",
     "text": [
      "/Users/anusha/Desktop/Neuroinformatics_Internship/HopkinsGeneClassificationProj/env/lib/python3.12/site-packages/sklearn/svm/_base.py:1235: ConvergenceWarning: Liblinear failed to converge, increase the number of iterations.\n",
      "  warnings.warn(\n"
     ]
    },
    {
     "name": "stdout",
     "output_type": "stream",
     "text": [
      "[CV 3/5] END C=100, loss=hinge, max_iter=1000, tol=0.1;, score=0.618 total time=  10.6s\n"
     ]
    },
    {
     "name": "stderr",
     "output_type": "stream",
     "text": [
      "/Users/anusha/Desktop/Neuroinformatics_Internship/HopkinsGeneClassificationProj/env/lib/python3.12/site-packages/sklearn/svm/_base.py:1235: ConvergenceWarning: Liblinear failed to converge, increase the number of iterations.\n",
      "  warnings.warn(\n"
     ]
    },
    {
     "name": "stdout",
     "output_type": "stream",
     "text": [
      "[CV 4/5] END C=100, loss=hinge, max_iter=1000, tol=0.1;, score=0.620 total time=   8.6s\n"
     ]
    },
    {
     "name": "stderr",
     "output_type": "stream",
     "text": [
      "/Users/anusha/Desktop/Neuroinformatics_Internship/HopkinsGeneClassificationProj/env/lib/python3.12/site-packages/sklearn/svm/_base.py:1235: ConvergenceWarning: Liblinear failed to converge, increase the number of iterations.\n",
      "  warnings.warn(\n"
     ]
    },
    {
     "name": "stdout",
     "output_type": "stream",
     "text": [
      "[CV 5/5] END C=100, loss=hinge, max_iter=1000, tol=0.1;, score=0.625 total time=   8.5s\n"
     ]
    },
    {
     "name": "stderr",
     "output_type": "stream",
     "text": [
      "/Users/anusha/Desktop/Neuroinformatics_Internship/HopkinsGeneClassificationProj/env/lib/python3.12/site-packages/sklearn/svm/_base.py:1235: ConvergenceWarning: Liblinear failed to converge, increase the number of iterations.\n",
      "  warnings.warn(\n"
     ]
    },
    {
     "name": "stdout",
     "output_type": "stream",
     "text": [
      "[CV 1/5] END C=100, loss=hinge, max_iter=1000, tol=0.01;, score=0.622 total time=   9.3s\n"
     ]
    },
    {
     "name": "stderr",
     "output_type": "stream",
     "text": [
      "/Users/anusha/Desktop/Neuroinformatics_Internship/HopkinsGeneClassificationProj/env/lib/python3.12/site-packages/sklearn/svm/_base.py:1235: ConvergenceWarning: Liblinear failed to converge, increase the number of iterations.\n",
      "  warnings.warn(\n"
     ]
    },
    {
     "name": "stdout",
     "output_type": "stream",
     "text": [
      "[CV 2/5] END C=100, loss=hinge, max_iter=1000, tol=0.01;, score=0.612 total time=   9.0s\n"
     ]
    },
    {
     "name": "stderr",
     "output_type": "stream",
     "text": [
      "/Users/anusha/Desktop/Neuroinformatics_Internship/HopkinsGeneClassificationProj/env/lib/python3.12/site-packages/sklearn/svm/_base.py:1235: ConvergenceWarning: Liblinear failed to converge, increase the number of iterations.\n",
      "  warnings.warn(\n"
     ]
    },
    {
     "name": "stdout",
     "output_type": "stream",
     "text": [
      "[CV 3/5] END C=100, loss=hinge, max_iter=1000, tol=0.01;, score=0.634 total time=   9.2s\n"
     ]
    },
    {
     "name": "stderr",
     "output_type": "stream",
     "text": [
      "/Users/anusha/Desktop/Neuroinformatics_Internship/HopkinsGeneClassificationProj/env/lib/python3.12/site-packages/sklearn/svm/_base.py:1235: ConvergenceWarning: Liblinear failed to converge, increase the number of iterations.\n",
      "  warnings.warn(\n"
     ]
    },
    {
     "name": "stdout",
     "output_type": "stream",
     "text": [
      "[CV 4/5] END C=100, loss=hinge, max_iter=1000, tol=0.01;, score=0.614 total time=   8.8s\n"
     ]
    },
    {
     "name": "stderr",
     "output_type": "stream",
     "text": [
      "/Users/anusha/Desktop/Neuroinformatics_Internship/HopkinsGeneClassificationProj/env/lib/python3.12/site-packages/sklearn/svm/_base.py:1235: ConvergenceWarning: Liblinear failed to converge, increase the number of iterations.\n",
      "  warnings.warn(\n"
     ]
    },
    {
     "name": "stdout",
     "output_type": "stream",
     "text": [
      "[CV 5/5] END C=100, loss=hinge, max_iter=1000, tol=0.01;, score=0.624 total time=  10.6s\n"
     ]
    },
    {
     "name": "stderr",
     "output_type": "stream",
     "text": [
      "/Users/anusha/Desktop/Neuroinformatics_Internship/HopkinsGeneClassificationProj/env/lib/python3.12/site-packages/sklearn/svm/_base.py:1235: ConvergenceWarning: Liblinear failed to converge, increase the number of iterations.\n",
      "  warnings.warn(\n"
     ]
    },
    {
     "name": "stdout",
     "output_type": "stream",
     "text": [
      "[CV 1/5] END C=100, loss=hinge, max_iter=1000, tol=0.001;, score=0.620 total time=   9.7s\n"
     ]
    },
    {
     "name": "stderr",
     "output_type": "stream",
     "text": [
      "/Users/anusha/Desktop/Neuroinformatics_Internship/HopkinsGeneClassificationProj/env/lib/python3.12/site-packages/sklearn/svm/_base.py:1235: ConvergenceWarning: Liblinear failed to converge, increase the number of iterations.\n",
      "  warnings.warn(\n"
     ]
    },
    {
     "name": "stdout",
     "output_type": "stream",
     "text": [
      "[CV 2/5] END C=100, loss=hinge, max_iter=1000, tol=0.001;, score=0.615 total time=   8.9s\n"
     ]
    },
    {
     "name": "stderr",
     "output_type": "stream",
     "text": [
      "/Users/anusha/Desktop/Neuroinformatics_Internship/HopkinsGeneClassificationProj/env/lib/python3.12/site-packages/sklearn/svm/_base.py:1235: ConvergenceWarning: Liblinear failed to converge, increase the number of iterations.\n",
      "  warnings.warn(\n"
     ]
    },
    {
     "name": "stdout",
     "output_type": "stream",
     "text": [
      "[CV 3/5] END C=100, loss=hinge, max_iter=1000, tol=0.001;, score=0.632 total time=   9.0s\n"
     ]
    },
    {
     "name": "stderr",
     "output_type": "stream",
     "text": [
      "/Users/anusha/Desktop/Neuroinformatics_Internship/HopkinsGeneClassificationProj/env/lib/python3.12/site-packages/sklearn/svm/_base.py:1235: ConvergenceWarning: Liblinear failed to converge, increase the number of iterations.\n",
      "  warnings.warn(\n"
     ]
    },
    {
     "name": "stdout",
     "output_type": "stream",
     "text": [
      "[CV 4/5] END C=100, loss=hinge, max_iter=1000, tol=0.001;, score=0.616 total time=   8.6s\n"
     ]
    },
    {
     "name": "stderr",
     "output_type": "stream",
     "text": [
      "/Users/anusha/Desktop/Neuroinformatics_Internship/HopkinsGeneClassificationProj/env/lib/python3.12/site-packages/sklearn/svm/_base.py:1235: ConvergenceWarning: Liblinear failed to converge, increase the number of iterations.\n",
      "  warnings.warn(\n"
     ]
    },
    {
     "name": "stdout",
     "output_type": "stream",
     "text": [
      "[CV 5/5] END C=100, loss=hinge, max_iter=1000, tol=0.001;, score=0.626 total time=   8.7s\n"
     ]
    },
    {
     "name": "stderr",
     "output_type": "stream",
     "text": [
      "/Users/anusha/Desktop/Neuroinformatics_Internship/HopkinsGeneClassificationProj/env/lib/python3.12/site-packages/sklearn/svm/_base.py:1235: ConvergenceWarning: Liblinear failed to converge, increase the number of iterations.\n",
      "  warnings.warn(\n"
     ]
    },
    {
     "name": "stdout",
     "output_type": "stream",
     "text": [
      "[CV 1/5] END C=100, loss=hinge, max_iter=1000, tol=0.0001;, score=0.621 total time=   8.9s\n"
     ]
    },
    {
     "name": "stderr",
     "output_type": "stream",
     "text": [
      "/Users/anusha/Desktop/Neuroinformatics_Internship/HopkinsGeneClassificationProj/env/lib/python3.12/site-packages/sklearn/svm/_base.py:1235: ConvergenceWarning: Liblinear failed to converge, increase the number of iterations.\n",
      "  warnings.warn(\n"
     ]
    },
    {
     "name": "stdout",
     "output_type": "stream",
     "text": [
      "[CV 2/5] END C=100, loss=hinge, max_iter=1000, tol=0.0001;, score=0.618 total time=   8.0s\n"
     ]
    },
    {
     "name": "stderr",
     "output_type": "stream",
     "text": [
      "/Users/anusha/Desktop/Neuroinformatics_Internship/HopkinsGeneClassificationProj/env/lib/python3.12/site-packages/sklearn/svm/_base.py:1235: ConvergenceWarning: Liblinear failed to converge, increase the number of iterations.\n",
      "  warnings.warn(\n"
     ]
    },
    {
     "name": "stdout",
     "output_type": "stream",
     "text": [
      "[CV 3/5] END C=100, loss=hinge, max_iter=1000, tol=0.0001;, score=0.624 total time=   8.1s\n"
     ]
    },
    {
     "name": "stderr",
     "output_type": "stream",
     "text": [
      "/Users/anusha/Desktop/Neuroinformatics_Internship/HopkinsGeneClassificationProj/env/lib/python3.12/site-packages/sklearn/svm/_base.py:1235: ConvergenceWarning: Liblinear failed to converge, increase the number of iterations.\n",
      "  warnings.warn(\n"
     ]
    },
    {
     "name": "stdout",
     "output_type": "stream",
     "text": [
      "[CV 4/5] END C=100, loss=hinge, max_iter=1000, tol=0.0001;, score=0.620 total time=   8.0s\n"
     ]
    },
    {
     "name": "stderr",
     "output_type": "stream",
     "text": [
      "/Users/anusha/Desktop/Neuroinformatics_Internship/HopkinsGeneClassificationProj/env/lib/python3.12/site-packages/sklearn/svm/_base.py:1235: ConvergenceWarning: Liblinear failed to converge, increase the number of iterations.\n",
      "  warnings.warn(\n"
     ]
    },
    {
     "name": "stdout",
     "output_type": "stream",
     "text": [
      "[CV 5/5] END C=100, loss=hinge, max_iter=1000, tol=0.0001;, score=0.627 total time=   7.8s\n"
     ]
    },
    {
     "name": "stderr",
     "output_type": "stream",
     "text": [
      "/Users/anusha/Desktop/Neuroinformatics_Internship/HopkinsGeneClassificationProj/env/lib/python3.12/site-packages/sklearn/svm/_base.py:1235: ConvergenceWarning: Liblinear failed to converge, increase the number of iterations.\n",
      "  warnings.warn(\n"
     ]
    },
    {
     "name": "stdout",
     "output_type": "stream",
     "text": [
      "[CV 1/5] END C=100, loss=hinge, max_iter=3000, tol=1;, score=0.617 total time=  17.5s\n"
     ]
    },
    {
     "name": "stderr",
     "output_type": "stream",
     "text": [
      "/Users/anusha/Desktop/Neuroinformatics_Internship/HopkinsGeneClassificationProj/env/lib/python3.12/site-packages/sklearn/svm/_base.py:1235: ConvergenceWarning: Liblinear failed to converge, increase the number of iterations.\n",
      "  warnings.warn(\n"
     ]
    },
    {
     "name": "stdout",
     "output_type": "stream",
     "text": [
      "[CV 2/5] END C=100, loss=hinge, max_iter=3000, tol=1;, score=0.617 total time=  18.9s\n"
     ]
    },
    {
     "name": "stderr",
     "output_type": "stream",
     "text": [
      "/Users/anusha/Desktop/Neuroinformatics_Internship/HopkinsGeneClassificationProj/env/lib/python3.12/site-packages/sklearn/svm/_base.py:1235: ConvergenceWarning: Liblinear failed to converge, increase the number of iterations.\n",
      "  warnings.warn(\n"
     ]
    },
    {
     "name": "stdout",
     "output_type": "stream",
     "text": [
      "[CV 3/5] END C=100, loss=hinge, max_iter=3000, tol=1;, score=0.632 total time=  19.1s\n"
     ]
    },
    {
     "name": "stderr",
     "output_type": "stream",
     "text": [
      "/Users/anusha/Desktop/Neuroinformatics_Internship/HopkinsGeneClassificationProj/env/lib/python3.12/site-packages/sklearn/svm/_base.py:1235: ConvergenceWarning: Liblinear failed to converge, increase the number of iterations.\n",
      "  warnings.warn(\n"
     ]
    },
    {
     "name": "stdout",
     "output_type": "stream",
     "text": [
      "[CV 4/5] END C=100, loss=hinge, max_iter=3000, tol=1;, score=0.629 total time=  19.7s\n"
     ]
    },
    {
     "name": "stderr",
     "output_type": "stream",
     "text": [
      "/Users/anusha/Desktop/Neuroinformatics_Internship/HopkinsGeneClassificationProj/env/lib/python3.12/site-packages/sklearn/svm/_base.py:1235: ConvergenceWarning: Liblinear failed to converge, increase the number of iterations.\n",
      "  warnings.warn(\n"
     ]
    },
    {
     "name": "stdout",
     "output_type": "stream",
     "text": [
      "[CV 5/5] END C=100, loss=hinge, max_iter=3000, tol=1;, score=0.622 total time=  20.7s\n"
     ]
    },
    {
     "name": "stderr",
     "output_type": "stream",
     "text": [
      "/Users/anusha/Desktop/Neuroinformatics_Internship/HopkinsGeneClassificationProj/env/lib/python3.12/site-packages/sklearn/svm/_base.py:1235: ConvergenceWarning: Liblinear failed to converge, increase the number of iterations.\n",
      "  warnings.warn(\n"
     ]
    },
    {
     "name": "stdout",
     "output_type": "stream",
     "text": [
      "[CV 1/5] END C=100, loss=hinge, max_iter=3000, tol=0.1;, score=0.616 total time=  19.6s\n"
     ]
    },
    {
     "name": "stderr",
     "output_type": "stream",
     "text": [
      "/Users/anusha/Desktop/Neuroinformatics_Internship/HopkinsGeneClassificationProj/env/lib/python3.12/site-packages/sklearn/svm/_base.py:1235: ConvergenceWarning: Liblinear failed to converge, increase the number of iterations.\n",
      "  warnings.warn(\n"
     ]
    },
    {
     "name": "stdout",
     "output_type": "stream",
     "text": [
      "[CV 2/5] END C=100, loss=hinge, max_iter=3000, tol=0.1;, score=0.615 total time=  22.0s\n"
     ]
    },
    {
     "name": "stderr",
     "output_type": "stream",
     "text": [
      "/Users/anusha/Desktop/Neuroinformatics_Internship/HopkinsGeneClassificationProj/env/lib/python3.12/site-packages/sklearn/svm/_base.py:1235: ConvergenceWarning: Liblinear failed to converge, increase the number of iterations.\n",
      "  warnings.warn(\n"
     ]
    },
    {
     "name": "stdout",
     "output_type": "stream",
     "text": [
      "[CV 3/5] END C=100, loss=hinge, max_iter=3000, tol=0.1;, score=0.628 total time=  22.2s\n"
     ]
    },
    {
     "name": "stderr",
     "output_type": "stream",
     "text": [
      "/Users/anusha/Desktop/Neuroinformatics_Internship/HopkinsGeneClassificationProj/env/lib/python3.12/site-packages/sklearn/svm/_base.py:1235: ConvergenceWarning: Liblinear failed to converge, increase the number of iterations.\n",
      "  warnings.warn(\n"
     ]
    },
    {
     "name": "stdout",
     "output_type": "stream",
     "text": [
      "[CV 4/5] END C=100, loss=hinge, max_iter=3000, tol=0.1;, score=0.632 total time=  20.3s\n"
     ]
    },
    {
     "name": "stderr",
     "output_type": "stream",
     "text": [
      "/Users/anusha/Desktop/Neuroinformatics_Internship/HopkinsGeneClassificationProj/env/lib/python3.12/site-packages/sklearn/svm/_base.py:1235: ConvergenceWarning: Liblinear failed to converge, increase the number of iterations.\n",
      "  warnings.warn(\n"
     ]
    },
    {
     "name": "stdout",
     "output_type": "stream",
     "text": [
      "[CV 5/5] END C=100, loss=hinge, max_iter=3000, tol=0.1;, score=0.624 total time=  20.5s\n"
     ]
    },
    {
     "name": "stderr",
     "output_type": "stream",
     "text": [
      "/Users/anusha/Desktop/Neuroinformatics_Internship/HopkinsGeneClassificationProj/env/lib/python3.12/site-packages/sklearn/svm/_base.py:1235: ConvergenceWarning: Liblinear failed to converge, increase the number of iterations.\n",
      "  warnings.warn(\n"
     ]
    },
    {
     "name": "stdout",
     "output_type": "stream",
     "text": [
      "[CV 1/5] END C=100, loss=hinge, max_iter=3000, tol=0.01;, score=0.616 total time=  21.5s\n"
     ]
    },
    {
     "name": "stderr",
     "output_type": "stream",
     "text": [
      "/Users/anusha/Desktop/Neuroinformatics_Internship/HopkinsGeneClassificationProj/env/lib/python3.12/site-packages/sklearn/svm/_base.py:1235: ConvergenceWarning: Liblinear failed to converge, increase the number of iterations.\n",
      "  warnings.warn(\n"
     ]
    },
    {
     "name": "stdout",
     "output_type": "stream",
     "text": [
      "[CV 2/5] END C=100, loss=hinge, max_iter=3000, tol=0.01;, score=0.609 total time=  19.7s\n"
     ]
    },
    {
     "name": "stderr",
     "output_type": "stream",
     "text": [
      "/Users/anusha/Desktop/Neuroinformatics_Internship/HopkinsGeneClassificationProj/env/lib/python3.12/site-packages/sklearn/svm/_base.py:1235: ConvergenceWarning: Liblinear failed to converge, increase the number of iterations.\n",
      "  warnings.warn(\n"
     ]
    },
    {
     "name": "stdout",
     "output_type": "stream",
     "text": [
      "[CV 3/5] END C=100, loss=hinge, max_iter=3000, tol=0.01;, score=0.625 total time=  20.7s\n"
     ]
    },
    {
     "name": "stderr",
     "output_type": "stream",
     "text": [
      "/Users/anusha/Desktop/Neuroinformatics_Internship/HopkinsGeneClassificationProj/env/lib/python3.12/site-packages/sklearn/svm/_base.py:1235: ConvergenceWarning: Liblinear failed to converge, increase the number of iterations.\n",
      "  warnings.warn(\n"
     ]
    },
    {
     "name": "stdout",
     "output_type": "stream",
     "text": [
      "[CV 4/5] END C=100, loss=hinge, max_iter=3000, tol=0.01;, score=0.625 total time=  21.7s\n"
     ]
    },
    {
     "name": "stderr",
     "output_type": "stream",
     "text": [
      "/Users/anusha/Desktop/Neuroinformatics_Internship/HopkinsGeneClassificationProj/env/lib/python3.12/site-packages/sklearn/svm/_base.py:1235: ConvergenceWarning: Liblinear failed to converge, increase the number of iterations.\n",
      "  warnings.warn(\n"
     ]
    },
    {
     "name": "stdout",
     "output_type": "stream",
     "text": [
      "[CV 5/5] END C=100, loss=hinge, max_iter=3000, tol=0.01;, score=0.623 total time=  19.5s\n"
     ]
    },
    {
     "name": "stderr",
     "output_type": "stream",
     "text": [
      "/Users/anusha/Desktop/Neuroinformatics_Internship/HopkinsGeneClassificationProj/env/lib/python3.12/site-packages/sklearn/svm/_base.py:1235: ConvergenceWarning: Liblinear failed to converge, increase the number of iterations.\n",
      "  warnings.warn(\n"
     ]
    },
    {
     "name": "stdout",
     "output_type": "stream",
     "text": [
      "[CV 1/5] END C=100, loss=hinge, max_iter=3000, tol=0.001;, score=0.615 total time=  21.7s\n"
     ]
    },
    {
     "name": "stderr",
     "output_type": "stream",
     "text": [
      "/Users/anusha/Desktop/Neuroinformatics_Internship/HopkinsGeneClassificationProj/env/lib/python3.12/site-packages/sklearn/svm/_base.py:1235: ConvergenceWarning: Liblinear failed to converge, increase the number of iterations.\n",
      "  warnings.warn(\n"
     ]
    },
    {
     "name": "stdout",
     "output_type": "stream",
     "text": [
      "[CV 2/5] END C=100, loss=hinge, max_iter=3000, tol=0.001;, score=0.614 total time=  19.7s\n"
     ]
    },
    {
     "name": "stderr",
     "output_type": "stream",
     "text": [
      "/Users/anusha/Desktop/Neuroinformatics_Internship/HopkinsGeneClassificationProj/env/lib/python3.12/site-packages/sklearn/svm/_base.py:1235: ConvergenceWarning: Liblinear failed to converge, increase the number of iterations.\n",
      "  warnings.warn(\n"
     ]
    },
    {
     "name": "stdout",
     "output_type": "stream",
     "text": [
      "[CV 3/5] END C=100, loss=hinge, max_iter=3000, tol=0.001;, score=0.631 total time=  20.5s\n"
     ]
    },
    {
     "name": "stderr",
     "output_type": "stream",
     "text": [
      "/Users/anusha/Desktop/Neuroinformatics_Internship/HopkinsGeneClassificationProj/env/lib/python3.12/site-packages/sklearn/svm/_base.py:1235: ConvergenceWarning: Liblinear failed to converge, increase the number of iterations.\n",
      "  warnings.warn(\n"
     ]
    },
    {
     "name": "stdout",
     "output_type": "stream",
     "text": [
      "[CV 4/5] END C=100, loss=hinge, max_iter=3000, tol=0.001;, score=0.626 total time=  20.8s\n"
     ]
    },
    {
     "name": "stderr",
     "output_type": "stream",
     "text": [
      "/Users/anusha/Desktop/Neuroinformatics_Internship/HopkinsGeneClassificationProj/env/lib/python3.12/site-packages/sklearn/svm/_base.py:1235: ConvergenceWarning: Liblinear failed to converge, increase the number of iterations.\n",
      "  warnings.warn(\n"
     ]
    },
    {
     "name": "stdout",
     "output_type": "stream",
     "text": [
      "[CV 5/5] END C=100, loss=hinge, max_iter=3000, tol=0.001;, score=0.620 total time=  20.1s\n"
     ]
    },
    {
     "name": "stderr",
     "output_type": "stream",
     "text": [
      "/Users/anusha/Desktop/Neuroinformatics_Internship/HopkinsGeneClassificationProj/env/lib/python3.12/site-packages/sklearn/svm/_base.py:1235: ConvergenceWarning: Liblinear failed to converge, increase the number of iterations.\n",
      "  warnings.warn(\n"
     ]
    },
    {
     "name": "stdout",
     "output_type": "stream",
     "text": [
      "[CV 1/5] END C=100, loss=hinge, max_iter=3000, tol=0.0001;, score=0.613 total time=  21.9s\n"
     ]
    },
    {
     "name": "stderr",
     "output_type": "stream",
     "text": [
      "/Users/anusha/Desktop/Neuroinformatics_Internship/HopkinsGeneClassificationProj/env/lib/python3.12/site-packages/sklearn/svm/_base.py:1235: ConvergenceWarning: Liblinear failed to converge, increase the number of iterations.\n",
      "  warnings.warn(\n"
     ]
    },
    {
     "name": "stdout",
     "output_type": "stream",
     "text": [
      "[CV 2/5] END C=100, loss=hinge, max_iter=3000, tol=0.0001;, score=0.613 total time=  20.6s\n"
     ]
    },
    {
     "name": "stderr",
     "output_type": "stream",
     "text": [
      "/Users/anusha/Desktop/Neuroinformatics_Internship/HopkinsGeneClassificationProj/env/lib/python3.12/site-packages/sklearn/svm/_base.py:1235: ConvergenceWarning: Liblinear failed to converge, increase the number of iterations.\n",
      "  warnings.warn(\n"
     ]
    },
    {
     "name": "stdout",
     "output_type": "stream",
     "text": [
      "[CV 3/5] END C=100, loss=hinge, max_iter=3000, tol=0.0001;, score=0.628 total time=  20.8s\n"
     ]
    },
    {
     "name": "stderr",
     "output_type": "stream",
     "text": [
      "/Users/anusha/Desktop/Neuroinformatics_Internship/HopkinsGeneClassificationProj/env/lib/python3.12/site-packages/sklearn/svm/_base.py:1235: ConvergenceWarning: Liblinear failed to converge, increase the number of iterations.\n",
      "  warnings.warn(\n"
     ]
    },
    {
     "name": "stdout",
     "output_type": "stream",
     "text": [
      "[CV 4/5] END C=100, loss=hinge, max_iter=3000, tol=0.0001;, score=0.623 total time=  19.8s\n"
     ]
    },
    {
     "name": "stderr",
     "output_type": "stream",
     "text": [
      "/Users/anusha/Desktop/Neuroinformatics_Internship/HopkinsGeneClassificationProj/env/lib/python3.12/site-packages/sklearn/svm/_base.py:1235: ConvergenceWarning: Liblinear failed to converge, increase the number of iterations.\n",
      "  warnings.warn(\n"
     ]
    },
    {
     "name": "stdout",
     "output_type": "stream",
     "text": [
      "[CV 5/5] END C=100, loss=hinge, max_iter=3000, tol=0.0001;, score=0.619 total time=  20.1s\n"
     ]
    },
    {
     "name": "stderr",
     "output_type": "stream",
     "text": [
      "/Users/anusha/Desktop/Neuroinformatics_Internship/HopkinsGeneClassificationProj/env/lib/python3.12/site-packages/sklearn/svm/_base.py:1235: ConvergenceWarning: Liblinear failed to converge, increase the number of iterations.\n",
      "  warnings.warn(\n"
     ]
    },
    {
     "name": "stdout",
     "output_type": "stream",
     "text": [
      "[CV 1/5] END C=100, loss=hinge, max_iter=5000, tol=1;, score=0.614 total time=  25.8s\n"
     ]
    },
    {
     "name": "stderr",
     "output_type": "stream",
     "text": [
      "/Users/anusha/Desktop/Neuroinformatics_Internship/HopkinsGeneClassificationProj/env/lib/python3.12/site-packages/sklearn/svm/_base.py:1235: ConvergenceWarning: Liblinear failed to converge, increase the number of iterations.\n",
      "  warnings.warn(\n"
     ]
    },
    {
     "name": "stdout",
     "output_type": "stream",
     "text": [
      "[CV 2/5] END C=100, loss=hinge, max_iter=5000, tol=1;, score=0.615 total time=  27.2s\n"
     ]
    },
    {
     "name": "stderr",
     "output_type": "stream",
     "text": [
      "/Users/anusha/Desktop/Neuroinformatics_Internship/HopkinsGeneClassificationProj/env/lib/python3.12/site-packages/sklearn/svm/_base.py:1235: ConvergenceWarning: Liblinear failed to converge, increase the number of iterations.\n",
      "  warnings.warn(\n"
     ]
    },
    {
     "name": "stdout",
     "output_type": "stream",
     "text": [
      "[CV 3/5] END C=100, loss=hinge, max_iter=5000, tol=1;, score=0.629 total time=  28.3s\n"
     ]
    },
    {
     "name": "stderr",
     "output_type": "stream",
     "text": [
      "/Users/anusha/Desktop/Neuroinformatics_Internship/HopkinsGeneClassificationProj/env/lib/python3.12/site-packages/sklearn/svm/_base.py:1235: ConvergenceWarning: Liblinear failed to converge, increase the number of iterations.\n",
      "  warnings.warn(\n"
     ]
    },
    {
     "name": "stdout",
     "output_type": "stream",
     "text": [
      "[CV 4/5] END C=100, loss=hinge, max_iter=5000, tol=1;, score=0.626 total time=  26.7s\n"
     ]
    },
    {
     "name": "stderr",
     "output_type": "stream",
     "text": [
      "/Users/anusha/Desktop/Neuroinformatics_Internship/HopkinsGeneClassificationProj/env/lib/python3.12/site-packages/sklearn/svm/_base.py:1235: ConvergenceWarning: Liblinear failed to converge, increase the number of iterations.\n",
      "  warnings.warn(\n"
     ]
    },
    {
     "name": "stdout",
     "output_type": "stream",
     "text": [
      "[CV 5/5] END C=100, loss=hinge, max_iter=5000, tol=1;, score=0.620 total time=  27.2s\n"
     ]
    },
    {
     "name": "stderr",
     "output_type": "stream",
     "text": [
      "/Users/anusha/Desktop/Neuroinformatics_Internship/HopkinsGeneClassificationProj/env/lib/python3.12/site-packages/sklearn/svm/_base.py:1235: ConvergenceWarning: Liblinear failed to converge, increase the number of iterations.\n",
      "  warnings.warn(\n"
     ]
    },
    {
     "name": "stdout",
     "output_type": "stream",
     "text": [
      "[CV 1/5] END C=100, loss=hinge, max_iter=5000, tol=0.1;, score=0.615 total time=  26.6s\n"
     ]
    },
    {
     "name": "stderr",
     "output_type": "stream",
     "text": [
      "/Users/anusha/Desktop/Neuroinformatics_Internship/HopkinsGeneClassificationProj/env/lib/python3.12/site-packages/sklearn/svm/_base.py:1235: ConvergenceWarning: Liblinear failed to converge, increase the number of iterations.\n",
      "  warnings.warn(\n"
     ]
    },
    {
     "name": "stdout",
     "output_type": "stream",
     "text": [
      "[CV 2/5] END C=100, loss=hinge, max_iter=5000, tol=0.1;, score=0.615 total time=  27.8s\n"
     ]
    },
    {
     "name": "stderr",
     "output_type": "stream",
     "text": [
      "/Users/anusha/Desktop/Neuroinformatics_Internship/HopkinsGeneClassificationProj/env/lib/python3.12/site-packages/sklearn/svm/_base.py:1235: ConvergenceWarning: Liblinear failed to converge, increase the number of iterations.\n",
      "  warnings.warn(\n"
     ]
    },
    {
     "name": "stdout",
     "output_type": "stream",
     "text": [
      "[CV 3/5] END C=100, loss=hinge, max_iter=5000, tol=0.1;, score=0.629 total time=  29.0s\n"
     ]
    },
    {
     "name": "stderr",
     "output_type": "stream",
     "text": [
      "/Users/anusha/Desktop/Neuroinformatics_Internship/HopkinsGeneClassificationProj/env/lib/python3.12/site-packages/sklearn/svm/_base.py:1235: ConvergenceWarning: Liblinear failed to converge, increase the number of iterations.\n",
      "  warnings.warn(\n"
     ]
    },
    {
     "name": "stdout",
     "output_type": "stream",
     "text": [
      "[CV 4/5] END C=100, loss=hinge, max_iter=5000, tol=0.1;, score=0.625 total time=  28.3s\n"
     ]
    },
    {
     "name": "stderr",
     "output_type": "stream",
     "text": [
      "/Users/anusha/Desktop/Neuroinformatics_Internship/HopkinsGeneClassificationProj/env/lib/python3.12/site-packages/sklearn/svm/_base.py:1235: ConvergenceWarning: Liblinear failed to converge, increase the number of iterations.\n",
      "  warnings.warn(\n"
     ]
    },
    {
     "name": "stdout",
     "output_type": "stream",
     "text": [
      "[CV 5/5] END C=100, loss=hinge, max_iter=5000, tol=0.1;, score=0.619 total time=  27.8s\n"
     ]
    },
    {
     "name": "stderr",
     "output_type": "stream",
     "text": [
      "/Users/anusha/Desktop/Neuroinformatics_Internship/HopkinsGeneClassificationProj/env/lib/python3.12/site-packages/sklearn/svm/_base.py:1235: ConvergenceWarning: Liblinear failed to converge, increase the number of iterations.\n",
      "  warnings.warn(\n"
     ]
    },
    {
     "name": "stdout",
     "output_type": "stream",
     "text": [
      "[CV 1/5] END C=100, loss=hinge, max_iter=5000, tol=0.01;, score=0.614 total time=  29.3s\n"
     ]
    },
    {
     "name": "stderr",
     "output_type": "stream",
     "text": [
      "/Users/anusha/Desktop/Neuroinformatics_Internship/HopkinsGeneClassificationProj/env/lib/python3.12/site-packages/sklearn/svm/_base.py:1235: ConvergenceWarning: Liblinear failed to converge, increase the number of iterations.\n",
      "  warnings.warn(\n"
     ]
    },
    {
     "name": "stdout",
     "output_type": "stream",
     "text": [
      "[CV 2/5] END C=100, loss=hinge, max_iter=5000, tol=0.01;, score=0.613 total time=  27.9s\n"
     ]
    },
    {
     "name": "stderr",
     "output_type": "stream",
     "text": [
      "/Users/anusha/Desktop/Neuroinformatics_Internship/HopkinsGeneClassificationProj/env/lib/python3.12/site-packages/sklearn/svm/_base.py:1235: ConvergenceWarning: Liblinear failed to converge, increase the number of iterations.\n",
      "  warnings.warn(\n"
     ]
    },
    {
     "name": "stdout",
     "output_type": "stream",
     "text": [
      "[CV 3/5] END C=100, loss=hinge, max_iter=5000, tol=0.01;, score=0.627 total time=  29.0s\n"
     ]
    },
    {
     "name": "stderr",
     "output_type": "stream",
     "text": [
      "/Users/anusha/Desktop/Neuroinformatics_Internship/HopkinsGeneClassificationProj/env/lib/python3.12/site-packages/sklearn/svm/_base.py:1235: ConvergenceWarning: Liblinear failed to converge, increase the number of iterations.\n",
      "  warnings.warn(\n"
     ]
    },
    {
     "name": "stdout",
     "output_type": "stream",
     "text": [
      "[CV 4/5] END C=100, loss=hinge, max_iter=5000, tol=0.01;, score=0.628 total time=  27.6s\n"
     ]
    },
    {
     "name": "stderr",
     "output_type": "stream",
     "text": [
      "/Users/anusha/Desktop/Neuroinformatics_Internship/HopkinsGeneClassificationProj/env/lib/python3.12/site-packages/sklearn/svm/_base.py:1235: ConvergenceWarning: Liblinear failed to converge, increase the number of iterations.\n",
      "  warnings.warn(\n"
     ]
    },
    {
     "name": "stdout",
     "output_type": "stream",
     "text": [
      "[CV 5/5] END C=100, loss=hinge, max_iter=5000, tol=0.01;, score=0.618 total time=  28.2s\n"
     ]
    },
    {
     "name": "stderr",
     "output_type": "stream",
     "text": [
      "/Users/anusha/Desktop/Neuroinformatics_Internship/HopkinsGeneClassificationProj/env/lib/python3.12/site-packages/sklearn/svm/_base.py:1235: ConvergenceWarning: Liblinear failed to converge, increase the number of iterations.\n",
      "  warnings.warn(\n"
     ]
    },
    {
     "name": "stdout",
     "output_type": "stream",
     "text": [
      "[CV 1/5] END C=100, loss=hinge, max_iter=5000, tol=0.001;, score=0.618 total time=  29.6s\n"
     ]
    },
    {
     "name": "stderr",
     "output_type": "stream",
     "text": [
      "/Users/anusha/Desktop/Neuroinformatics_Internship/HopkinsGeneClassificationProj/env/lib/python3.12/site-packages/sklearn/svm/_base.py:1235: ConvergenceWarning: Liblinear failed to converge, increase the number of iterations.\n",
      "  warnings.warn(\n"
     ]
    },
    {
     "name": "stdout",
     "output_type": "stream",
     "text": [
      "[CV 2/5] END C=100, loss=hinge, max_iter=5000, tol=0.001;, score=0.614 total time=  27.6s\n"
     ]
    },
    {
     "name": "stderr",
     "output_type": "stream",
     "text": [
      "/Users/anusha/Desktop/Neuroinformatics_Internship/HopkinsGeneClassificationProj/env/lib/python3.12/site-packages/sklearn/svm/_base.py:1235: ConvergenceWarning: Liblinear failed to converge, increase the number of iterations.\n",
      "  warnings.warn(\n"
     ]
    },
    {
     "name": "stdout",
     "output_type": "stream",
     "text": [
      "[CV 3/5] END C=100, loss=hinge, max_iter=5000, tol=0.001;, score=0.629 total time=  29.4s\n"
     ]
    },
    {
     "name": "stderr",
     "output_type": "stream",
     "text": [
      "/Users/anusha/Desktop/Neuroinformatics_Internship/HopkinsGeneClassificationProj/env/lib/python3.12/site-packages/sklearn/svm/_base.py:1235: ConvergenceWarning: Liblinear failed to converge, increase the number of iterations.\n",
      "  warnings.warn(\n"
     ]
    },
    {
     "name": "stdout",
     "output_type": "stream",
     "text": [
      "[CV 4/5] END C=100, loss=hinge, max_iter=5000, tol=0.001;, score=0.623 total time=  27.4s\n"
     ]
    },
    {
     "name": "stderr",
     "output_type": "stream",
     "text": [
      "/Users/anusha/Desktop/Neuroinformatics_Internship/HopkinsGeneClassificationProj/env/lib/python3.12/site-packages/sklearn/svm/_base.py:1235: ConvergenceWarning: Liblinear failed to converge, increase the number of iterations.\n",
      "  warnings.warn(\n"
     ]
    },
    {
     "name": "stdout",
     "output_type": "stream",
     "text": [
      "[CV 5/5] END C=100, loss=hinge, max_iter=5000, tol=0.001;, score=0.617 total time=  28.5s\n"
     ]
    },
    {
     "name": "stderr",
     "output_type": "stream",
     "text": [
      "/Users/anusha/Desktop/Neuroinformatics_Internship/HopkinsGeneClassificationProj/env/lib/python3.12/site-packages/sklearn/svm/_base.py:1235: ConvergenceWarning: Liblinear failed to converge, increase the number of iterations.\n",
      "  warnings.warn(\n"
     ]
    },
    {
     "name": "stdout",
     "output_type": "stream",
     "text": [
      "[CV 1/5] END C=100, loss=hinge, max_iter=5000, tol=0.0001;, score=0.615 total time=  29.5s\n"
     ]
    },
    {
     "name": "stderr",
     "output_type": "stream",
     "text": [
      "/Users/anusha/Desktop/Neuroinformatics_Internship/HopkinsGeneClassificationProj/env/lib/python3.12/site-packages/sklearn/svm/_base.py:1235: ConvergenceWarning: Liblinear failed to converge, increase the number of iterations.\n",
      "  warnings.warn(\n"
     ]
    },
    {
     "name": "stdout",
     "output_type": "stream",
     "text": [
      "[CV 2/5] END C=100, loss=hinge, max_iter=5000, tol=0.0001;, score=0.614 total time=  28.7s\n"
     ]
    },
    {
     "name": "stderr",
     "output_type": "stream",
     "text": [
      "/Users/anusha/Desktop/Neuroinformatics_Internship/HopkinsGeneClassificationProj/env/lib/python3.12/site-packages/sklearn/svm/_base.py:1235: ConvergenceWarning: Liblinear failed to converge, increase the number of iterations.\n",
      "  warnings.warn(\n"
     ]
    },
    {
     "name": "stdout",
     "output_type": "stream",
     "text": [
      "[CV 3/5] END C=100, loss=hinge, max_iter=5000, tol=0.0001;, score=0.630 total time=  28.9s\n"
     ]
    },
    {
     "name": "stderr",
     "output_type": "stream",
     "text": [
      "/Users/anusha/Desktop/Neuroinformatics_Internship/HopkinsGeneClassificationProj/env/lib/python3.12/site-packages/sklearn/svm/_base.py:1235: ConvergenceWarning: Liblinear failed to converge, increase the number of iterations.\n",
      "  warnings.warn(\n"
     ]
    },
    {
     "name": "stdout",
     "output_type": "stream",
     "text": [
      "[CV 4/5] END C=100, loss=hinge, max_iter=5000, tol=0.0001;, score=0.624 total time=  27.7s\n"
     ]
    },
    {
     "name": "stderr",
     "output_type": "stream",
     "text": [
      "/Users/anusha/Desktop/Neuroinformatics_Internship/HopkinsGeneClassificationProj/env/lib/python3.12/site-packages/sklearn/svm/_base.py:1235: ConvergenceWarning: Liblinear failed to converge, increase the number of iterations.\n",
      "  warnings.warn(\n"
     ]
    },
    {
     "name": "stdout",
     "output_type": "stream",
     "text": [
      "[CV 5/5] END C=100, loss=hinge, max_iter=5000, tol=0.0001;, score=0.617 total time=  27.6s\n",
      "[CV 1/5] END C=100, loss=squared_hinge, max_iter=1000, tol=1;, score=0.627 total time=   0.2s\n",
      "[CV 2/5] END C=100, loss=squared_hinge, max_iter=1000, tol=1;, score=0.620 total time=   0.3s\n",
      "[CV 3/5] END C=100, loss=squared_hinge, max_iter=1000, tol=1;, score=0.633 total time=   0.3s\n",
      "[CV 4/5] END C=100, loss=squared_hinge, max_iter=1000, tol=1;, score=0.627 total time=   0.2s\n",
      "[CV 5/5] END C=100, loss=squared_hinge, max_iter=1000, tol=1;, score=0.625 total time=   0.4s\n",
      "[CV 1/5] END C=100, loss=squared_hinge, max_iter=1000, tol=0.1;, score=0.620 total time=   0.8s\n",
      "[CV 2/5] END C=100, loss=squared_hinge, max_iter=1000, tol=0.1;, score=0.619 total time=   0.7s\n",
      "[CV 3/5] END C=100, loss=squared_hinge, max_iter=1000, tol=0.1;, score=0.634 total time=   0.6s\n",
      "[CV 4/5] END C=100, loss=squared_hinge, max_iter=1000, tol=0.1;, score=0.620 total time=   0.5s\n",
      "[CV 5/5] END C=100, loss=squared_hinge, max_iter=1000, tol=0.1;, score=0.625 total time=   0.5s\n"
     ]
    },
    {
     "name": "stderr",
     "output_type": "stream",
     "text": [
      "/Users/anusha/Desktop/Neuroinformatics_Internship/HopkinsGeneClassificationProj/env/lib/python3.12/site-packages/sklearn/svm/_base.py:1235: ConvergenceWarning: Liblinear failed to converge, increase the number of iterations.\n",
      "  warnings.warn(\n"
     ]
    },
    {
     "name": "stdout",
     "output_type": "stream",
     "text": [
      "[CV 1/5] END C=100, loss=squared_hinge, max_iter=1000, tol=0.01;, score=0.608 total time=  22.5s\n"
     ]
    },
    {
     "name": "stderr",
     "output_type": "stream",
     "text": [
      "/Users/anusha/Desktop/Neuroinformatics_Internship/HopkinsGeneClassificationProj/env/lib/python3.12/site-packages/sklearn/svm/_base.py:1235: ConvergenceWarning: Liblinear failed to converge, increase the number of iterations.\n",
      "  warnings.warn(\n"
     ]
    },
    {
     "name": "stdout",
     "output_type": "stream",
     "text": [
      "[CV 2/5] END C=100, loss=squared_hinge, max_iter=1000, tol=0.01;, score=0.603 total time=  22.5s\n"
     ]
    },
    {
     "name": "stderr",
     "output_type": "stream",
     "text": [
      "/Users/anusha/Desktop/Neuroinformatics_Internship/HopkinsGeneClassificationProj/env/lib/python3.12/site-packages/sklearn/svm/_base.py:1235: ConvergenceWarning: Liblinear failed to converge, increase the number of iterations.\n",
      "  warnings.warn(\n"
     ]
    },
    {
     "name": "stdout",
     "output_type": "stream",
     "text": [
      "[CV 3/5] END C=100, loss=squared_hinge, max_iter=1000, tol=0.01;, score=0.630 total time=  13.8s\n"
     ]
    },
    {
     "name": "stderr",
     "output_type": "stream",
     "text": [
      "/Users/anusha/Desktop/Neuroinformatics_Internship/HopkinsGeneClassificationProj/env/lib/python3.12/site-packages/sklearn/svm/_base.py:1235: ConvergenceWarning: Liblinear failed to converge, increase the number of iterations.\n",
      "  warnings.warn(\n"
     ]
    },
    {
     "name": "stdout",
     "output_type": "stream",
     "text": [
      "[CV 4/5] END C=100, loss=squared_hinge, max_iter=1000, tol=0.01;, score=0.621 total time=  16.4s\n"
     ]
    },
    {
     "name": "stderr",
     "output_type": "stream",
     "text": [
      "/Users/anusha/Desktop/Neuroinformatics_Internship/HopkinsGeneClassificationProj/env/lib/python3.12/site-packages/sklearn/svm/_base.py:1235: ConvergenceWarning: Liblinear failed to converge, increase the number of iterations.\n",
      "  warnings.warn(\n"
     ]
    },
    {
     "name": "stdout",
     "output_type": "stream",
     "text": [
      "[CV 5/5] END C=100, loss=squared_hinge, max_iter=1000, tol=0.01;, score=0.615 total time=  18.9s\n"
     ]
    },
    {
     "name": "stderr",
     "output_type": "stream",
     "text": [
      "/Users/anusha/Desktop/Neuroinformatics_Internship/HopkinsGeneClassificationProj/env/lib/python3.12/site-packages/sklearn/svm/_base.py:1235: ConvergenceWarning: Liblinear failed to converge, increase the number of iterations.\n",
      "  warnings.warn(\n"
     ]
    },
    {
     "name": "stdout",
     "output_type": "stream",
     "text": [
      "[CV 1/5] END C=100, loss=squared_hinge, max_iter=1000, tol=0.001;, score=0.600 total time= 1.0min\n"
     ]
    },
    {
     "name": "stderr",
     "output_type": "stream",
     "text": [
      "/Users/anusha/Desktop/Neuroinformatics_Internship/HopkinsGeneClassificationProj/env/lib/python3.12/site-packages/sklearn/svm/_base.py:1235: ConvergenceWarning: Liblinear failed to converge, increase the number of iterations.\n",
      "  warnings.warn(\n"
     ]
    },
    {
     "name": "stdout",
     "output_type": "stream",
     "text": [
      "[CV 2/5] END C=100, loss=squared_hinge, max_iter=1000, tol=0.001;, score=0.600 total time=  50.6s\n"
     ]
    },
    {
     "name": "stderr",
     "output_type": "stream",
     "text": [
      "/Users/anusha/Desktop/Neuroinformatics_Internship/HopkinsGeneClassificationProj/env/lib/python3.12/site-packages/sklearn/svm/_base.py:1235: ConvergenceWarning: Liblinear failed to converge, increase the number of iterations.\n",
      "  warnings.warn(\n"
     ]
    },
    {
     "name": "stdout",
     "output_type": "stream",
     "text": [
      "[CV 3/5] END C=100, loss=squared_hinge, max_iter=1000, tol=0.001;, score=0.610 total time= 1.2min\n"
     ]
    },
    {
     "name": "stderr",
     "output_type": "stream",
     "text": [
      "/Users/anusha/Desktop/Neuroinformatics_Internship/HopkinsGeneClassificationProj/env/lib/python3.12/site-packages/sklearn/svm/_base.py:1235: ConvergenceWarning: Liblinear failed to converge, increase the number of iterations.\n",
      "  warnings.warn(\n"
     ]
    },
    {
     "name": "stdout",
     "output_type": "stream",
     "text": [
      "[CV 4/5] END C=100, loss=squared_hinge, max_iter=1000, tol=0.001;, score=0.614 total time=  49.2s\n"
     ]
    },
    {
     "name": "stderr",
     "output_type": "stream",
     "text": [
      "/Users/anusha/Desktop/Neuroinformatics_Internship/HopkinsGeneClassificationProj/env/lib/python3.12/site-packages/sklearn/svm/_base.py:1235: ConvergenceWarning: Liblinear failed to converge, increase the number of iterations.\n",
      "  warnings.warn(\n"
     ]
    },
    {
     "name": "stdout",
     "output_type": "stream",
     "text": [
      "[CV 5/5] END C=100, loss=squared_hinge, max_iter=1000, tol=0.001;, score=0.609 total time=  31.2s\n"
     ]
    },
    {
     "name": "stderr",
     "output_type": "stream",
     "text": [
      "/Users/anusha/Desktop/Neuroinformatics_Internship/HopkinsGeneClassificationProj/env/lib/python3.12/site-packages/sklearn/svm/_base.py:1235: ConvergenceWarning: Liblinear failed to converge, increase the number of iterations.\n",
      "  warnings.warn(\n"
     ]
    },
    {
     "name": "stdout",
     "output_type": "stream",
     "text": [
      "[CV 1/5] END C=100, loss=squared_hinge, max_iter=1000, tol=0.0001;, score=0.602 total time= 1.0min\n"
     ]
    },
    {
     "name": "stderr",
     "output_type": "stream",
     "text": [
      "/Users/anusha/Desktop/Neuroinformatics_Internship/HopkinsGeneClassificationProj/env/lib/python3.12/site-packages/sklearn/svm/_base.py:1235: ConvergenceWarning: Liblinear failed to converge, increase the number of iterations.\n",
      "  warnings.warn(\n"
     ]
    },
    {
     "name": "stdout",
     "output_type": "stream",
     "text": [
      "[CV 2/5] END C=100, loss=squared_hinge, max_iter=1000, tol=0.0001;, score=0.599 total time=  49.3s\n"
     ]
    },
    {
     "name": "stderr",
     "output_type": "stream",
     "text": [
      "/Users/anusha/Desktop/Neuroinformatics_Internship/HopkinsGeneClassificationProj/env/lib/python3.12/site-packages/sklearn/svm/_base.py:1235: ConvergenceWarning: Liblinear failed to converge, increase the number of iterations.\n",
      "  warnings.warn(\n"
     ]
    },
    {
     "name": "stdout",
     "output_type": "stream",
     "text": [
      "[CV 3/5] END C=100, loss=squared_hinge, max_iter=1000, tol=0.0001;, score=0.612 total time= 1.2min\n"
     ]
    },
    {
     "name": "stderr",
     "output_type": "stream",
     "text": [
      "/Users/anusha/Desktop/Neuroinformatics_Internship/HopkinsGeneClassificationProj/env/lib/python3.12/site-packages/sklearn/svm/_base.py:1235: ConvergenceWarning: Liblinear failed to converge, increase the number of iterations.\n",
      "  warnings.warn(\n"
     ]
    },
    {
     "name": "stdout",
     "output_type": "stream",
     "text": [
      "[CV 4/5] END C=100, loss=squared_hinge, max_iter=1000, tol=0.0001;, score=0.607 total time=  53.8s\n"
     ]
    },
    {
     "name": "stderr",
     "output_type": "stream",
     "text": [
      "/Users/anusha/Desktop/Neuroinformatics_Internship/HopkinsGeneClassificationProj/env/lib/python3.12/site-packages/sklearn/svm/_base.py:1235: ConvergenceWarning: Liblinear failed to converge, increase the number of iterations.\n",
      "  warnings.warn(\n"
     ]
    },
    {
     "name": "stdout",
     "output_type": "stream",
     "text": [
      "[CV 5/5] END C=100, loss=squared_hinge, max_iter=1000, tol=0.0001;, score=0.605 total time=  49.4s\n",
      "[CV 1/5] END C=100, loss=squared_hinge, max_iter=3000, tol=1;, score=0.627 total time=   0.2s\n",
      "[CV 2/5] END C=100, loss=squared_hinge, max_iter=3000, tol=1;, score=0.620 total time=   1.0s\n",
      "[CV 3/5] END C=100, loss=squared_hinge, max_iter=3000, tol=1;, score=0.633 total time=   0.7s\n",
      "[CV 4/5] END C=100, loss=squared_hinge, max_iter=3000, tol=1;, score=0.627 total time=   0.3s\n",
      "[CV 5/5] END C=100, loss=squared_hinge, max_iter=3000, tol=1;, score=0.625 total time=   0.5s\n",
      "[CV 1/5] END C=100, loss=squared_hinge, max_iter=3000, tol=0.1;, score=0.620 total time=   1.2s\n",
      "[CV 2/5] END C=100, loss=squared_hinge, max_iter=3000, tol=0.1;, score=0.619 total time=   0.7s\n",
      "[CV 3/5] END C=100, loss=squared_hinge, max_iter=3000, tol=0.1;, score=0.634 total time=   0.8s\n",
      "[CV 4/5] END C=100, loss=squared_hinge, max_iter=3000, tol=0.1;, score=0.620 total time=   0.5s\n",
      "[CV 5/5] END C=100, loss=squared_hinge, max_iter=3000, tol=0.1;, score=0.625 total time=   0.6s\n"
     ]
    },
    {
     "name": "stderr",
     "output_type": "stream",
     "text": [
      "/Users/anusha/Desktop/Neuroinformatics_Internship/HopkinsGeneClassificationProj/env/lib/python3.12/site-packages/sklearn/svm/_base.py:1235: ConvergenceWarning: Liblinear failed to converge, increase the number of iterations.\n",
      "  warnings.warn(\n"
     ]
    },
    {
     "name": "stdout",
     "output_type": "stream",
     "text": [
      "[CV 1/5] END C=100, loss=squared_hinge, max_iter=3000, tol=0.01;, score=0.608 total time=  41.2s\n",
      "[CV 2/5] END C=100, loss=squared_hinge, max_iter=3000, tol=0.01;, score=0.603 total time=  32.5s\n"
     ]
    },
    {
     "name": "stderr",
     "output_type": "stream",
     "text": [
      "/Users/anusha/Desktop/Neuroinformatics_Internship/HopkinsGeneClassificationProj/env/lib/python3.12/site-packages/sklearn/svm/_base.py:1235: ConvergenceWarning: Liblinear failed to converge, increase the number of iterations.\n",
      "  warnings.warn(\n"
     ]
    },
    {
     "name": "stdout",
     "output_type": "stream",
     "text": [
      "[CV 3/5] END C=100, loss=squared_hinge, max_iter=3000, tol=0.01;, score=0.630 total time=  22.4s\n"
     ]
    },
    {
     "name": "stderr",
     "output_type": "stream",
     "text": [
      "/Users/anusha/Desktop/Neuroinformatics_Internship/HopkinsGeneClassificationProj/env/lib/python3.12/site-packages/sklearn/svm/_base.py:1235: ConvergenceWarning: Liblinear failed to converge, increase the number of iterations.\n",
      "  warnings.warn(\n"
     ]
    },
    {
     "name": "stdout",
     "output_type": "stream",
     "text": [
      "[CV 4/5] END C=100, loss=squared_hinge, max_iter=3000, tol=0.01;, score=0.620 total time=  22.8s\n"
     ]
    },
    {
     "name": "stderr",
     "output_type": "stream",
     "text": [
      "/Users/anusha/Desktop/Neuroinformatics_Internship/HopkinsGeneClassificationProj/env/lib/python3.12/site-packages/sklearn/svm/_base.py:1235: ConvergenceWarning: Liblinear failed to converge, increase the number of iterations.\n",
      "  warnings.warn(\n"
     ]
    },
    {
     "name": "stdout",
     "output_type": "stream",
     "text": [
      "[CV 5/5] END C=100, loss=squared_hinge, max_iter=3000, tol=0.01;, score=0.615 total time=  27.2s\n"
     ]
    },
    {
     "name": "stderr",
     "output_type": "stream",
     "text": [
      "/Users/anusha/Desktop/Neuroinformatics_Internship/HopkinsGeneClassificationProj/env/lib/python3.12/site-packages/sklearn/svm/_base.py:1235: ConvergenceWarning: Liblinear failed to converge, increase the number of iterations.\n",
      "  warnings.warn(\n"
     ]
    },
    {
     "name": "stdout",
     "output_type": "stream",
     "text": [
      "[CV 1/5] END C=100, loss=squared_hinge, max_iter=3000, tol=0.001;, score=0.600 total time= 1.3min\n"
     ]
    },
    {
     "name": "stderr",
     "output_type": "stream",
     "text": [
      "/Users/anusha/Desktop/Neuroinformatics_Internship/HopkinsGeneClassificationProj/env/lib/python3.12/site-packages/sklearn/svm/_base.py:1235: ConvergenceWarning: Liblinear failed to converge, increase the number of iterations.\n",
      "  warnings.warn(\n"
     ]
    },
    {
     "name": "stdout",
     "output_type": "stream",
     "text": [
      "[CV 2/5] END C=100, loss=squared_hinge, max_iter=3000, tol=0.001;, score=0.600 total time= 1.1min\n"
     ]
    },
    {
     "name": "stderr",
     "output_type": "stream",
     "text": [
      "/Users/anusha/Desktop/Neuroinformatics_Internship/HopkinsGeneClassificationProj/env/lib/python3.12/site-packages/sklearn/svm/_base.py:1235: ConvergenceWarning: Liblinear failed to converge, increase the number of iterations.\n",
      "  warnings.warn(\n"
     ]
    },
    {
     "name": "stdout",
     "output_type": "stream",
     "text": [
      "[CV 3/5] END C=100, loss=squared_hinge, max_iter=3000, tol=0.001;, score=0.610 total time= 9.0min\n"
     ]
    },
    {
     "name": "stderr",
     "output_type": "stream",
     "text": [
      "/Users/anusha/Desktop/Neuroinformatics_Internship/HopkinsGeneClassificationProj/env/lib/python3.12/site-packages/sklearn/svm/_base.py:1235: ConvergenceWarning: Liblinear failed to converge, increase the number of iterations.\n",
      "  warnings.warn(\n"
     ]
    },
    {
     "name": "stdout",
     "output_type": "stream",
     "text": [
      "[CV 4/5] END C=100, loss=squared_hinge, max_iter=3000, tol=0.001;, score=0.614 total time=10.1min\n"
     ]
    },
    {
     "name": "stderr",
     "output_type": "stream",
     "text": [
      "/Users/anusha/Desktop/Neuroinformatics_Internship/HopkinsGeneClassificationProj/env/lib/python3.12/site-packages/sklearn/svm/_base.py:1235: ConvergenceWarning: Liblinear failed to converge, increase the number of iterations.\n",
      "  warnings.warn(\n"
     ]
    },
    {
     "name": "stdout",
     "output_type": "stream",
     "text": [
      "[CV 5/5] END C=100, loss=squared_hinge, max_iter=3000, tol=0.001;, score=0.609 total time= 1.1min\n"
     ]
    },
    {
     "name": "stderr",
     "output_type": "stream",
     "text": [
      "/Users/anusha/Desktop/Neuroinformatics_Internship/HopkinsGeneClassificationProj/env/lib/python3.12/site-packages/sklearn/svm/_base.py:1235: ConvergenceWarning: Liblinear failed to converge, increase the number of iterations.\n",
      "  warnings.warn(\n"
     ]
    },
    {
     "name": "stdout",
     "output_type": "stream",
     "text": [
      "[CV 1/5] END C=100, loss=squared_hinge, max_iter=3000, tol=0.0001;, score=0.602 total time= 1.4min\n"
     ]
    },
    {
     "name": "stderr",
     "output_type": "stream",
     "text": [
      "/Users/anusha/Desktop/Neuroinformatics_Internship/HopkinsGeneClassificationProj/env/lib/python3.12/site-packages/sklearn/svm/_base.py:1235: ConvergenceWarning: Liblinear failed to converge, increase the number of iterations.\n",
      "  warnings.warn(\n"
     ]
    },
    {
     "name": "stdout",
     "output_type": "stream",
     "text": [
      "[CV 2/5] END C=100, loss=squared_hinge, max_iter=3000, tol=0.0001;, score=0.599 total time=  59.4s\n"
     ]
    },
    {
     "name": "stderr",
     "output_type": "stream",
     "text": [
      "/Users/anusha/Desktop/Neuroinformatics_Internship/HopkinsGeneClassificationProj/env/lib/python3.12/site-packages/sklearn/svm/_base.py:1235: ConvergenceWarning: Liblinear failed to converge, increase the number of iterations.\n",
      "  warnings.warn(\n"
     ]
    },
    {
     "name": "stdout",
     "output_type": "stream",
     "text": [
      "[CV 3/5] END C=100, loss=squared_hinge, max_iter=3000, tol=0.0001;, score=0.612 total time= 1.3min\n"
     ]
    },
    {
     "name": "stderr",
     "output_type": "stream",
     "text": [
      "/Users/anusha/Desktop/Neuroinformatics_Internship/HopkinsGeneClassificationProj/env/lib/python3.12/site-packages/sklearn/svm/_base.py:1235: ConvergenceWarning: Liblinear failed to converge, increase the number of iterations.\n",
      "  warnings.warn(\n"
     ]
    },
    {
     "name": "stdout",
     "output_type": "stream",
     "text": [
      "[CV 4/5] END C=100, loss=squared_hinge, max_iter=3000, tol=0.0001;, score=0.607 total time= 1.0min\n"
     ]
    },
    {
     "name": "stderr",
     "output_type": "stream",
     "text": [
      "/Users/anusha/Desktop/Neuroinformatics_Internship/HopkinsGeneClassificationProj/env/lib/python3.12/site-packages/sklearn/svm/_base.py:1235: ConvergenceWarning: Liblinear failed to converge, increase the number of iterations.\n",
      "  warnings.warn(\n"
     ]
    },
    {
     "name": "stdout",
     "output_type": "stream",
     "text": [
      "[CV 5/5] END C=100, loss=squared_hinge, max_iter=3000, tol=0.0001;, score=0.605 total time=  48.0s\n",
      "[CV 1/5] END C=100, loss=squared_hinge, max_iter=5000, tol=1;, score=0.627 total time=   0.1s\n",
      "[CV 2/5] END C=100, loss=squared_hinge, max_iter=5000, tol=1;, score=0.620 total time=   0.3s\n",
      "[CV 3/5] END C=100, loss=squared_hinge, max_iter=5000, tol=1;, score=0.633 total time=   0.3s\n",
      "[CV 4/5] END C=100, loss=squared_hinge, max_iter=5000, tol=1;, score=0.627 total time=   0.2s\n",
      "[CV 5/5] END C=100, loss=squared_hinge, max_iter=5000, tol=1;, score=0.625 total time=   0.3s\n",
      "[CV 1/5] END C=100, loss=squared_hinge, max_iter=5000, tol=0.1;, score=0.620 total time=   0.9s\n",
      "[CV 2/5] END C=100, loss=squared_hinge, max_iter=5000, tol=0.1;, score=0.619 total time=   0.6s\n",
      "[CV 3/5] END C=100, loss=squared_hinge, max_iter=5000, tol=0.1;, score=0.634 total time=   0.6s\n",
      "[CV 4/5] END C=100, loss=squared_hinge, max_iter=5000, tol=0.1;, score=0.620 total time=   0.4s\n",
      "[CV 5/5] END C=100, loss=squared_hinge, max_iter=5000, tol=0.1;, score=0.625 total time=   0.8s\n",
      "[CV 1/5] END C=100, loss=squared_hinge, max_iter=5000, tol=0.01;, score=0.608 total time=  37.1s\n",
      "[CV 2/5] END C=100, loss=squared_hinge, max_iter=5000, tol=0.01;, score=0.603 total time=  30.1s\n",
      "[CV 3/5] END C=100, loss=squared_hinge, max_iter=5000, tol=0.01;, score=0.630 total time=  22.0s\n",
      "[CV 4/5] END C=100, loss=squared_hinge, max_iter=5000, tol=0.01;, score=0.620 total time=  23.4s\n",
      "[CV 5/5] END C=100, loss=squared_hinge, max_iter=5000, tol=0.01;, score=0.615 total time=  26.9s\n"
     ]
    },
    {
     "name": "stderr",
     "output_type": "stream",
     "text": [
      "/Users/anusha/Desktop/Neuroinformatics_Internship/HopkinsGeneClassificationProj/env/lib/python3.12/site-packages/sklearn/svm/_base.py:1235: ConvergenceWarning: Liblinear failed to converge, increase the number of iterations.\n",
      "  warnings.warn(\n"
     ]
    },
    {
     "name": "stdout",
     "output_type": "stream",
     "text": [
      "[CV 1/5] END C=100, loss=squared_hinge, max_iter=5000, tol=0.001;, score=0.600 total time= 1.4min\n",
      "[CV 2/5] END C=100, loss=squared_hinge, max_iter=5000, tol=0.001;, score=0.600 total time= 1.1min\n"
     ]
    },
    {
     "name": "stderr",
     "output_type": "stream",
     "text": [
      "/Users/anusha/Desktop/Neuroinformatics_Internship/HopkinsGeneClassificationProj/env/lib/python3.12/site-packages/sklearn/svm/_base.py:1235: ConvergenceWarning: Liblinear failed to converge, increase the number of iterations.\n",
      "  warnings.warn(\n"
     ]
    },
    {
     "name": "stdout",
     "output_type": "stream",
     "text": [
      "[CV 3/5] END C=100, loss=squared_hinge, max_iter=5000, tol=0.001;, score=0.610 total time= 1.3min\n"
     ]
    },
    {
     "name": "stderr",
     "output_type": "stream",
     "text": [
      "/Users/anusha/Desktop/Neuroinformatics_Internship/HopkinsGeneClassificationProj/env/lib/python3.12/site-packages/sklearn/svm/_base.py:1235: ConvergenceWarning: Liblinear failed to converge, increase the number of iterations.\n",
      "  warnings.warn(\n"
     ]
    },
    {
     "name": "stdout",
     "output_type": "stream",
     "text": [
      "[CV 4/5] END C=100, loss=squared_hinge, max_iter=5000, tol=0.001;, score=0.613 total time= 1.1min\n"
     ]
    },
    {
     "name": "stderr",
     "output_type": "stream",
     "text": [
      "/Users/anusha/Desktop/Neuroinformatics_Internship/HopkinsGeneClassificationProj/env/lib/python3.12/site-packages/sklearn/svm/_base.py:1235: ConvergenceWarning: Liblinear failed to converge, increase the number of iterations.\n",
      "  warnings.warn(\n"
     ]
    },
    {
     "name": "stdout",
     "output_type": "stream",
     "text": [
      "[CV 5/5] END C=100, loss=squared_hinge, max_iter=5000, tol=0.001;, score=0.609 total time=  47.3s\n"
     ]
    },
    {
     "name": "stderr",
     "output_type": "stream",
     "text": [
      "/Users/anusha/Desktop/Neuroinformatics_Internship/HopkinsGeneClassificationProj/env/lib/python3.12/site-packages/sklearn/svm/_base.py:1235: ConvergenceWarning: Liblinear failed to converge, increase the number of iterations.\n",
      "  warnings.warn(\n"
     ]
    },
    {
     "name": "stdout",
     "output_type": "stream",
     "text": [
      "[CV 1/5] END C=100, loss=squared_hinge, max_iter=5000, tol=0.0001;, score=0.602 total time= 1.5min\n",
      "[CV 2/5] END C=100, loss=squared_hinge, max_iter=5000, tol=0.0001;, score=0.599 total time= 1.2min\n"
     ]
    },
    {
     "name": "stderr",
     "output_type": "stream",
     "text": [
      "/Users/anusha/Desktop/Neuroinformatics_Internship/HopkinsGeneClassificationProj/env/lib/python3.12/site-packages/sklearn/svm/_base.py:1235: ConvergenceWarning: Liblinear failed to converge, increase the number of iterations.\n",
      "  warnings.warn(\n"
     ]
    },
    {
     "name": "stdout",
     "output_type": "stream",
     "text": [
      "[CV 3/5] END C=100, loss=squared_hinge, max_iter=5000, tol=0.0001;, score=0.612 total time= 1.8min\n"
     ]
    },
    {
     "name": "stderr",
     "output_type": "stream",
     "text": [
      "/Users/anusha/Desktop/Neuroinformatics_Internship/HopkinsGeneClassificationProj/env/lib/python3.12/site-packages/sklearn/svm/_base.py:1235: ConvergenceWarning: Liblinear failed to converge, increase the number of iterations.\n",
      "  warnings.warn(\n"
     ]
    },
    {
     "name": "stdout",
     "output_type": "stream",
     "text": [
      "[CV 4/5] END C=100, loss=squared_hinge, max_iter=5000, tol=0.0001;, score=0.606 total time= 1.3min\n"
     ]
    },
    {
     "name": "stderr",
     "output_type": "stream",
     "text": [
      "/Users/anusha/Desktop/Neuroinformatics_Internship/HopkinsGeneClassificationProj/env/lib/python3.12/site-packages/sklearn/svm/_base.py:1235: ConvergenceWarning: Liblinear failed to converge, increase the number of iterations.\n",
      "  warnings.warn(\n"
     ]
    },
    {
     "name": "stdout",
     "output_type": "stream",
     "text": [
      "[CV 5/5] END C=100, loss=squared_hinge, max_iter=5000, tol=0.0001;, score=0.605 total time= 1.0min\n"
     ]
    },
    {
     "name": "stderr",
     "output_type": "stream",
     "text": [
      "/Users/anusha/Desktop/Neuroinformatics_Internship/HopkinsGeneClassificationProj/env/lib/python3.12/site-packages/sklearn/svm/_base.py:1235: ConvergenceWarning: Liblinear failed to converge, increase the number of iterations.\n",
      "  warnings.warn(\n"
     ]
    },
    {
     "name": "stdout",
     "output_type": "stream",
     "text": [
      "[CV 1/5] END C=1000, loss=hinge, max_iter=1000, tol=1;, score=0.575 total time=  10.3s\n"
     ]
    },
    {
     "name": "stderr",
     "output_type": "stream",
     "text": [
      "/Users/anusha/Desktop/Neuroinformatics_Internship/HopkinsGeneClassificationProj/env/lib/python3.12/site-packages/sklearn/svm/_base.py:1235: ConvergenceWarning: Liblinear failed to converge, increase the number of iterations.\n",
      "  warnings.warn(\n"
     ]
    },
    {
     "name": "stdout",
     "output_type": "stream",
     "text": [
      "[CV 2/5] END C=1000, loss=hinge, max_iter=1000, tol=1;, score=0.516 total time=  10.1s\n"
     ]
    },
    {
     "name": "stderr",
     "output_type": "stream",
     "text": [
      "/Users/anusha/Desktop/Neuroinformatics_Internship/HopkinsGeneClassificationProj/env/lib/python3.12/site-packages/sklearn/svm/_base.py:1235: ConvergenceWarning: Liblinear failed to converge, increase the number of iterations.\n",
      "  warnings.warn(\n"
     ]
    },
    {
     "name": "stdout",
     "output_type": "stream",
     "text": [
      "[CV 3/5] END C=1000, loss=hinge, max_iter=1000, tol=1;, score=0.572 total time=  11.1s\n"
     ]
    },
    {
     "name": "stderr",
     "output_type": "stream",
     "text": [
      "/Users/anusha/Desktop/Neuroinformatics_Internship/HopkinsGeneClassificationProj/env/lib/python3.12/site-packages/sklearn/svm/_base.py:1235: ConvergenceWarning: Liblinear failed to converge, increase the number of iterations.\n",
      "  warnings.warn(\n"
     ]
    },
    {
     "name": "stdout",
     "output_type": "stream",
     "text": [
      "[CV 4/5] END C=1000, loss=hinge, max_iter=1000, tol=1;, score=0.589 total time=  10.0s\n"
     ]
    },
    {
     "name": "stderr",
     "output_type": "stream",
     "text": [
      "/Users/anusha/Desktop/Neuroinformatics_Internship/HopkinsGeneClassificationProj/env/lib/python3.12/site-packages/sklearn/svm/_base.py:1235: ConvergenceWarning: Liblinear failed to converge, increase the number of iterations.\n",
      "  warnings.warn(\n"
     ]
    },
    {
     "name": "stdout",
     "output_type": "stream",
     "text": [
      "[CV 5/5] END C=1000, loss=hinge, max_iter=1000, tol=1;, score=0.590 total time=  10.5s\n"
     ]
    },
    {
     "name": "stderr",
     "output_type": "stream",
     "text": [
      "/Users/anusha/Desktop/Neuroinformatics_Internship/HopkinsGeneClassificationProj/env/lib/python3.12/site-packages/sklearn/svm/_base.py:1235: ConvergenceWarning: Liblinear failed to converge, increase the number of iterations.\n",
      "  warnings.warn(\n"
     ]
    },
    {
     "name": "stdout",
     "output_type": "stream",
     "text": [
      "[CV 1/5] END C=1000, loss=hinge, max_iter=1000, tol=0.1;, score=0.600 total time=  10.6s\n"
     ]
    },
    {
     "name": "stderr",
     "output_type": "stream",
     "text": [
      "/Users/anusha/Desktop/Neuroinformatics_Internship/HopkinsGeneClassificationProj/env/lib/python3.12/site-packages/sklearn/svm/_base.py:1235: ConvergenceWarning: Liblinear failed to converge, increase the number of iterations.\n",
      "  warnings.warn(\n"
     ]
    },
    {
     "name": "stdout",
     "output_type": "stream",
     "text": [
      "[CV 2/5] END C=1000, loss=hinge, max_iter=1000, tol=0.1;, score=0.604 total time=  10.2s\n"
     ]
    },
    {
     "name": "stderr",
     "output_type": "stream",
     "text": [
      "/Users/anusha/Desktop/Neuroinformatics_Internship/HopkinsGeneClassificationProj/env/lib/python3.12/site-packages/sklearn/svm/_base.py:1235: ConvergenceWarning: Liblinear failed to converge, increase the number of iterations.\n",
      "  warnings.warn(\n"
     ]
    },
    {
     "name": "stdout",
     "output_type": "stream",
     "text": [
      "[CV 3/5] END C=1000, loss=hinge, max_iter=1000, tol=0.1;, score=0.501 total time=  10.5s\n"
     ]
    },
    {
     "name": "stderr",
     "output_type": "stream",
     "text": [
      "/Users/anusha/Desktop/Neuroinformatics_Internship/HopkinsGeneClassificationProj/env/lib/python3.12/site-packages/sklearn/svm/_base.py:1235: ConvergenceWarning: Liblinear failed to converge, increase the number of iterations.\n",
      "  warnings.warn(\n"
     ]
    },
    {
     "name": "stdout",
     "output_type": "stream",
     "text": [
      "[CV 4/5] END C=1000, loss=hinge, max_iter=1000, tol=0.1;, score=0.563 total time=  10.9s\n"
     ]
    },
    {
     "name": "stderr",
     "output_type": "stream",
     "text": [
      "/Users/anusha/Desktop/Neuroinformatics_Internship/HopkinsGeneClassificationProj/env/lib/python3.12/site-packages/sklearn/svm/_base.py:1235: ConvergenceWarning: Liblinear failed to converge, increase the number of iterations.\n",
      "  warnings.warn(\n"
     ]
    },
    {
     "name": "stdout",
     "output_type": "stream",
     "text": [
      "[CV 5/5] END C=1000, loss=hinge, max_iter=1000, tol=0.1;, score=0.557 total time=  10.4s\n"
     ]
    },
    {
     "name": "stderr",
     "output_type": "stream",
     "text": [
      "/Users/anusha/Desktop/Neuroinformatics_Internship/HopkinsGeneClassificationProj/env/lib/python3.12/site-packages/sklearn/svm/_base.py:1235: ConvergenceWarning: Liblinear failed to converge, increase the number of iterations.\n",
      "  warnings.warn(\n"
     ]
    },
    {
     "name": "stdout",
     "output_type": "stream",
     "text": [
      "[CV 1/5] END C=1000, loss=hinge, max_iter=1000, tol=0.01;, score=0.498 total time=  10.6s\n"
     ]
    },
    {
     "name": "stderr",
     "output_type": "stream",
     "text": [
      "/Users/anusha/Desktop/Neuroinformatics_Internship/HopkinsGeneClassificationProj/env/lib/python3.12/site-packages/sklearn/svm/_base.py:1235: ConvergenceWarning: Liblinear failed to converge, increase the number of iterations.\n",
      "  warnings.warn(\n"
     ]
    },
    {
     "name": "stdout",
     "output_type": "stream",
     "text": [
      "[CV 2/5] END C=1000, loss=hinge, max_iter=1000, tol=0.01;, score=0.536 total time=  11.0s\n"
     ]
    },
    {
     "name": "stderr",
     "output_type": "stream",
     "text": [
      "/Users/anusha/Desktop/Neuroinformatics_Internship/HopkinsGeneClassificationProj/env/lib/python3.12/site-packages/sklearn/svm/_base.py:1235: ConvergenceWarning: Liblinear failed to converge, increase the number of iterations.\n",
      "  warnings.warn(\n"
     ]
    },
    {
     "name": "stdout",
     "output_type": "stream",
     "text": [
      "[CV 3/5] END C=1000, loss=hinge, max_iter=1000, tol=0.01;, score=0.576 total time=  10.7s\n"
     ]
    },
    {
     "name": "stderr",
     "output_type": "stream",
     "text": [
      "/Users/anusha/Desktop/Neuroinformatics_Internship/HopkinsGeneClassificationProj/env/lib/python3.12/site-packages/sklearn/svm/_base.py:1235: ConvergenceWarning: Liblinear failed to converge, increase the number of iterations.\n",
      "  warnings.warn(\n"
     ]
    },
    {
     "name": "stdout",
     "output_type": "stream",
     "text": [
      "[CV 4/5] END C=1000, loss=hinge, max_iter=1000, tol=0.01;, score=0.574 total time=  10.2s\n"
     ]
    },
    {
     "name": "stderr",
     "output_type": "stream",
     "text": [
      "/Users/anusha/Desktop/Neuroinformatics_Internship/HopkinsGeneClassificationProj/env/lib/python3.12/site-packages/sklearn/svm/_base.py:1235: ConvergenceWarning: Liblinear failed to converge, increase the number of iterations.\n",
      "  warnings.warn(\n"
     ]
    },
    {
     "name": "stdout",
     "output_type": "stream",
     "text": [
      "[CV 5/5] END C=1000, loss=hinge, max_iter=1000, tol=0.01;, score=0.610 total time=  10.5s\n"
     ]
    },
    {
     "name": "stderr",
     "output_type": "stream",
     "text": [
      "/Users/anusha/Desktop/Neuroinformatics_Internship/HopkinsGeneClassificationProj/env/lib/python3.12/site-packages/sklearn/svm/_base.py:1235: ConvergenceWarning: Liblinear failed to converge, increase the number of iterations.\n",
      "  warnings.warn(\n"
     ]
    },
    {
     "name": "stdout",
     "output_type": "stream",
     "text": [
      "[CV 1/5] END C=1000, loss=hinge, max_iter=1000, tol=0.001;, score=0.517 total time=  10.4s\n"
     ]
    },
    {
     "name": "stderr",
     "output_type": "stream",
     "text": [
      "/Users/anusha/Desktop/Neuroinformatics_Internship/HopkinsGeneClassificationProj/env/lib/python3.12/site-packages/sklearn/svm/_base.py:1235: ConvergenceWarning: Liblinear failed to converge, increase the number of iterations.\n",
      "  warnings.warn(\n"
     ]
    },
    {
     "name": "stdout",
     "output_type": "stream",
     "text": [
      "[CV 2/5] END C=1000, loss=hinge, max_iter=1000, tol=0.001;, score=0.596 total time=  10.2s\n"
     ]
    },
    {
     "name": "stderr",
     "output_type": "stream",
     "text": [
      "/Users/anusha/Desktop/Neuroinformatics_Internship/HopkinsGeneClassificationProj/env/lib/python3.12/site-packages/sklearn/svm/_base.py:1235: ConvergenceWarning: Liblinear failed to converge, increase the number of iterations.\n",
      "  warnings.warn(\n"
     ]
    },
    {
     "name": "stdout",
     "output_type": "stream",
     "text": [
      "[CV 3/5] END C=1000, loss=hinge, max_iter=1000, tol=0.001;, score=0.579 total time=  11.2s\n"
     ]
    },
    {
     "name": "stderr",
     "output_type": "stream",
     "text": [
      "/Users/anusha/Desktop/Neuroinformatics_Internship/HopkinsGeneClassificationProj/env/lib/python3.12/site-packages/sklearn/svm/_base.py:1235: ConvergenceWarning: Liblinear failed to converge, increase the number of iterations.\n",
      "  warnings.warn(\n"
     ]
    },
    {
     "name": "stdout",
     "output_type": "stream",
     "text": [
      "[CV 4/5] END C=1000, loss=hinge, max_iter=1000, tol=0.001;, score=0.537 total time=  10.9s\n"
     ]
    },
    {
     "name": "stderr",
     "output_type": "stream",
     "text": [
      "/Users/anusha/Desktop/Neuroinformatics_Internship/HopkinsGeneClassificationProj/env/lib/python3.12/site-packages/sklearn/svm/_base.py:1235: ConvergenceWarning: Liblinear failed to converge, increase the number of iterations.\n",
      "  warnings.warn(\n"
     ]
    },
    {
     "name": "stdout",
     "output_type": "stream",
     "text": [
      "[CV 5/5] END C=1000, loss=hinge, max_iter=1000, tol=0.001;, score=0.581 total time=  10.5s\n"
     ]
    },
    {
     "name": "stderr",
     "output_type": "stream",
     "text": [
      "/Users/anusha/Desktop/Neuroinformatics_Internship/HopkinsGeneClassificationProj/env/lib/python3.12/site-packages/sklearn/svm/_base.py:1235: ConvergenceWarning: Liblinear failed to converge, increase the number of iterations.\n",
      "  warnings.warn(\n"
     ]
    },
    {
     "name": "stdout",
     "output_type": "stream",
     "text": [
      "[CV 1/5] END C=1000, loss=hinge, max_iter=1000, tol=0.0001;, score=0.615 total time=  12.1s\n"
     ]
    },
    {
     "name": "stderr",
     "output_type": "stream",
     "text": [
      "/Users/anusha/Desktop/Neuroinformatics_Internship/HopkinsGeneClassificationProj/env/lib/python3.12/site-packages/sklearn/svm/_base.py:1235: ConvergenceWarning: Liblinear failed to converge, increase the number of iterations.\n",
      "  warnings.warn(\n"
     ]
    },
    {
     "name": "stdout",
     "output_type": "stream",
     "text": [
      "[CV 2/5] END C=1000, loss=hinge, max_iter=1000, tol=0.0001;, score=0.557 total time=  10.5s\n"
     ]
    },
    {
     "name": "stderr",
     "output_type": "stream",
     "text": [
      "/Users/anusha/Desktop/Neuroinformatics_Internship/HopkinsGeneClassificationProj/env/lib/python3.12/site-packages/sklearn/svm/_base.py:1235: ConvergenceWarning: Liblinear failed to converge, increase the number of iterations.\n",
      "  warnings.warn(\n"
     ]
    },
    {
     "name": "stdout",
     "output_type": "stream",
     "text": [
      "[CV 3/5] END C=1000, loss=hinge, max_iter=1000, tol=0.0001;, score=0.562 total time=  10.5s\n"
     ]
    },
    {
     "name": "stderr",
     "output_type": "stream",
     "text": [
      "/Users/anusha/Desktop/Neuroinformatics_Internship/HopkinsGeneClassificationProj/env/lib/python3.12/site-packages/sklearn/svm/_base.py:1235: ConvergenceWarning: Liblinear failed to converge, increase the number of iterations.\n",
      "  warnings.warn(\n"
     ]
    },
    {
     "name": "stdout",
     "output_type": "stream",
     "text": [
      "[CV 4/5] END C=1000, loss=hinge, max_iter=1000, tol=0.0001;, score=0.597 total time=  10.1s\n"
     ]
    },
    {
     "name": "stderr",
     "output_type": "stream",
     "text": [
      "/Users/anusha/Desktop/Neuroinformatics_Internship/HopkinsGeneClassificationProj/env/lib/python3.12/site-packages/sklearn/svm/_base.py:1235: ConvergenceWarning: Liblinear failed to converge, increase the number of iterations.\n",
      "  warnings.warn(\n"
     ]
    },
    {
     "name": "stdout",
     "output_type": "stream",
     "text": [
      "[CV 5/5] END C=1000, loss=hinge, max_iter=1000, tol=0.0001;, score=0.570 total time=  10.1s\n"
     ]
    },
    {
     "name": "stderr",
     "output_type": "stream",
     "text": [
      "/Users/anusha/Desktop/Neuroinformatics_Internship/HopkinsGeneClassificationProj/env/lib/python3.12/site-packages/sklearn/svm/_base.py:1235: ConvergenceWarning: Liblinear failed to converge, increase the number of iterations.\n",
      "  warnings.warn(\n"
     ]
    },
    {
     "name": "stdout",
     "output_type": "stream",
     "text": [
      "[CV 1/5] END C=1000, loss=hinge, max_iter=3000, tol=1;, score=0.616 total time=  27.2s\n"
     ]
    },
    {
     "name": "stderr",
     "output_type": "stream",
     "text": [
      "/Users/anusha/Desktop/Neuroinformatics_Internship/HopkinsGeneClassificationProj/env/lib/python3.12/site-packages/sklearn/svm/_base.py:1235: ConvergenceWarning: Liblinear failed to converge, increase the number of iterations.\n",
      "  warnings.warn(\n"
     ]
    },
    {
     "name": "stdout",
     "output_type": "stream",
     "text": [
      "[CV 2/5] END C=1000, loss=hinge, max_iter=3000, tol=1;, score=0.599 total time=  27.4s\n"
     ]
    },
    {
     "name": "stderr",
     "output_type": "stream",
     "text": [
      "/Users/anusha/Desktop/Neuroinformatics_Internship/HopkinsGeneClassificationProj/env/lib/python3.12/site-packages/sklearn/svm/_base.py:1235: ConvergenceWarning: Liblinear failed to converge, increase the number of iterations.\n",
      "  warnings.warn(\n"
     ]
    },
    {
     "name": "stdout",
     "output_type": "stream",
     "text": [
      "[CV 3/5] END C=1000, loss=hinge, max_iter=3000, tol=1;, score=0.629 total time=  28.3s\n"
     ]
    },
    {
     "name": "stderr",
     "output_type": "stream",
     "text": [
      "/Users/anusha/Desktop/Neuroinformatics_Internship/HopkinsGeneClassificationProj/env/lib/python3.12/site-packages/sklearn/svm/_base.py:1235: ConvergenceWarning: Liblinear failed to converge, increase the number of iterations.\n",
      "  warnings.warn(\n"
     ]
    },
    {
     "name": "stdout",
     "output_type": "stream",
     "text": [
      "[CV 4/5] END C=1000, loss=hinge, max_iter=3000, tol=1;, score=0.612 total time=  25.4s\n"
     ]
    },
    {
     "name": "stderr",
     "output_type": "stream",
     "text": [
      "/Users/anusha/Desktop/Neuroinformatics_Internship/HopkinsGeneClassificationProj/env/lib/python3.12/site-packages/sklearn/svm/_base.py:1235: ConvergenceWarning: Liblinear failed to converge, increase the number of iterations.\n",
      "  warnings.warn(\n"
     ]
    },
    {
     "name": "stdout",
     "output_type": "stream",
     "text": [
      "[CV 5/5] END C=1000, loss=hinge, max_iter=3000, tol=1;, score=0.609 total time=  28.5s\n"
     ]
    },
    {
     "name": "stderr",
     "output_type": "stream",
     "text": [
      "/Users/anusha/Desktop/Neuroinformatics_Internship/HopkinsGeneClassificationProj/env/lib/python3.12/site-packages/sklearn/svm/_base.py:1235: ConvergenceWarning: Liblinear failed to converge, increase the number of iterations.\n",
      "  warnings.warn(\n"
     ]
    },
    {
     "name": "stdout",
     "output_type": "stream",
     "text": [
      "[CV 1/5] END C=1000, loss=hinge, max_iter=3000, tol=0.1;, score=0.599 total time=  27.5s\n"
     ]
    },
    {
     "name": "stderr",
     "output_type": "stream",
     "text": [
      "/Users/anusha/Desktop/Neuroinformatics_Internship/HopkinsGeneClassificationProj/env/lib/python3.12/site-packages/sklearn/svm/_base.py:1235: ConvergenceWarning: Liblinear failed to converge, increase the number of iterations.\n",
      "  warnings.warn(\n"
     ]
    },
    {
     "name": "stdout",
     "output_type": "stream",
     "text": [
      "[CV 2/5] END C=1000, loss=hinge, max_iter=3000, tol=0.1;, score=0.600 total time=  28.1s\n"
     ]
    },
    {
     "name": "stderr",
     "output_type": "stream",
     "text": [
      "/Users/anusha/Desktop/Neuroinformatics_Internship/HopkinsGeneClassificationProj/env/lib/python3.12/site-packages/sklearn/svm/_base.py:1235: ConvergenceWarning: Liblinear failed to converge, increase the number of iterations.\n",
      "  warnings.warn(\n"
     ]
    },
    {
     "name": "stdout",
     "output_type": "stream",
     "text": [
      "[CV 3/5] END C=1000, loss=hinge, max_iter=3000, tol=0.1;, score=0.605 total time=  29.3s\n"
     ]
    },
    {
     "name": "stderr",
     "output_type": "stream",
     "text": [
      "/Users/anusha/Desktop/Neuroinformatics_Internship/HopkinsGeneClassificationProj/env/lib/python3.12/site-packages/sklearn/svm/_base.py:1235: ConvergenceWarning: Liblinear failed to converge, increase the number of iterations.\n",
      "  warnings.warn(\n"
     ]
    },
    {
     "name": "stdout",
     "output_type": "stream",
     "text": [
      "[CV 4/5] END C=1000, loss=hinge, max_iter=3000, tol=0.1;, score=0.616 total time=  27.7s\n"
     ]
    },
    {
     "name": "stderr",
     "output_type": "stream",
     "text": [
      "/Users/anusha/Desktop/Neuroinformatics_Internship/HopkinsGeneClassificationProj/env/lib/python3.12/site-packages/sklearn/svm/_base.py:1235: ConvergenceWarning: Liblinear failed to converge, increase the number of iterations.\n",
      "  warnings.warn(\n"
     ]
    },
    {
     "name": "stdout",
     "output_type": "stream",
     "text": [
      "[CV 5/5] END C=1000, loss=hinge, max_iter=3000, tol=0.1;, score=0.603 total time=  27.1s\n"
     ]
    },
    {
     "name": "stderr",
     "output_type": "stream",
     "text": [
      "/Users/anusha/Desktop/Neuroinformatics_Internship/HopkinsGeneClassificationProj/env/lib/python3.12/site-packages/sklearn/svm/_base.py:1235: ConvergenceWarning: Liblinear failed to converge, increase the number of iterations.\n",
      "  warnings.warn(\n"
     ]
    },
    {
     "name": "stdout",
     "output_type": "stream",
     "text": [
      "[CV 1/5] END C=1000, loss=hinge, max_iter=3000, tol=0.01;, score=0.588 total time=  26.8s\n"
     ]
    },
    {
     "name": "stderr",
     "output_type": "stream",
     "text": [
      "/Users/anusha/Desktop/Neuroinformatics_Internship/HopkinsGeneClassificationProj/env/lib/python3.12/site-packages/sklearn/svm/_base.py:1235: ConvergenceWarning: Liblinear failed to converge, increase the number of iterations.\n",
      "  warnings.warn(\n"
     ]
    },
    {
     "name": "stdout",
     "output_type": "stream",
     "text": [
      "[CV 2/5] END C=1000, loss=hinge, max_iter=3000, tol=0.01;, score=0.592 total time=  27.1s\n"
     ]
    },
    {
     "name": "stderr",
     "output_type": "stream",
     "text": [
      "/Users/anusha/Desktop/Neuroinformatics_Internship/HopkinsGeneClassificationProj/env/lib/python3.12/site-packages/sklearn/svm/_base.py:1235: ConvergenceWarning: Liblinear failed to converge, increase the number of iterations.\n",
      "  warnings.warn(\n"
     ]
    },
    {
     "name": "stdout",
     "output_type": "stream",
     "text": [
      "[CV 3/5] END C=1000, loss=hinge, max_iter=3000, tol=0.01;, score=0.623 total time=  27.5s\n"
     ]
    },
    {
     "name": "stderr",
     "output_type": "stream",
     "text": [
      "/Users/anusha/Desktop/Neuroinformatics_Internship/HopkinsGeneClassificationProj/env/lib/python3.12/site-packages/sklearn/svm/_base.py:1235: ConvergenceWarning: Liblinear failed to converge, increase the number of iterations.\n",
      "  warnings.warn(\n"
     ]
    },
    {
     "name": "stdout",
     "output_type": "stream",
     "text": [
      "[CV 4/5] END C=1000, loss=hinge, max_iter=3000, tol=0.01;, score=0.599 total time=  28.0s\n"
     ]
    },
    {
     "name": "stderr",
     "output_type": "stream",
     "text": [
      "/Users/anusha/Desktop/Neuroinformatics_Internship/HopkinsGeneClassificationProj/env/lib/python3.12/site-packages/sklearn/svm/_base.py:1235: ConvergenceWarning: Liblinear failed to converge, increase the number of iterations.\n",
      "  warnings.warn(\n"
     ]
    },
    {
     "name": "stdout",
     "output_type": "stream",
     "text": [
      "[CV 5/5] END C=1000, loss=hinge, max_iter=3000, tol=0.01;, score=0.602 total time=  31.0s\n"
     ]
    },
    {
     "name": "stderr",
     "output_type": "stream",
     "text": [
      "/Users/anusha/Desktop/Neuroinformatics_Internship/HopkinsGeneClassificationProj/env/lib/python3.12/site-packages/sklearn/svm/_base.py:1235: ConvergenceWarning: Liblinear failed to converge, increase the number of iterations.\n",
      "  warnings.warn(\n"
     ]
    },
    {
     "name": "stdout",
     "output_type": "stream",
     "text": [
      "[CV 1/5] END C=1000, loss=hinge, max_iter=3000, tol=0.001;, score=0.589 total time=  28.4s\n"
     ]
    },
    {
     "name": "stderr",
     "output_type": "stream",
     "text": [
      "/Users/anusha/Desktop/Neuroinformatics_Internship/HopkinsGeneClassificationProj/env/lib/python3.12/site-packages/sklearn/svm/_base.py:1235: ConvergenceWarning: Liblinear failed to converge, increase the number of iterations.\n",
      "  warnings.warn(\n"
     ]
    },
    {
     "name": "stdout",
     "output_type": "stream",
     "text": [
      "[CV 2/5] END C=1000, loss=hinge, max_iter=3000, tol=0.001;, score=0.611 total time=  29.8s\n"
     ]
    }
   ],
   "source": [
    "# GridSearch CV hyperparameter tuning\n",
    "# defining parameter range \n",
    "param_grid = {'loss':['hinge', 'squared_hinge'],\n",
    "              'tol': [1, 0.1, 0.01, 0.001, 0.0001],\n",
    "              'C': [0.1, 1, 10, 100, 1000],\n",
    "              'max_iter':[1000, 3000, 5000]   \n",
    "              }  \n",
    "  \n",
    "grid = GridSearchCV(svm_model, param_grid, refit = True, verbose = 3) \n",
    "  \n",
    "# fitting the model for grid search \n",
    "grid.fit(X_train, y_train) \n",
    "\n",
    "# print best parameter after tuning \n",
    "print(grid.best_params_) \n",
    "  \n",
    "# print how our model looks after hyper-parameter tuning \n",
    "print(grid.best_estimator_) \n",
    "\n",
    "grid_predictions = grid.predict(X_test) \n",
    "  \n",
    "# print classification report \n",
    "print(classification_report(y_test, grid_predictions)) "
   ]
  },
  {
   "cell_type": "code",
   "execution_count": null,
   "metadata": {},
   "outputs": [],
   "source": []
  }
 ],
 "metadata": {
  "kernelspec": {
   "display_name": "Python 3 (ipykernel)",
   "language": "python",
   "name": "python3"
  },
  "language_info": {
   "codemirror_mode": {
    "name": "ipython",
    "version": 3
   },
   "file_extension": ".py",
   "mimetype": "text/x-python",
   "name": "python",
   "nbconvert_exporter": "python",
   "pygments_lexer": "ipython3",
   "version": "3.12.0"
  }
 },
 "nbformat": 4,
 "nbformat_minor": 2
}
